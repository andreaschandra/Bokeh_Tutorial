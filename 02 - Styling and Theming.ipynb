{
 "cells": [
  {
   "cell_type": "markdown",
   "metadata": {},
   "source": [
    "<table style=\"float:left; border:none\">\n",
    "   <tr style=\"border:none; background-color: #ffffff\">\n",
    "       <td style=\"border:none\">\n",
    "           <a href=\"http://bokeh.pydata.org/\">     \n",
    "           <img \n",
    "               src=\"assets/bokeh-transparent.png\" \n",
    "               style=\"width:50px\"\n",
    "           >\n",
    "           </a>    \n",
    "       </td>\n",
    "       <td style=\"border:none\">\n",
    "           <h1>Bokeh Tutorial</h1>\n",
    "       </td>\n",
    "   </tr>\n",
    "</table>\n",
    "\n",
    "<div style=\"float:right;\"><h2>02. Styling and Theming</h2></div>"
   ]
  },
  {
   "cell_type": "markdown",
   "metadata": {},
   "source": [
    "In this chapter we will learn how to configure various visual aspects of our plots, and how to find out more about what an be configured. \n",
    "\n",
    "First, let's make the standard imports"
   ]
  },
  {
   "cell_type": "code",
   "execution_count": 16,
   "metadata": {
    "collapsed": true
   },
   "outputs": [],
   "source": [
    "from bokeh.io import output_notebook, show\n",
    "from bokeh.plotting import figure"
   ]
  },
  {
   "cell_type": "code",
   "execution_count": 17,
   "metadata": {
    "scrolled": true
   },
   "outputs": [
    {
     "data": {
      "text/html": [
       "\n",
       "    <div class=\"bk-root\">\n",
       "        <a href=\"https://bokeh.pydata.org\" target=\"_blank\" class=\"bk-logo bk-logo-small bk-logo-notebook\"></a>\n",
       "        <span id=\"f12f80fd-f76b-4cdf-833e-8c398b70d3c1\">Loading BokehJS ...</span>\n",
       "    </div>"
      ]
     },
     "metadata": {},
     "output_type": "display_data"
    },
    {
     "data": {
      "application/javascript": [
       "\n",
       "(function(root) {\n",
       "  function now() {\n",
       "    return new Date();\n",
       "  }\n",
       "\n",
       "  var force = true;\n",
       "\n",
       "  if (typeof (root._bokeh_onload_callbacks) === \"undefined\" || force === true) {\n",
       "    root._bokeh_onload_callbacks = [];\n",
       "    root._bokeh_is_loading = undefined;\n",
       "  }\n",
       "\n",
       "  var JS_MIME_TYPE = 'application/javascript';\n",
       "  var HTML_MIME_TYPE = 'text/html';\n",
       "  var EXEC_MIME_TYPE = 'application/vnd.bokehjs_exec.v0+json';\n",
       "  var CLASS_NAME = 'output_bokeh rendered_html';\n",
       "\n",
       "  /**\n",
       "   * Render data to the DOM node\n",
       "   */\n",
       "  function render(props, node) {\n",
       "    var script = document.createElement(\"script\");\n",
       "    node.appendChild(script);\n",
       "  }\n",
       "\n",
       "  /**\n",
       "   * Handle when an output is cleared or removed\n",
       "   */\n",
       "  function handleClearOutput(event, handle) {\n",
       "    var cell = handle.cell;\n",
       "\n",
       "    var id = cell.output_area._bokeh_element_id;\n",
       "    var server_id = cell.output_area._bokeh_server_id;\n",
       "    // Clean up Bokeh references\n",
       "    if (id !== undefined) {\n",
       "      Bokeh.index[id].model.document.clear();\n",
       "      delete Bokeh.index[id];\n",
       "    }\n",
       "\n",
       "    if (server_id !== undefined) {\n",
       "      // Clean up Bokeh references\n",
       "      var cmd = \"from bokeh.io.state import curstate; print(curstate().uuid_to_server['\" + server_id + \"'].get_sessions()[0].document.roots[0]._id)\";\n",
       "      cell.notebook.kernel.execute(cmd, {\n",
       "        iopub: {\n",
       "          output: function(msg) {\n",
       "            var element_id = msg.content.text.trim();\n",
       "            Bokeh.index[element_id].model.document.clear();\n",
       "            delete Bokeh.index[element_id];\n",
       "          }\n",
       "        }\n",
       "      });\n",
       "      // Destroy server and session\n",
       "      var cmd = \"import bokeh.io.notebook as ion; ion.destroy_server('\" + server_id + \"')\";\n",
       "      cell.notebook.kernel.execute(cmd);\n",
       "    }\n",
       "  }\n",
       "\n",
       "  /**\n",
       "   * Handle when a new output is added\n",
       "   */\n",
       "  function handleAddOutput(event, handle) {\n",
       "    var output_area = handle.output_area;\n",
       "    var output = handle.output;\n",
       "\n",
       "    // limit handleAddOutput to display_data with EXEC_MIME_TYPE content only\n",
       "    if ((output.output_type != \"display_data\") || (!output.data.hasOwnProperty(EXEC_MIME_TYPE))) {\n",
       "      return\n",
       "    }\n",
       "\n",
       "    var toinsert = output_area.element.find(`.${CLASS_NAME.split(' ')[0]}`);\n",
       "\n",
       "    if (output.metadata[EXEC_MIME_TYPE][\"id\"] !== undefined) {\n",
       "      toinsert[0].firstChild.textContent = output.data[JS_MIME_TYPE];\n",
       "      // store reference to embed id on output_area\n",
       "      output_area._bokeh_element_id = output.metadata[EXEC_MIME_TYPE][\"id\"];\n",
       "    }\n",
       "    if (output.metadata[EXEC_MIME_TYPE][\"server_id\"] !== undefined) {\n",
       "      var bk_div = document.createElement(\"div\");\n",
       "      bk_div.innerHTML = output.data[HTML_MIME_TYPE];\n",
       "      var script_attrs = bk_div.children[0].attributes;\n",
       "      for (var i = 0; i < script_attrs.length; i++) {\n",
       "        toinsert[0].firstChild.setAttribute(script_attrs[i].name, script_attrs[i].value);\n",
       "      }\n",
       "      // store reference to server id on output_area\n",
       "      output_area._bokeh_server_id = output.metadata[EXEC_MIME_TYPE][\"server_id\"];\n",
       "    }\n",
       "  }\n",
       "\n",
       "  function register_renderer(events, OutputArea) {\n",
       "\n",
       "    function append_mime(data, metadata, element) {\n",
       "      // create a DOM node to render to\n",
       "      var toinsert = this.create_output_subarea(\n",
       "        metadata,\n",
       "        CLASS_NAME,\n",
       "        EXEC_MIME_TYPE\n",
       "      );\n",
       "      this.keyboard_manager.register_events(toinsert);\n",
       "      // Render to node\n",
       "      var props = {data: data, metadata: metadata[EXEC_MIME_TYPE]};\n",
       "      render(props, toinsert[0]);\n",
       "      element.append(toinsert);\n",
       "      return toinsert\n",
       "    }\n",
       "\n",
       "    /* Handle when an output is cleared or removed */\n",
       "    events.on('clear_output.CodeCell', handleClearOutput);\n",
       "    events.on('delete.Cell', handleClearOutput);\n",
       "\n",
       "    /* Handle when a new output is added */\n",
       "    events.on('output_added.OutputArea', handleAddOutput);\n",
       "\n",
       "    /**\n",
       "     * Register the mime type and append_mime function with output_area\n",
       "     */\n",
       "    OutputArea.prototype.register_mime_type(EXEC_MIME_TYPE, append_mime, {\n",
       "      /* Is output safe? */\n",
       "      safe: true,\n",
       "      /* Index of renderer in `output_area.display_order` */\n",
       "      index: 0\n",
       "    });\n",
       "  }\n",
       "\n",
       "  // register the mime type if in Jupyter Notebook environment and previously unregistered\n",
       "  if (root.Jupyter !== undefined) {\n",
       "    var events = require('base/js/events');\n",
       "    var OutputArea = require('notebook/js/outputarea').OutputArea;\n",
       "\n",
       "    if (OutputArea.prototype.mime_types().indexOf(EXEC_MIME_TYPE) == -1) {\n",
       "      register_renderer(events, OutputArea);\n",
       "    }\n",
       "  }\n",
       "\n",
       "  \n",
       "  if (typeof (root._bokeh_timeout) === \"undefined\" || force === true) {\n",
       "    root._bokeh_timeout = Date.now() + 5000;\n",
       "    root._bokeh_failed_load = false;\n",
       "  }\n",
       "\n",
       "  var NB_LOAD_WARNING = {'data': {'text/html':\n",
       "     \"<div style='background-color: #fdd'>\\n\"+\n",
       "     \"<p>\\n\"+\n",
       "     \"BokehJS does not appear to have successfully loaded. If loading BokehJS from CDN, this \\n\"+\n",
       "     \"may be due to a slow or bad network connection. Possible fixes:\\n\"+\n",
       "     \"</p>\\n\"+\n",
       "     \"<ul>\\n\"+\n",
       "     \"<li>re-rerun `output_notebook()` to attempt to load from CDN again, or</li>\\n\"+\n",
       "     \"<li>use INLINE resources instead, as so:</li>\\n\"+\n",
       "     \"</ul>\\n\"+\n",
       "     \"<code>\\n\"+\n",
       "     \"from bokeh.resources import INLINE\\n\"+\n",
       "     \"output_notebook(resources=INLINE)\\n\"+\n",
       "     \"</code>\\n\"+\n",
       "     \"</div>\"}};\n",
       "\n",
       "  function display_loaded() {\n",
       "    var el = document.getElementById(\"f12f80fd-f76b-4cdf-833e-8c398b70d3c1\");\n",
       "    if (el != null) {\n",
       "      el.textContent = \"BokehJS is loading...\";\n",
       "    }\n",
       "    if (root.Bokeh !== undefined) {\n",
       "      if (el != null) {\n",
       "        el.textContent = \"BokehJS \" + root.Bokeh.version + \" successfully loaded.\";\n",
       "      }\n",
       "    } else if (Date.now() < root._bokeh_timeout) {\n",
       "      setTimeout(display_loaded, 100)\n",
       "    }\n",
       "  }\n",
       "\n",
       "\n",
       "  function run_callbacks() {\n",
       "    try {\n",
       "      root._bokeh_onload_callbacks.forEach(function(callback) { callback() });\n",
       "    }\n",
       "    finally {\n",
       "      delete root._bokeh_onload_callbacks\n",
       "    }\n",
       "    console.info(\"Bokeh: all callbacks have finished\");\n",
       "  }\n",
       "\n",
       "  function load_libs(js_urls, callback) {\n",
       "    root._bokeh_onload_callbacks.push(callback);\n",
       "    if (root._bokeh_is_loading > 0) {\n",
       "      console.log(\"Bokeh: BokehJS is being loaded, scheduling callback at\", now());\n",
       "      return null;\n",
       "    }\n",
       "    if (js_urls == null || js_urls.length === 0) {\n",
       "      run_callbacks();\n",
       "      return null;\n",
       "    }\n",
       "    console.log(\"Bokeh: BokehJS not loaded, scheduling load and callback at\", now());\n",
       "    root._bokeh_is_loading = js_urls.length;\n",
       "    for (var i = 0; i < js_urls.length; i++) {\n",
       "      var url = js_urls[i];\n",
       "      var s = document.createElement('script');\n",
       "      s.src = url;\n",
       "      s.async = false;\n",
       "      s.onreadystatechange = s.onload = function() {\n",
       "        root._bokeh_is_loading--;\n",
       "        if (root._bokeh_is_loading === 0) {\n",
       "          console.log(\"Bokeh: all BokehJS libraries loaded\");\n",
       "          run_callbacks()\n",
       "        }\n",
       "      };\n",
       "      s.onerror = function() {\n",
       "        console.warn(\"failed to load library \" + url);\n",
       "      };\n",
       "      console.log(\"Bokeh: injecting script tag for BokehJS library: \", url);\n",
       "      document.getElementsByTagName(\"head\")[0].appendChild(s);\n",
       "    }\n",
       "  };var element = document.getElementById(\"f12f80fd-f76b-4cdf-833e-8c398b70d3c1\");\n",
       "  if (element == null) {\n",
       "    console.log(\"Bokeh: ERROR: autoload.js configured with elementid 'f12f80fd-f76b-4cdf-833e-8c398b70d3c1' but no matching script tag was found. \")\n",
       "    return false;\n",
       "  }\n",
       "\n",
       "  var js_urls = [\"https://cdn.pydata.org/bokeh/release/bokeh-0.12.10.min.js\", \"https://cdn.pydata.org/bokeh/release/bokeh-widgets-0.12.10.min.js\", \"https://cdn.pydata.org/bokeh/release/bokeh-tables-0.12.10.min.js\", \"https://cdn.pydata.org/bokeh/release/bokeh-gl-0.12.10.min.js\"];\n",
       "\n",
       "  var inline_js = [\n",
       "    function(Bokeh) {\n",
       "      Bokeh.set_log_level(\"info\");\n",
       "    },\n",
       "    \n",
       "    function(Bokeh) {\n",
       "      \n",
       "    },\n",
       "    function(Bokeh) {\n",
       "      console.log(\"Bokeh: injecting CSS: https://cdn.pydata.org/bokeh/release/bokeh-0.12.10.min.css\");\n",
       "      Bokeh.embed.inject_css(\"https://cdn.pydata.org/bokeh/release/bokeh-0.12.10.min.css\");\n",
       "      console.log(\"Bokeh: injecting CSS: https://cdn.pydata.org/bokeh/release/bokeh-widgets-0.12.10.min.css\");\n",
       "      Bokeh.embed.inject_css(\"https://cdn.pydata.org/bokeh/release/bokeh-widgets-0.12.10.min.css\");\n",
       "      console.log(\"Bokeh: injecting CSS: https://cdn.pydata.org/bokeh/release/bokeh-tables-0.12.10.min.css\");\n",
       "      Bokeh.embed.inject_css(\"https://cdn.pydata.org/bokeh/release/bokeh-tables-0.12.10.min.css\");\n",
       "    }\n",
       "  ];\n",
       "\n",
       "  function run_inline_js() {\n",
       "    \n",
       "    if ((root.Bokeh !== undefined) || (force === true)) {\n",
       "      for (var i = 0; i < inline_js.length; i++) {\n",
       "        inline_js[i].call(root, root.Bokeh);\n",
       "      }if (force === true) {\n",
       "        display_loaded();\n",
       "      }} else if (Date.now() < root._bokeh_timeout) {\n",
       "      setTimeout(run_inline_js, 100);\n",
       "    } else if (!root._bokeh_failed_load) {\n",
       "      console.log(\"Bokeh: BokehJS failed to load within specified timeout.\");\n",
       "      root._bokeh_failed_load = true;\n",
       "    } else if (force !== true) {\n",
       "      var cell = $(document.getElementById(\"f12f80fd-f76b-4cdf-833e-8c398b70d3c1\")).parents('.cell').data().cell;\n",
       "      cell.output_area.append_execute_result(NB_LOAD_WARNING)\n",
       "    }\n",
       "\n",
       "  }\n",
       "\n",
       "  if (root._bokeh_is_loading === 0) {\n",
       "    console.log(\"Bokeh: BokehJS loaded, going straight to plotting\");\n",
       "    run_inline_js();\n",
       "  } else {\n",
       "    load_libs(js_urls, function() {\n",
       "      console.log(\"Bokeh: BokehJS plotting callback run at\", now());\n",
       "      run_inline_js();\n",
       "    });\n",
       "  }\n",
       "}(window));"
      ],
      "application/vnd.bokehjs_load.v0+json": "\n(function(root) {\n  function now() {\n    return new Date();\n  }\n\n  var force = true;\n\n  if (typeof (root._bokeh_onload_callbacks) === \"undefined\" || force === true) {\n    root._bokeh_onload_callbacks = [];\n    root._bokeh_is_loading = undefined;\n  }\n\n  \n\n  \n  if (typeof (root._bokeh_timeout) === \"undefined\" || force === true) {\n    root._bokeh_timeout = Date.now() + 5000;\n    root._bokeh_failed_load = false;\n  }\n\n  var NB_LOAD_WARNING = {'data': {'text/html':\n     \"<div style='background-color: #fdd'>\\n\"+\n     \"<p>\\n\"+\n     \"BokehJS does not appear to have successfully loaded. If loading BokehJS from CDN, this \\n\"+\n     \"may be due to a slow or bad network connection. Possible fixes:\\n\"+\n     \"</p>\\n\"+\n     \"<ul>\\n\"+\n     \"<li>re-rerun `output_notebook()` to attempt to load from CDN again, or</li>\\n\"+\n     \"<li>use INLINE resources instead, as so:</li>\\n\"+\n     \"</ul>\\n\"+\n     \"<code>\\n\"+\n     \"from bokeh.resources import INLINE\\n\"+\n     \"output_notebook(resources=INLINE)\\n\"+\n     \"</code>\\n\"+\n     \"</div>\"}};\n\n  function display_loaded() {\n    var el = document.getElementById(\"f12f80fd-f76b-4cdf-833e-8c398b70d3c1\");\n    if (el != null) {\n      el.textContent = \"BokehJS is loading...\";\n    }\n    if (root.Bokeh !== undefined) {\n      if (el != null) {\n        el.textContent = \"BokehJS \" + root.Bokeh.version + \" successfully loaded.\";\n      }\n    } else if (Date.now() < root._bokeh_timeout) {\n      setTimeout(display_loaded, 100)\n    }\n  }\n\n\n  function run_callbacks() {\n    try {\n      root._bokeh_onload_callbacks.forEach(function(callback) { callback() });\n    }\n    finally {\n      delete root._bokeh_onload_callbacks\n    }\n    console.info(\"Bokeh: all callbacks have finished\");\n  }\n\n  function load_libs(js_urls, callback) {\n    root._bokeh_onload_callbacks.push(callback);\n    if (root._bokeh_is_loading > 0) {\n      console.log(\"Bokeh: BokehJS is being loaded, scheduling callback at\", now());\n      return null;\n    }\n    if (js_urls == null || js_urls.length === 0) {\n      run_callbacks();\n      return null;\n    }\n    console.log(\"Bokeh: BokehJS not loaded, scheduling load and callback at\", now());\n    root._bokeh_is_loading = js_urls.length;\n    for (var i = 0; i < js_urls.length; i++) {\n      var url = js_urls[i];\n      var s = document.createElement('script');\n      s.src = url;\n      s.async = false;\n      s.onreadystatechange = s.onload = function() {\n        root._bokeh_is_loading--;\n        if (root._bokeh_is_loading === 0) {\n          console.log(\"Bokeh: all BokehJS libraries loaded\");\n          run_callbacks()\n        }\n      };\n      s.onerror = function() {\n        console.warn(\"failed to load library \" + url);\n      };\n      console.log(\"Bokeh: injecting script tag for BokehJS library: \", url);\n      document.getElementsByTagName(\"head\")[0].appendChild(s);\n    }\n  };var element = document.getElementById(\"f12f80fd-f76b-4cdf-833e-8c398b70d3c1\");\n  if (element == null) {\n    console.log(\"Bokeh: ERROR: autoload.js configured with elementid 'f12f80fd-f76b-4cdf-833e-8c398b70d3c1' but no matching script tag was found. \")\n    return false;\n  }\n\n  var js_urls = [\"https://cdn.pydata.org/bokeh/release/bokeh-0.12.10.min.js\", \"https://cdn.pydata.org/bokeh/release/bokeh-widgets-0.12.10.min.js\", \"https://cdn.pydata.org/bokeh/release/bokeh-tables-0.12.10.min.js\", \"https://cdn.pydata.org/bokeh/release/bokeh-gl-0.12.10.min.js\"];\n\n  var inline_js = [\n    function(Bokeh) {\n      Bokeh.set_log_level(\"info\");\n    },\n    \n    function(Bokeh) {\n      \n    },\n    function(Bokeh) {\n      console.log(\"Bokeh: injecting CSS: https://cdn.pydata.org/bokeh/release/bokeh-0.12.10.min.css\");\n      Bokeh.embed.inject_css(\"https://cdn.pydata.org/bokeh/release/bokeh-0.12.10.min.css\");\n      console.log(\"Bokeh: injecting CSS: https://cdn.pydata.org/bokeh/release/bokeh-widgets-0.12.10.min.css\");\n      Bokeh.embed.inject_css(\"https://cdn.pydata.org/bokeh/release/bokeh-widgets-0.12.10.min.css\");\n      console.log(\"Bokeh: injecting CSS: https://cdn.pydata.org/bokeh/release/bokeh-tables-0.12.10.min.css\");\n      Bokeh.embed.inject_css(\"https://cdn.pydata.org/bokeh/release/bokeh-tables-0.12.10.min.css\");\n    }\n  ];\n\n  function run_inline_js() {\n    \n    if ((root.Bokeh !== undefined) || (force === true)) {\n      for (var i = 0; i < inline_js.length; i++) {\n        inline_js[i].call(root, root.Bokeh);\n      }if (force === true) {\n        display_loaded();\n      }} else if (Date.now() < root._bokeh_timeout) {\n      setTimeout(run_inline_js, 100);\n    } else if (!root._bokeh_failed_load) {\n      console.log(\"Bokeh: BokehJS failed to load within specified timeout.\");\n      root._bokeh_failed_load = true;\n    } else if (force !== true) {\n      var cell = $(document.getElementById(\"f12f80fd-f76b-4cdf-833e-8c398b70d3c1\")).parents('.cell').data().cell;\n      cell.output_area.append_execute_result(NB_LOAD_WARNING)\n    }\n\n  }\n\n  if (root._bokeh_is_loading === 0) {\n    console.log(\"Bokeh: BokehJS loaded, going straight to plotting\");\n    run_inline_js();\n  } else {\n    load_libs(js_urls, function() {\n      console.log(\"Bokeh: BokehJS plotting callback run at\", now());\n      run_inline_js();\n    });\n  }\n}(window));"
     },
     "metadata": {},
     "output_type": "display_data"
    }
   ],
   "source": [
    "output_notebook()"
   ]
  },
  {
   "cell_type": "markdown",
   "metadata": {},
   "source": [
    "Before we get started, it's useful to describe how colors and properties are specified in Bokeh. \n",
    "\n",
    "## Colors\n",
    "\n",
    "There are many places where you may need to specify colors. Bokeh can accept colors in a variety of different ways:\n",
    "\n",
    "* any of the [147 named CSS colors](http://www.w3schools.com/cssref/css_colornames.asp), e.g ``'green'``, ``'indigo'``\n",
    "* an RGB(A) hex value, e.g., ``'#FF0000'``, ``'#44444444'``\n",
    "* a 3-tuple of integers *(r,g,b)* between 0 and 255\n",
    "*  a 4-tuple of *(r,g,b,a)* where *r*, *g*, *b* are integers between 0 and 255 and *a* is a floating point value between 0 and 1\n",
    "\n",
    "\n",
    "\n",
    "## Properties\n",
    "\n",
    "Regardless of how a Bokeh plot is created, styling the visual aspects of the plot can always be accomplished by setting attributes on the Bokeh objects that comprise the resulting plot. Visual properties come in three kinds: line, fill, and text properties. For full information with code and examples see the [Styling Visual Properties](http://bokeh.pydata.org/en/latest/docs/user_guide/styling.html) section of the user guide. \n",
    "\n",
    "----\n",
    "\n",
    "### Line Properties\n",
    "\n",
    "Set the visual appearance of lines. The most common are ``line_color``, ``line_alpha``, ``line_width`` and ``line_dash``.\n",
    "\n",
    "### Fill Properties\n",
    "\n",
    "Set the visual appearance of filled areas: ``fill_color`` and ``fill_alpha``.\n",
    "\n",
    "### Text Properties\n",
    "\n",
    "Set the visual appearance of lines of text. The most common are ``text_font``, ``text_font_size``, ``text_color``, and ``text_alpha``.\n",
    "\n",
    "----\n",
    "\n",
    "Sometimes a prefix is used with property names, e.g. to distinguish between different line properties on the same object, or to give a more meaningful name. For example, to set the line width of the plot outline, you would say ``myplot.outline_line_width = 2``. "
   ]
  },
  {
   "cell_type": "markdown",
   "metadata": {},
   "source": [
    "# Plots\n",
    "\n",
    "Many top-level attributes of plots (outline, border, etc.) can be configured. See the [Plots](http://bokeh.pydata.org/en/latest/docs/user_guide/styling.html#plots) section of the styling guide for full information. \n",
    "\n",
    "Here is an example that tweaks the plot outline:"
   ]
  },
  {
   "cell_type": "code",
   "execution_count": 3,
   "metadata": {
    "scrolled": false
   },
   "outputs": [
    {
     "data": {
      "text/html": [
       "\n",
       "<div class=\"bk-root\">\n",
       "    <div class=\"bk-plotdiv\" id=\"bc0f59b0-f4e3-43f2-b543-68f9e42cbf86\"></div>\n",
       "</div>"
      ]
     },
     "metadata": {},
     "output_type": "display_data"
    },
    {
     "data": {
      "application/javascript": [
       "(function(root) {\n",
       "  function embed_document(root) {\n",
       "    var docs_json = {\"edcd63f5-2a52-4b2d-bd2b-4e43a1ab9cea\":{\"roots\":{\"references\":[{\"attributes\":{\"overlay\":{\"id\":\"0a64a9a4-629e-4d47-ac78-7b5eafa2db91\",\"type\":\"BoxAnnotation\"}},\"id\":\"95189153-c557-4f37-a308-c390a502b3b1\",\"type\":\"BoxZoomTool\"},{\"attributes\":{\"callback\":null},\"id\":\"434e2bba-1d5b-4053-ac75-9b5ae5d810a2\",\"type\":\"DataRange1d\"},{\"attributes\":{},\"id\":\"91411f96-0528-4f9d-bbdb-0fed723d454c\",\"type\":\"SaveTool\"},{\"attributes\":{},\"id\":\"0522fc4f-2e86-407d-9d21-10b9092654a4\",\"type\":\"BasicTicker\"},{\"attributes\":{},\"id\":\"6ef64ddc-8430-47fa-9c51-3e04e699e8c3\",\"type\":\"ResetTool\"},{\"attributes\":{\"callback\":null},\"id\":\"7ed812d4-9b10-4c88-a78b-896b8af1ae93\",\"type\":\"DataRange1d\"},{\"attributes\":{\"source\":{\"id\":\"c9ec7ae6-de85-4e8c-b7e5-539a2c154e52\",\"type\":\"ColumnDataSource\"}},\"id\":\"98df215c-eafa-4906-8e3f-d6a31599d6a1\",\"type\":\"CDSView\"},{\"attributes\":{},\"id\":\"c62fa792-c8be-495e-a1a5-7ecb4ae4bacb\",\"type\":\"HelpTool\"},{\"attributes\":{},\"id\":\"ec02c85c-e7ce-413b-9aba-db4823026319\",\"type\":\"LinearScale\"},{\"attributes\":{},\"id\":\"4b65f063-b419-4638-8fb6-187cc223446f\",\"type\":\"BasicTickFormatter\"},{\"attributes\":{},\"id\":\"b6d32478-93d5-4161-aeaf-53fcef353545\",\"type\":\"LinearScale\"},{\"attributes\":{\"plot\":null,\"text\":\"\"},\"id\":\"512b5324-f90f-4c7e-8706-34b69d97c12a\",\"type\":\"Title\"},{\"attributes\":{\"plot\":{\"id\":\"961942b6-04c7-4183-b660-64d600d2f906\",\"subtype\":\"Figure\",\"type\":\"Plot\"},\"ticker\":{\"id\":\"0522fc4f-2e86-407d-9d21-10b9092654a4\",\"type\":\"BasicTicker\"}},\"id\":\"f8355d9f-683a-4e40-a09c-22f87dcef90c\",\"type\":\"Grid\"},{\"attributes\":{\"formatter\":{\"id\":\"4b65f063-b419-4638-8fb6-187cc223446f\",\"type\":\"BasicTickFormatter\"},\"plot\":{\"id\":\"961942b6-04c7-4183-b660-64d600d2f906\",\"subtype\":\"Figure\",\"type\":\"Plot\"},\"ticker\":{\"id\":\"0522fc4f-2e86-407d-9d21-10b9092654a4\",\"type\":\"BasicTicker\"}},\"id\":\"6176e5bf-0800-4091-9274-2b91c8e5e534\",\"type\":\"LinearAxis\"},{\"attributes\":{},\"id\":\"2a3cd4f0-fd54-432a-991a-24897d865a0b\",\"type\":\"BasicTickFormatter\"},{\"attributes\":{\"formatter\":{\"id\":\"2a3cd4f0-fd54-432a-991a-24897d865a0b\",\"type\":\"BasicTickFormatter\"},\"plot\":{\"id\":\"961942b6-04c7-4183-b660-64d600d2f906\",\"subtype\":\"Figure\",\"type\":\"Plot\"},\"ticker\":{\"id\":\"0c59bca4-e47a-4a0d-a40e-321981d3ca46\",\"type\":\"BasicTicker\"}},\"id\":\"952427d4-ba10-4e0b-a9d3-e8d72a272fff\",\"type\":\"LinearAxis\"},{\"attributes\":{\"fill_color\":{\"value\":\"#1f77b4\"},\"line_color\":{\"value\":\"#1f77b4\"},\"size\":{\"units\":\"screen\",\"value\":10},\"x\":{\"field\":\"x\"},\"y\":{\"field\":\"y\"}},\"id\":\"d76038a4-740b-4773-b3bd-87ec2ba178b1\",\"type\":\"Circle\"},{\"attributes\":{\"data_source\":{\"id\":\"c9ec7ae6-de85-4e8c-b7e5-539a2c154e52\",\"type\":\"ColumnDataSource\"},\"glyph\":{\"id\":\"d76038a4-740b-4773-b3bd-87ec2ba178b1\",\"type\":\"Circle\"},\"hover_glyph\":null,\"muted_glyph\":null,\"nonselection_glyph\":{\"id\":\"c62f5e78-19b2-404b-ad81-bda6d78034d6\",\"type\":\"Circle\"},\"selection_glyph\":null,\"view\":{\"id\":\"98df215c-eafa-4906-8e3f-d6a31599d6a1\",\"type\":\"CDSView\"}},\"id\":\"33c966a3-1196-433a-887a-4b87167dd316\",\"type\":\"GlyphRenderer\"},{\"attributes\":{},\"id\":\"0c59bca4-e47a-4a0d-a40e-321981d3ca46\",\"type\":\"BasicTicker\"},{\"attributes\":{\"dimension\":1,\"plot\":{\"id\":\"961942b6-04c7-4183-b660-64d600d2f906\",\"subtype\":\"Figure\",\"type\":\"Plot\"},\"ticker\":{\"id\":\"0c59bca4-e47a-4a0d-a40e-321981d3ca46\",\"type\":\"BasicTicker\"}},\"id\":\"e0e131bd-a6d2-4ded-b84f-943a37d4b261\",\"type\":\"Grid\"},{\"attributes\":{\"bottom_units\":\"screen\",\"fill_alpha\":{\"value\":0.5},\"fill_color\":{\"value\":\"lightgrey\"},\"left_units\":\"screen\",\"level\":\"overlay\",\"line_alpha\":{\"value\":1.0},\"line_color\":{\"value\":\"black\"},\"line_dash\":[4,4],\"line_width\":{\"value\":2},\"plot\":null,\"render_mode\":\"css\",\"right_units\":\"screen\",\"top_units\":\"screen\"},\"id\":\"0a64a9a4-629e-4d47-ac78-7b5eafa2db91\",\"type\":\"BoxAnnotation\"},{\"attributes\":{},\"id\":\"10122c21-de9c-4adf-bd8f-2f52e13e2b87\",\"type\":\"PanTool\"},{\"attributes\":{\"callback\":null,\"column_names\":[\"x\",\"y\"],\"data\":{\"x\":[1,2,3,4,5],\"y\":[2,5,8,2,7]}},\"id\":\"c9ec7ae6-de85-4e8c-b7e5-539a2c154e52\",\"type\":\"ColumnDataSource\"},{\"attributes\":{\"below\":[{\"id\":\"6176e5bf-0800-4091-9274-2b91c8e5e534\",\"type\":\"LinearAxis\"}],\"left\":[{\"id\":\"952427d4-ba10-4e0b-a9d3-e8d72a272fff\",\"type\":\"LinearAxis\"}],\"outline_line_alpha\":{\"value\":0.3},\"outline_line_color\":{\"value\":\"navy\"},\"outline_line_width\":{\"value\":7},\"plot_height\":400,\"plot_width\":400,\"renderers\":[{\"id\":\"6176e5bf-0800-4091-9274-2b91c8e5e534\",\"type\":\"LinearAxis\"},{\"id\":\"f8355d9f-683a-4e40-a09c-22f87dcef90c\",\"type\":\"Grid\"},{\"id\":\"952427d4-ba10-4e0b-a9d3-e8d72a272fff\",\"type\":\"LinearAxis\"},{\"id\":\"e0e131bd-a6d2-4ded-b84f-943a37d4b261\",\"type\":\"Grid\"},{\"id\":\"0a64a9a4-629e-4d47-ac78-7b5eafa2db91\",\"type\":\"BoxAnnotation\"},{\"id\":\"33c966a3-1196-433a-887a-4b87167dd316\",\"type\":\"GlyphRenderer\"}],\"title\":{\"id\":\"512b5324-f90f-4c7e-8706-34b69d97c12a\",\"type\":\"Title\"},\"toolbar\":{\"id\":\"a7fcc6b6-fe30-430a-ab06-55ae7b988e67\",\"type\":\"Toolbar\"},\"x_range\":{\"id\":\"434e2bba-1d5b-4053-ac75-9b5ae5d810a2\",\"type\":\"DataRange1d\"},\"x_scale\":{\"id\":\"ec02c85c-e7ce-413b-9aba-db4823026319\",\"type\":\"LinearScale\"},\"y_range\":{\"id\":\"7ed812d4-9b10-4c88-a78b-896b8af1ae93\",\"type\":\"DataRange1d\"},\"y_scale\":{\"id\":\"b6d32478-93d5-4161-aeaf-53fcef353545\",\"type\":\"LinearScale\"}},\"id\":\"961942b6-04c7-4183-b660-64d600d2f906\",\"subtype\":\"Figure\",\"type\":\"Plot\"},{\"attributes\":{\"fill_alpha\":{\"value\":0.1},\"fill_color\":{\"value\":\"#1f77b4\"},\"line_alpha\":{\"value\":0.1},\"line_color\":{\"value\":\"#1f77b4\"},\"size\":{\"units\":\"screen\",\"value\":10},\"x\":{\"field\":\"x\"},\"y\":{\"field\":\"y\"}},\"id\":\"c62f5e78-19b2-404b-ad81-bda6d78034d6\",\"type\":\"Circle\"},{\"attributes\":{},\"id\":\"a7400f24-ce2a-43c8-8241-2d013f2c4846\",\"type\":\"WheelZoomTool\"},{\"attributes\":{\"active_drag\":\"auto\",\"active_inspect\":\"auto\",\"active_scroll\":\"auto\",\"active_tap\":\"auto\",\"tools\":[{\"id\":\"10122c21-de9c-4adf-bd8f-2f52e13e2b87\",\"type\":\"PanTool\"},{\"id\":\"a7400f24-ce2a-43c8-8241-2d013f2c4846\",\"type\":\"WheelZoomTool\"},{\"id\":\"95189153-c557-4f37-a308-c390a502b3b1\",\"type\":\"BoxZoomTool\"},{\"id\":\"91411f96-0528-4f9d-bbdb-0fed723d454c\",\"type\":\"SaveTool\"},{\"id\":\"6ef64ddc-8430-47fa-9c51-3e04e699e8c3\",\"type\":\"ResetTool\"},{\"id\":\"c62fa792-c8be-495e-a1a5-7ecb4ae4bacb\",\"type\":\"HelpTool\"}]},\"id\":\"a7fcc6b6-fe30-430a-ab06-55ae7b988e67\",\"type\":\"Toolbar\"}],\"root_ids\":[\"961942b6-04c7-4183-b660-64d600d2f906\"]},\"title\":\"Bokeh Application\",\"version\":\"0.12.10\"}};\n",
       "    var render_items = [{\"docid\":\"edcd63f5-2a52-4b2d-bd2b-4e43a1ab9cea\",\"elementid\":\"bc0f59b0-f4e3-43f2-b543-68f9e42cbf86\",\"modelid\":\"961942b6-04c7-4183-b660-64d600d2f906\"}];\n",
       "\n",
       "    root.Bokeh.embed.embed_items(docs_json, render_items);\n",
       "  }\n",
       "\n",
       "  if (root.Bokeh !== undefined) {\n",
       "    embed_document(root);\n",
       "  } else {\n",
       "    var attempts = 0;\n",
       "    var timer = setInterval(function(root) {\n",
       "      if (root.Bokeh !== undefined) {\n",
       "        embed_document(root);\n",
       "        clearInterval(timer);\n",
       "      }\n",
       "      attempts++;\n",
       "      if (attempts > 100) {\n",
       "        console.log(\"Bokeh: ERROR: Unable to embed document because BokehJS library is missing\")\n",
       "        clearInterval(timer);\n",
       "      }\n",
       "    }, 10, root)\n",
       "  }\n",
       "})(window);"
      ],
      "application/vnd.bokehjs_exec.v0+json": ""
     },
     "metadata": {
      "application/vnd.bokehjs_exec.v0+json": {
       "id": "961942b6-04c7-4183-b660-64d600d2f906"
      }
     },
     "output_type": "display_data"
    }
   ],
   "source": [
    "# create a new plot with a title\n",
    "p = figure(plot_width=400, plot_height=400)\n",
    "p.outline_line_width = 7\n",
    "p.outline_line_alpha = 0.3\n",
    "p.outline_line_color = \"navy\"\n",
    "\n",
    "p.circle([1,2,3,4,5], [2,5,8,2,7], size=10)\n",
    "\n",
    "show(p)"
   ]
  },
  {
   "cell_type": "code",
   "execution_count": 4,
   "metadata": {
    "collapsed": true
   },
   "outputs": [],
   "source": [
    "# EXERCISE Create a plot of your own and customize several plot-level properties\n"
   ]
  },
  {
   "cell_type": "markdown",
   "metadata": {},
   "source": [
    "# Glyphs\n",
    "\n",
    "It's also possible to style the visual properties of glyphs. When using `bokeh.plotting` this is often done when calling the glyph methods:\n",
    "```python\n",
    "p.circle(line_color=\"red\", fill_alpha=0.2, ...)\n",
    "```\n",
    "But it is also possible to set these properties directly on glyph objects. Glyph objects are found on `GlyphRenderer` objects, which are returned by the `Plot.add_glyph` and `bokeh.plotting` glyph methods like `circle`, `rect`, etc. Let's look at an example:"
   ]
  },
  {
   "cell_type": "code",
   "execution_count": 4,
   "metadata": {},
   "outputs": [
    {
     "data": {
      "text/html": [
       "\n",
       "<div class=\"bk-root\">\n",
       "    <div class=\"bk-plotdiv\" id=\"66711174-efd9-4ab7-a98f-9cc4a717f94a\"></div>\n",
       "</div>"
      ]
     },
     "metadata": {},
     "output_type": "display_data"
    },
    {
     "data": {
      "application/javascript": [
       "(function(root) {\n",
       "  function embed_document(root) {\n",
       "    var docs_json = {\"6b8c10b9-9075-4a9c-a53a-cfb2f6930199\":{\"roots\":{\"references\":[{\"attributes\":{\"plot\":null,\"text\":\"\"},\"id\":\"5fce8918-7dec-4fe9-af86-c74fe059f8f7\",\"type\":\"Title\"},{\"attributes\":{},\"id\":\"43224417-04a1-48c7-a50f-5cd5e84efcb2\",\"type\":\"LinearScale\"},{\"attributes\":{\"formatter\":{\"id\":\"fcdb4b30-e65f-4a9e-8d50-25be6c81eb2f\",\"type\":\"BasicTickFormatter\"},\"plot\":{\"id\":\"f0a8dc17-4f98-4fd7-a2eb-31ac3f928068\",\"subtype\":\"Figure\",\"type\":\"Plot\"},\"ticker\":{\"id\":\"3361fa38-e3c0-4ea1-807b-95d14b3cab0e\",\"type\":\"BasicTicker\"}},\"id\":\"c7185e83-8a90-4f6b-855e-e7446795d0d6\",\"type\":\"LinearAxis\"},{\"attributes\":{\"formatter\":{\"id\":\"fdfed973-6689-4703-97cb-08525087fd36\",\"type\":\"BasicTickFormatter\"},\"plot\":{\"id\":\"f0a8dc17-4f98-4fd7-a2eb-31ac3f928068\",\"subtype\":\"Figure\",\"type\":\"Plot\"},\"ticker\":{\"id\":\"d18e6867-0c9c-42b0-867d-59feae8c14fb\",\"type\":\"BasicTicker\"}},\"id\":\"f6f7c44c-593a-49a6-bbbd-c926f063a156\",\"type\":\"LinearAxis\"},{\"attributes\":{\"data_source\":{\"id\":\"80a0f5dd-7ff8-4de3-a5e6-8b48b4bb1207\",\"type\":\"ColumnDataSource\"},\"glyph\":{\"id\":\"3156c1fd-b77d-4454-90d4-bba20302a903\",\"type\":\"Circle\"},\"hover_glyph\":null,\"muted_glyph\":null,\"nonselection_glyph\":{\"id\":\"2e3bb532-74c4-4d5a-a6d6-90edf0e1eac3\",\"type\":\"Circle\"},\"selection_glyph\":null,\"view\":{\"id\":\"5fa22bbf-7a9c-4ecc-b04c-5994d7310cdb\",\"type\":\"CDSView\"}},\"id\":\"4761824e-b4e4-4a0e-8d43-1ef0f4cc6522\",\"type\":\"GlyphRenderer\"},{\"attributes\":{\"plot\":{\"id\":\"f0a8dc17-4f98-4fd7-a2eb-31ac3f928068\",\"subtype\":\"Figure\",\"type\":\"Plot\"},\"ticker\":{\"id\":\"d18e6867-0c9c-42b0-867d-59feae8c14fb\",\"type\":\"BasicTicker\"}},\"id\":\"d8439b27-1770-4455-8cdf-c634638c35d0\",\"type\":\"Grid\"},{\"attributes\":{},\"id\":\"3361fa38-e3c0-4ea1-807b-95d14b3cab0e\",\"type\":\"BasicTicker\"},{\"attributes\":{\"dimension\":1,\"plot\":{\"id\":\"f0a8dc17-4f98-4fd7-a2eb-31ac3f928068\",\"subtype\":\"Figure\",\"type\":\"Plot\"},\"ticker\":{\"id\":\"3361fa38-e3c0-4ea1-807b-95d14b3cab0e\",\"type\":\"BasicTicker\"}},\"id\":\"14a82305-3732-4d60-9049-359e5319da9c\",\"type\":\"Grid\"},{\"attributes\":{\"source\":{\"id\":\"80a0f5dd-7ff8-4de3-a5e6-8b48b4bb1207\",\"type\":\"ColumnDataSource\"}},\"id\":\"5fa22bbf-7a9c-4ecc-b04c-5994d7310cdb\",\"type\":\"CDSView\"},{\"attributes\":{\"fill_alpha\":{\"value\":0.1},\"fill_color\":{\"value\":\"#1f77b4\"},\"line_alpha\":{\"value\":0.1},\"line_color\":{\"value\":\"#1f77b4\"},\"x\":{\"field\":\"x\"},\"y\":{\"field\":\"y\"}},\"id\":\"2e3bb532-74c4-4d5a-a6d6-90edf0e1eac3\",\"type\":\"Circle\"},{\"attributes\":{},\"id\":\"fcdb4b30-e65f-4a9e-8d50-25be6c81eb2f\",\"type\":\"BasicTickFormatter\"},{\"attributes\":{\"callback\":null},\"id\":\"2538082d-64ff-4431-b32d-d50fafd5fda0\",\"type\":\"DataRange1d\"},{\"attributes\":{\"bottom_units\":\"screen\",\"fill_alpha\":{\"value\":0.5},\"fill_color\":{\"value\":\"lightgrey\"},\"left_units\":\"screen\",\"level\":\"overlay\",\"line_alpha\":{\"value\":1.0},\"line_color\":{\"value\":\"black\"},\"line_dash\":[4,4],\"line_width\":{\"value\":2},\"plot\":null,\"render_mode\":\"css\",\"right_units\":\"screen\",\"top_units\":\"screen\"},\"id\":\"34453510-6115-4777-8d26-a5a72c29e99a\",\"type\":\"BoxAnnotation\"},{\"attributes\":{\"below\":[{\"id\":\"f6f7c44c-593a-49a6-bbbd-c926f063a156\",\"type\":\"LinearAxis\"}],\"left\":[{\"id\":\"c7185e83-8a90-4f6b-855e-e7446795d0d6\",\"type\":\"LinearAxis\"}],\"plot_height\":400,\"plot_width\":400,\"renderers\":[{\"id\":\"f6f7c44c-593a-49a6-bbbd-c926f063a156\",\"type\":\"LinearAxis\"},{\"id\":\"d8439b27-1770-4455-8cdf-c634638c35d0\",\"type\":\"Grid\"},{\"id\":\"c7185e83-8a90-4f6b-855e-e7446795d0d6\",\"type\":\"LinearAxis\"},{\"id\":\"14a82305-3732-4d60-9049-359e5319da9c\",\"type\":\"Grid\"},{\"id\":\"34453510-6115-4777-8d26-a5a72c29e99a\",\"type\":\"BoxAnnotation\"},{\"id\":\"4761824e-b4e4-4a0e-8d43-1ef0f4cc6522\",\"type\":\"GlyphRenderer\"}],\"title\":{\"id\":\"5fce8918-7dec-4fe9-af86-c74fe059f8f7\",\"type\":\"Title\"},\"toolbar\":{\"id\":\"29986585-b5f3-4a2b-b7ce-aca52e8b9f79\",\"type\":\"Toolbar\"},\"x_range\":{\"id\":\"362e82a6-864d-4a05-9ca5-305a920d3795\",\"type\":\"DataRange1d\"},\"x_scale\":{\"id\":\"f9359c17-6ae9-4709-b6a9-f1b3cd6d21f8\",\"type\":\"LinearScale\"},\"y_range\":{\"id\":\"2538082d-64ff-4431-b32d-d50fafd5fda0\",\"type\":\"DataRange1d\"},\"y_scale\":{\"id\":\"43224417-04a1-48c7-a50f-5cd5e84efcb2\",\"type\":\"LinearScale\"}},\"id\":\"f0a8dc17-4f98-4fd7-a2eb-31ac3f928068\",\"subtype\":\"Figure\",\"type\":\"Plot\"},{\"attributes\":{},\"id\":\"b95efb81-82e4-4a13-8f8e-bdf13cb3bc33\",\"type\":\"PanTool\"},{\"attributes\":{},\"id\":\"fdfed973-6689-4703-97cb-08525087fd36\",\"type\":\"BasicTickFormatter\"},{\"attributes\":{\"callback\":null,\"column_names\":[\"x\",\"y\"],\"data\":{\"x\":[1,2,3,4,5],\"y\":[2,5,8,2,7]}},\"id\":\"80a0f5dd-7ff8-4de3-a5e6-8b48b4bb1207\",\"type\":\"ColumnDataSource\"},{\"attributes\":{},\"id\":\"a9dbdc87-1428-46a1-b4d9-8e5f98ee73f0\",\"type\":\"WheelZoomTool\"},{\"attributes\":{\"callback\":null},\"id\":\"362e82a6-864d-4a05-9ca5-305a920d3795\",\"type\":\"DataRange1d\"},{\"attributes\":{\"fill_alpha\":{\"value\":0.2},\"fill_color\":{\"value\":\"#1f77b4\"},\"line_color\":{\"value\":\"firebrick\"},\"line_dash\":[5,1],\"line_width\":{\"value\":2},\"size\":{\"units\":\"screen\",\"value\":50},\"x\":{\"field\":\"x\"},\"y\":{\"field\":\"y\"}},\"id\":\"3156c1fd-b77d-4454-90d4-bba20302a903\",\"type\":\"Circle\"},{\"attributes\":{\"overlay\":{\"id\":\"34453510-6115-4777-8d26-a5a72c29e99a\",\"type\":\"BoxAnnotation\"}},\"id\":\"cd8b3712-9529-4dc3-a452-eff680eb9101\",\"type\":\"BoxZoomTool\"},{\"attributes\":{},\"id\":\"4b0b3a11-674b-449e-8213-3f42b7d41d97\",\"type\":\"SaveTool\"},{\"attributes\":{},\"id\":\"d5b757d4-1a04-45c9-afcf-783955fbc675\",\"type\":\"ResetTool\"},{\"attributes\":{},\"id\":\"d18e6867-0c9c-42b0-867d-59feae8c14fb\",\"type\":\"BasicTicker\"},{\"attributes\":{\"active_drag\":\"auto\",\"active_inspect\":\"auto\",\"active_scroll\":\"auto\",\"active_tap\":\"auto\",\"tools\":[{\"id\":\"b95efb81-82e4-4a13-8f8e-bdf13cb3bc33\",\"type\":\"PanTool\"},{\"id\":\"a9dbdc87-1428-46a1-b4d9-8e5f98ee73f0\",\"type\":\"WheelZoomTool\"},{\"id\":\"cd8b3712-9529-4dc3-a452-eff680eb9101\",\"type\":\"BoxZoomTool\"},{\"id\":\"4b0b3a11-674b-449e-8213-3f42b7d41d97\",\"type\":\"SaveTool\"},{\"id\":\"d5b757d4-1a04-45c9-afcf-783955fbc675\",\"type\":\"ResetTool\"},{\"id\":\"4179fcda-ab3c-4b3b-9eb4-e23c2dfd4aa6\",\"type\":\"HelpTool\"}]},\"id\":\"29986585-b5f3-4a2b-b7ce-aca52e8b9f79\",\"type\":\"Toolbar\"},{\"attributes\":{},\"id\":\"4179fcda-ab3c-4b3b-9eb4-e23c2dfd4aa6\",\"type\":\"HelpTool\"},{\"attributes\":{},\"id\":\"f9359c17-6ae9-4709-b6a9-f1b3cd6d21f8\",\"type\":\"LinearScale\"}],\"root_ids\":[\"f0a8dc17-4f98-4fd7-a2eb-31ac3f928068\"]},\"title\":\"Bokeh Application\",\"version\":\"0.12.10\"}};\n",
       "    var render_items = [{\"docid\":\"6b8c10b9-9075-4a9c-a53a-cfb2f6930199\",\"elementid\":\"66711174-efd9-4ab7-a98f-9cc4a717f94a\",\"modelid\":\"f0a8dc17-4f98-4fd7-a2eb-31ac3f928068\"}];\n",
       "\n",
       "    root.Bokeh.embed.embed_items(docs_json, render_items);\n",
       "  }\n",
       "\n",
       "  if (root.Bokeh !== undefined) {\n",
       "    embed_document(root);\n",
       "  } else {\n",
       "    var attempts = 0;\n",
       "    var timer = setInterval(function(root) {\n",
       "      if (root.Bokeh !== undefined) {\n",
       "        embed_document(root);\n",
       "        clearInterval(timer);\n",
       "      }\n",
       "      attempts++;\n",
       "      if (attempts > 100) {\n",
       "        console.log(\"Bokeh: ERROR: Unable to embed document because BokehJS library is missing\")\n",
       "        clearInterval(timer);\n",
       "      }\n",
       "    }, 10, root)\n",
       "  }\n",
       "})(window);"
      ],
      "application/vnd.bokehjs_exec.v0+json": ""
     },
     "metadata": {
      "application/vnd.bokehjs_exec.v0+json": {
       "id": "f0a8dc17-4f98-4fd7-a2eb-31ac3f928068"
      }
     },
     "output_type": "display_data"
    }
   ],
   "source": [
    "p = figure(plot_width=400, plot_height=400)\n",
    "\n",
    "# keep a reference to the returned GlyphRenderer\n",
    "r = p.circle([1,2,3,4,5], [2,5,8,2,7])\n",
    "\n",
    "r.glyph.size = 50\n",
    "r.glyph.fill_alpha = 0.2\n",
    "r.glyph.line_color = \"firebrick\"\n",
    "r.glyph.line_dash = [5, 1]\n",
    "r.glyph.line_width = 2\n",
    "\n",
    "show(p)"
   ]
  },
  {
   "cell_type": "markdown",
   "metadata": {},
   "source": [
    "### Selection and non-selection visuals\n",
    "\n",
    "You can also control how glyphs look when there are selections involved. The set of \"selected\" points is displayed according to the optional `.selection_glyph` property of a `GlyphRenderer`:\n",
    "```python\n",
    "r.selection_glyph = Circle(fill_alpha=1, fill_color=\"firebrick\", line_color=None) \n",
    "```\n",
    "When there is a non-empty selection, the set of \"unselected: points is displayed according to the optional  `.nonselection_glyph` property of a `GlyphRenderer`:\n",
    "```python\n",
    "r.nonselection_glyph = Circle(fill_alpha=0.2, fill_color=\"grey\", line_color=None) \n",
    "```\n",
    "\n",
    "When using the `bokeh.plotting` interface, it is easier to pass these visual properties to the glyph methods as shown below. The glyph method will create the selection or nonselection glyphs and attach them to the renderer for you. "
   ]
  },
  {
   "cell_type": "code",
   "execution_count": 5,
   "metadata": {},
   "outputs": [
    {
     "data": {
      "text/html": [
       "\n",
       "<div class=\"bk-root\">\n",
       "    <div class=\"bk-plotdiv\" id=\"9cfcedf1-f069-4327-a038-4a58447f0db2\"></div>\n",
       "</div>"
      ]
     },
     "metadata": {},
     "output_type": "display_data"
    },
    {
     "data": {
      "application/javascript": [
       "(function(root) {\n",
       "  function embed_document(root) {\n",
       "    var docs_json = {\"8a98b4d9-1cdf-42dc-b831-969ff6046901\":{\"roots\":{\"references\":[{\"attributes\":{},\"id\":\"34b8eb1f-1b64-4120-b0d1-edc1071b7a50\",\"type\":\"BasicTicker\"},{\"attributes\":{\"fill_color\":{\"value\":\"#1f77b4\"},\"line_color\":{\"value\":\"#1f77b4\"},\"size\":{\"units\":\"screen\",\"value\":50},\"x\":{\"field\":\"x\"},\"y\":{\"field\":\"y\"}},\"id\":\"90149c52-def7-4cf6-a301-493164d94754\",\"type\":\"Circle\"},{\"attributes\":{\"callback\":null},\"id\":\"c94201e8-ffb6-4bd8-b88d-cc88729f9e41\",\"type\":\"DataRange1d\"},{\"attributes\":{\"dimension\":1,\"plot\":{\"id\":\"5d63787d-e7d3-4a48-8045-ae8f21f7ca50\",\"subtype\":\"Figure\",\"type\":\"Plot\"},\"ticker\":{\"id\":\"34b8eb1f-1b64-4120-b0d1-edc1071b7a50\",\"type\":\"BasicTicker\"}},\"id\":\"17138eef-3651-44d9-a586-edb66be1cafc\",\"type\":\"Grid\"},{\"attributes\":{},\"id\":\"57ab7b2c-63cb-4e15-903b-c73bb43d72b5\",\"type\":\"LinearScale\"},{\"attributes\":{\"formatter\":{\"id\":\"a64ca1ba-5035-44fc-a951-58d19d6d42f6\",\"type\":\"BasicTickFormatter\"},\"plot\":{\"id\":\"5d63787d-e7d3-4a48-8045-ae8f21f7ca50\",\"subtype\":\"Figure\",\"type\":\"Plot\"},\"ticker\":{\"id\":\"34b8eb1f-1b64-4120-b0d1-edc1071b7a50\",\"type\":\"BasicTicker\"}},\"id\":\"3471e2fb-5bb3-4748-8063-cb9ae3eabbb6\",\"type\":\"LinearAxis\"},{\"attributes\":{\"fill_color\":{\"value\":\"firebrick\"},\"line_color\":{\"value\":\"firebrick\"},\"size\":{\"units\":\"screen\",\"value\":50},\"x\":{\"field\":\"x\"},\"y\":{\"field\":\"y\"}},\"id\":\"302cf20c-f2ae-4c9f-91c0-e44f302efce0\",\"type\":\"Circle\"},{\"attributes\":{},\"id\":\"1e3b67e7-647e-4876-8b8e-e0701ccfadb1\",\"type\":\"BasicTicker\"},{\"attributes\":{\"formatter\":{\"id\":\"112b0621-9dd0-4452-abf9-6f36d29caeff\",\"type\":\"BasicTickFormatter\"},\"plot\":{\"id\":\"5d63787d-e7d3-4a48-8045-ae8f21f7ca50\",\"subtype\":\"Figure\",\"type\":\"Plot\"},\"ticker\":{\"id\":\"1e3b67e7-647e-4876-8b8e-e0701ccfadb1\",\"type\":\"BasicTicker\"}},\"id\":\"3b05e0a3-ac3b-4fd9-abf0-ace3dd54184d\",\"type\":\"LinearAxis\"},{\"attributes\":{\"callback\":null,\"column_names\":[\"x\",\"y\"],\"data\":{\"x\":[1,2,3,4,5],\"y\":[2,5,8,2,7]}},\"id\":\"87602e47-1ec0-48da-aeff-09924c56f5b3\",\"type\":\"ColumnDataSource\"},{\"attributes\":{\"plot\":{\"id\":\"5d63787d-e7d3-4a48-8045-ae8f21f7ca50\",\"subtype\":\"Figure\",\"type\":\"Plot\"},\"ticker\":{\"id\":\"1e3b67e7-647e-4876-8b8e-e0701ccfadb1\",\"type\":\"BasicTicker\"}},\"id\":\"e565802c-7c24-425b-8d5c-b52d75843df6\",\"type\":\"Grid\"},{\"attributes\":{},\"id\":\"a64ca1ba-5035-44fc-a951-58d19d6d42f6\",\"type\":\"BasicTickFormatter\"},{\"attributes\":{\"fill_alpha\":{\"value\":0.2},\"fill_color\":{\"value\":\"grey\"},\"line_color\":{\"value\":\"firebrick\"},\"size\":{\"units\":\"screen\",\"value\":50},\"x\":{\"field\":\"x\"},\"y\":{\"field\":\"y\"}},\"id\":\"a55bed6b-96f6-40cb-b544-d7500af0b05d\",\"type\":\"Circle\"},{\"attributes\":{},\"id\":\"395158ee-4d54-4265-a306-d0540b8ba54c\",\"type\":\"LinearScale\"},{\"attributes\":{\"callback\":null},\"id\":\"6a8492bf-c4b0-4e6a-a6fa-4c5b96c79e5e\",\"type\":\"DataRange1d\"},{\"attributes\":{\"below\":[{\"id\":\"3b05e0a3-ac3b-4fd9-abf0-ace3dd54184d\",\"type\":\"LinearAxis\"}],\"left\":[{\"id\":\"3471e2fb-5bb3-4748-8063-cb9ae3eabbb6\",\"type\":\"LinearAxis\"}],\"plot_height\":400,\"plot_width\":400,\"renderers\":[{\"id\":\"3b05e0a3-ac3b-4fd9-abf0-ace3dd54184d\",\"type\":\"LinearAxis\"},{\"id\":\"e565802c-7c24-425b-8d5c-b52d75843df6\",\"type\":\"Grid\"},{\"id\":\"3471e2fb-5bb3-4748-8063-cb9ae3eabbb6\",\"type\":\"LinearAxis\"},{\"id\":\"17138eef-3651-44d9-a586-edb66be1cafc\",\"type\":\"Grid\"},{\"id\":\"9b9c1d00-6e88-40d1-b27a-e2e8a2692375\",\"type\":\"GlyphRenderer\"}],\"title\":{\"id\":\"4347188c-8029-46e7-b021-a01c577c262e\",\"type\":\"Title\"},\"toolbar\":{\"id\":\"70a919b3-730b-45b2-9786-ab8d5e58e931\",\"type\":\"Toolbar\"},\"x_range\":{\"id\":\"6a8492bf-c4b0-4e6a-a6fa-4c5b96c79e5e\",\"type\":\"DataRange1d\"},\"x_scale\":{\"id\":\"395158ee-4d54-4265-a306-d0540b8ba54c\",\"type\":\"LinearScale\"},\"y_range\":{\"id\":\"c94201e8-ffb6-4bd8-b88d-cc88729f9e41\",\"type\":\"DataRange1d\"},\"y_scale\":{\"id\":\"57ab7b2c-63cb-4e15-903b-c73bb43d72b5\",\"type\":\"LinearScale\"}},\"id\":\"5d63787d-e7d3-4a48-8045-ae8f21f7ca50\",\"subtype\":\"Figure\",\"type\":\"Plot\"},{\"attributes\":{\"data_source\":{\"id\":\"87602e47-1ec0-48da-aeff-09924c56f5b3\",\"type\":\"ColumnDataSource\"},\"glyph\":{\"id\":\"90149c52-def7-4cf6-a301-493164d94754\",\"type\":\"Circle\"},\"hover_glyph\":null,\"muted_glyph\":null,\"nonselection_glyph\":{\"id\":\"a55bed6b-96f6-40cb-b544-d7500af0b05d\",\"type\":\"Circle\"},\"selection_glyph\":{\"id\":\"302cf20c-f2ae-4c9f-91c0-e44f302efce0\",\"type\":\"Circle\"},\"view\":{\"id\":\"0979889d-2398-4d64-b427-e9a46d3bcad6\",\"type\":\"CDSView\"}},\"id\":\"9b9c1d00-6e88-40d1-b27a-e2e8a2692375\",\"type\":\"GlyphRenderer\"},{\"attributes\":{\"active_drag\":\"auto\",\"active_inspect\":\"auto\",\"active_scroll\":\"auto\",\"active_tap\":\"auto\",\"tools\":[{\"id\":\"6dc675fb-15ba-4153-b840-2523ed4d08e4\",\"type\":\"TapTool\"}]},\"id\":\"70a919b3-730b-45b2-9786-ab8d5e58e931\",\"type\":\"Toolbar\"},{\"attributes\":{\"plot\":null,\"text\":\"Select a circle\"},\"id\":\"4347188c-8029-46e7-b021-a01c577c262e\",\"type\":\"Title\"},{\"attributes\":{\"callback\":null},\"id\":\"6dc675fb-15ba-4153-b840-2523ed4d08e4\",\"type\":\"TapTool\"},{\"attributes\":{\"source\":{\"id\":\"87602e47-1ec0-48da-aeff-09924c56f5b3\",\"type\":\"ColumnDataSource\"}},\"id\":\"0979889d-2398-4d64-b427-e9a46d3bcad6\",\"type\":\"CDSView\"},{\"attributes\":{},\"id\":\"112b0621-9dd0-4452-abf9-6f36d29caeff\",\"type\":\"BasicTickFormatter\"}],\"root_ids\":[\"5d63787d-e7d3-4a48-8045-ae8f21f7ca50\"]},\"title\":\"Bokeh Application\",\"version\":\"0.12.10\"}};\n",
       "    var render_items = [{\"docid\":\"8a98b4d9-1cdf-42dc-b831-969ff6046901\",\"elementid\":\"9cfcedf1-f069-4327-a038-4a58447f0db2\",\"modelid\":\"5d63787d-e7d3-4a48-8045-ae8f21f7ca50\"}];\n",
       "\n",
       "    root.Bokeh.embed.embed_items(docs_json, render_items);\n",
       "  }\n",
       "\n",
       "  if (root.Bokeh !== undefined) {\n",
       "    embed_document(root);\n",
       "  } else {\n",
       "    var attempts = 0;\n",
       "    var timer = setInterval(function(root) {\n",
       "      if (root.Bokeh !== undefined) {\n",
       "        embed_document(root);\n",
       "        clearInterval(timer);\n",
       "      }\n",
       "      attempts++;\n",
       "      if (attempts > 100) {\n",
       "        console.log(\"Bokeh: ERROR: Unable to embed document because BokehJS library is missing\")\n",
       "        clearInterval(timer);\n",
       "      }\n",
       "    }, 10, root)\n",
       "  }\n",
       "})(window);"
      ],
      "application/vnd.bokehjs_exec.v0+json": ""
     },
     "metadata": {
      "application/vnd.bokehjs_exec.v0+json": {
       "id": "5d63787d-e7d3-4a48-8045-ae8f21f7ca50"
      }
     },
     "output_type": "display_data"
    }
   ],
   "source": [
    "p = figure(plot_width=400, plot_height=400, tools=\"tap\", title=\"Select a circle\")\n",
    "renderer = p.circle([1, 2, 3, 4, 5], [2, 5, 8, 2, 7], size=50,\n",
    "\n",
    "                    # set visual properties for selected glyphs\n",
    "                    selection_color=\"firebrick\",\n",
    "\n",
    "                    # set visual properties for non-selected glyphs\n",
    "                    nonselection_fill_alpha=0.2,\n",
    "                    nonselection_fill_color=\"grey\",\n",
    "                    nonselection_line_color=\"firebrick\",\n",
    "                    nonselection_line_alpha=1.0)\n",
    "\n",
    "show(p)"
   ]
  },
  {
   "cell_type": "markdown",
   "metadata": {},
   "source": [
    "It is also possible to specify the visual appearance of glyphs when they are \"inspected\", e.g. by a hover tool. This is accomplished by setting an optional `hover_glyph` on the glyph renderer:\n",
    "```python\n",
    "r.hover_glyph = Circle(fill_alpha=1, fill_color=\"firebrick\", line_color=None) \n",
    "```\n",
    "Or if using `bokeh.plotting` glyph methods, by passing `hover_fill_alpha`, etc. to the glyph method. Lets look at an example that works together with a `HoverTool` configured for \"hline\" hit-testing."
   ]
  },
  {
   "cell_type": "code",
   "execution_count": 8,
   "metadata": {
    "scrolled": true
   },
   "outputs": [
    {
     "name": "stdout",
     "output_type": "stream",
     "text": [
      "Creating /home/ml-engineer/.bokeh directory\n",
      "Creating /home/ml-engineer/.bokeh/data directory\n",
      "Using data directory: /home/ml-engineer/.bokeh/data\n",
      "Downloading: CGM.csv (1589982 bytes)\n",
      "   1589982 [100.00%]\n",
      "Downloading: US_Counties.zip (3182088 bytes)\n",
      "   3182088 [100.00%]\n",
      "Unpacking: US_Counties.csv\n",
      "Downloading: us_cities.json (713565 bytes)\n",
      "    713565 [100.00%]\n",
      "Downloading: unemployment09.csv (253301 bytes)\n",
      "    253301 [100.00%]\n",
      "Downloading: AAPL.csv (166698 bytes)\n",
      "    166698 [100.00%]\n",
      "Downloading: FB.csv (9706 bytes)\n",
      "      9706 [100.00%]\n",
      "Downloading: GOOG.csv (113894 bytes)\n",
      "    113894 [100.00%]\n",
      "Downloading: IBM.csv (165625 bytes)\n",
      "    165625 [100.00%]\n",
      "Downloading: MSFT.csv (161614 bytes)\n",
      "    161614 [100.00%]\n",
      "Downloading: WPP2012_SA_DB03_POPULATION_QUINQUENNIAL.zip (5148539 bytes)\n",
      "   5148539 [100.00%]\n",
      "Unpacking: WPP2012_SA_DB03_POPULATION_QUINQUENNIAL.csv\n",
      "Downloading: gapminder_fertility.csv (64346 bytes)\n",
      "     64346 [100.00%]\n",
      "Downloading: gapminder_population.csv (94509 bytes)\n",
      "     94509 [100.00%]\n",
      "Downloading: gapminder_life_expectancy.csv (73243 bytes)\n",
      "     73243 [100.00%]\n",
      "Downloading: gapminder_regions.csv (7781 bytes)\n",
      "      7781 [100.00%]\n",
      "Downloading: world_cities.zip (646858 bytes)\n",
      "    646858 [100.00%]\n",
      "Unpacking: world_cities.csv\n",
      "Downloading: airports.json (6373 bytes)\n",
      "      6373 [100.00%]\n",
      "Downloading: movies.db.zip (5067833 bytes)\n",
      "   5067833 [100.00%]\n",
      "Unpacking: movies.db\n",
      "Downloading: airports.csv (203190 bytes)\n",
      "    203190 [100.00%]\n",
      "Downloading: routes.csv (377280 bytes)\n",
      "    377280 [100.00%]\n"
     ]
    }
   ],
   "source": [
    "import bokeh\n",
    "bokeh.sampledata.download()"
   ]
  },
  {
   "cell_type": "code",
   "execution_count": 9,
   "metadata": {},
   "outputs": [
    {
     "data": {
      "text/html": [
       "\n",
       "<div class=\"bk-root\">\n",
       "    <div class=\"bk-plotdiv\" id=\"bb0f1c53-3dcd-4f0a-9542-b01fb26985a6\"></div>\n",
       "</div>"
      ]
     },
     "metadata": {},
     "output_type": "display_data"
    },
    {
     "data": {
      "application/javascript": [
       "(function(root) {\n",
       "  function embed_document(root) {\n",
       "    var docs_json = {\"30add3f7-2b29-485f-baf8-f69e7fd806a1\":{\"roots\":{\"references\":[{\"attributes\":{\"data_source\":{\"id\":\"b1abb385-88ef-4711-8b8d-5e3aa1a0e658\",\"type\":\"ColumnDataSource\"},\"glyph\":{\"id\":\"4c81af42-507e-404f-910b-4f2215718a09\",\"type\":\"Line\"},\"hover_glyph\":null,\"muted_glyph\":null,\"nonselection_glyph\":{\"id\":\"f60ad1c6-9f1d-497c-86d8-b36f5ad7497c\",\"type\":\"Line\"},\"selection_glyph\":null,\"view\":{\"id\":\"1da120d4-4ff2-4e54-a9dc-dd123dbdbb9c\",\"type\":\"CDSView\"}},\"id\":\"19ac417d-d5da-41e4-9811-189340235bda\",\"type\":\"GlyphRenderer\"},{\"attributes\":{},\"id\":\"1012c8cf-54b8-43b9-a310-aaf84fcb00db\",\"type\":\"BasicTickFormatter\"},{\"attributes\":{\"callback\":null,\"column_names\":[\"x\",\"y\"],\"data\":{\"x\":{\"__ndarray__\":\"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\",\"dtype\":\"float64\",\"shape\":[288]},\"y\":[143,147,150,152,152,152,154,155,142,140,138,134,131,130,128,127,126,126,126,126,127,129,131,132,134,136,136,136,136,135,134,132,130,130,130,129,128,127,125,124,123,123,122,121,120,118,115,112,111,111,110,110,109,108,107,107,107,108,107,105,105,105,105,104,103,102,99,97,96,94,94,93,93,92,91,92,94,95,96,97,99,102,104,112,112,112,111,110,107,104,105,105,103,99,96,94,95,102,114,128,144,160,173,185,196,205,209,214,219,226,234,241,248,255,260,265,268,270,272,271,271,268,265,261,256,253,250,246,244,241,237,233,229,225,222,204,200,197,193,190,186,182,179,175,171,168,164,158,154,151,148,145,141,133,139,152,173,196,217,233,244,249,250,253,256,260,263,265,265,264,260,254,246,234,217,200,188,181,175,169,164,159,154,147,138,132,129,127,123,117,111,106,104,103,100,94,88,83,78,75,73,71,69,68,67,67,68,70,71,71,70,69,68,67,67,67,66,67,69,71,74,76,78,80,80,80,80,80,80,82,84,87,90,92,87,87,86,86,86,86,87,87,87,85,83,82,83,87,95,107,118,130,141,149,172,179,187,201,214,221,225,230,232,230,223,216,208,199,191,185,181,177,176,177,176,173,171,169,163,154,152,153,154,154,153,151,150,150]}},\"id\":\"2fd73066-6490-4264-bf28-6c7687ad2978\",\"type\":\"ColumnDataSource\"},{\"attributes\":{\"bottom_units\":\"screen\",\"fill_alpha\":{\"value\":0.5},\"fill_color\":{\"value\":\"lightgrey\"},\"left_units\":\"screen\",\"level\":\"overlay\",\"line_alpha\":{\"value\":1.0},\"line_color\":{\"value\":\"black\"},\"line_dash\":[4,4],\"line_width\":{\"value\":2},\"plot\":null,\"render_mode\":\"css\",\"right_units\":\"screen\",\"top_units\":\"screen\"},\"id\":\"b383f14e-1c41-4ec7-90e9-90b31901d9d7\",\"type\":\"BoxAnnotation\"},{\"attributes\":{},\"id\":\"4dd26013-eb4d-40a5-9372-f65639fb9999\",\"type\":\"PanTool\"},{\"attributes\":{\"base\":60,\"mantissas\":[1,2,5,10,15,20,30],\"max_interval\":1800000.0,\"min_interval\":1000.0,\"num_minor_ticks\":0},\"id\":\"21b311d8-0f5b-4ddf-879c-f7c7b0c0102b\",\"type\":\"AdaptiveTicker\"},{\"attributes\":{},\"id\":\"b76c5000-aeba-4a4e-96b9-d942dc8fe3b1\",\"type\":\"WheelZoomTool\"},{\"attributes\":{\"overlay\":{\"id\":\"b383f14e-1c41-4ec7-90e9-90b31901d9d7\",\"type\":\"BoxAnnotation\"}},\"id\":\"8218fec3-a840-4457-bbc0-589556dd33b4\",\"type\":\"BoxZoomTool\"},{\"attributes\":{},\"id\":\"504c04d1-57d3-4532-a58c-e51679bd9181\",\"type\":\"SaveTool\"},{\"attributes\":{},\"id\":\"2a44df6b-928c-47ef-8f24-408e305a2ffd\",\"type\":\"ResetTool\"},{\"attributes\":{},\"id\":\"b8ed642d-9950-47cb-8d93-90a04415fbc0\",\"type\":\"HelpTool\"},{\"attributes\":{\"base\":24,\"mantissas\":[1,2,4,6,8,12],\"max_interval\":43200000.0,\"min_interval\":3600000.0,\"num_minor_ticks\":0},\"id\":\"3d4425fd-1619-42c4-8daf-98227df8598a\",\"type\":\"AdaptiveTicker\"},{\"attributes\":{},\"id\":\"a1d42e6d-67eb-4fe8-94e8-df2e6e81df0f\",\"type\":\"DatetimeTickFormatter\"},{\"attributes\":{\"line_color\":{\"value\":\"gray\"},\"line_dash\":[4,4],\"x\":{\"field\":\"x\"},\"y\":{\"field\":\"y\"}},\"id\":\"4c81af42-507e-404f-910b-4f2215718a09\",\"type\":\"Line\"},{\"attributes\":{\"days\":[1,2,3,4,5,6,7,8,9,10,11,12,13,14,15,16,17,18,19,20,21,22,23,24,25,26,27,28,29,30,31]},\"id\":\"ca8bd888-c4ef-48c5-968b-8436a1d3fdd4\",\"type\":\"DaysTicker\"},{\"attributes\":{\"days\":[1,15]},\"id\":\"530fa9ef-770f-42fb-a803-da6ed96509c6\",\"type\":\"DaysTicker\"},{\"attributes\":{\"fill_alpha\":{\"value\":0.05},\"fill_color\":{\"value\":\"grey\"},\"line_color\":{\"value\":null},\"size\":{\"units\":\"screen\",\"value\":20},\"x\":{\"field\":\"x\"},\"y\":{\"field\":\"y\"}},\"id\":\"ebd6d23b-4d88-4b62-b84b-a99edd98a344\",\"type\":\"Circle\"},{\"attributes\":{\"callback\":null,\"column_names\":[\"x\",\"y\"],\"data\":{\"x\":{\"__ndarray__\":\"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\",\"dtype\":\"float64\",\"shape\":[288]},\"y\":[143,147,150,152,152,152,154,155,142,140,138,134,131,130,128,127,126,126,126,126,127,129,131,132,134,136,136,136,136,135,134,132,130,130,130,129,128,127,125,124,123,123,122,121,120,118,115,112,111,111,110,110,109,108,107,107,107,108,107,105,105,105,105,104,103,102,99,97,96,94,94,93,93,92,91,92,94,95,96,97,99,102,104,112,112,112,111,110,107,104,105,105,103,99,96,94,95,102,114,128,144,160,173,185,196,205,209,214,219,226,234,241,248,255,260,265,268,270,272,271,271,268,265,261,256,253,250,246,244,241,237,233,229,225,222,204,200,197,193,190,186,182,179,175,171,168,164,158,154,151,148,145,141,133,139,152,173,196,217,233,244,249,250,253,256,260,263,265,265,264,260,254,246,234,217,200,188,181,175,169,164,159,154,147,138,132,129,127,123,117,111,106,104,103,100,94,88,83,78,75,73,71,69,68,67,67,68,70,71,71,70,69,68,67,67,67,66,67,69,71,74,76,78,80,80,80,80,80,80,82,84,87,90,92,87,87,86,86,86,86,87,87,87,85,83,82,83,87,95,107,118,130,141,149,172,179,187,201,214,221,225,230,232,230,223,216,208,199,191,185,181,177,176,177,176,173,171,169,163,154,152,153,154,154,153,151,150,150]}},\"id\":\"b1abb385-88ef-4711-8b8d-5e3aa1a0e658\",\"type\":\"ColumnDataSource\"},{\"attributes\":{\"mantissas\":[1,2,5],\"max_interval\":500.0,\"num_minor_ticks\":0},\"id\":\"e782772d-badf-409a-b4e2-d10561b7b102\",\"type\":\"AdaptiveTicker\"},{\"attributes\":{\"days\":[1,8,15,22]},\"id\":\"a07b2eb2-815b-4895-b165-b88e534f5c8e\",\"type\":\"DaysTicker\"},{\"attributes\":{\"active_drag\":\"auto\",\"active_inspect\":\"auto\",\"active_scroll\":\"auto\",\"active_tap\":\"auto\",\"tools\":[{\"id\":\"4dd26013-eb4d-40a5-9372-f65639fb9999\",\"type\":\"PanTool\"},{\"id\":\"b76c5000-aeba-4a4e-96b9-d942dc8fe3b1\",\"type\":\"WheelZoomTool\"},{\"id\":\"8218fec3-a840-4457-bbc0-589556dd33b4\",\"type\":\"BoxZoomTool\"},{\"id\":\"504c04d1-57d3-4532-a58c-e51679bd9181\",\"type\":\"SaveTool\"},{\"id\":\"2a44df6b-928c-47ef-8f24-408e305a2ffd\",\"type\":\"ResetTool\"},{\"id\":\"b8ed642d-9950-47cb-8d93-90a04415fbc0\",\"type\":\"HelpTool\"},{\"id\":\"04915e08-ef0a-4a06-94cf-aae4950492a5\",\"type\":\"HoverTool\"}]},\"id\":\"a95bd3cd-9b7c-4a87-ba74-a22a6dc4bee4\",\"type\":\"Toolbar\"},{\"attributes\":{\"days\":[1,4,7,10,13,16,19,22,25,28]},\"id\":\"09d7df90-762c-43a6-9883-525bb3c48f23\",\"type\":\"DaysTicker\"},{\"attributes\":{\"months\":[0,1,2,3,4,5,6,7,8,9,10,11]},\"id\":\"3ede053a-d3b1-4a9f-b1da-41574836fec7\",\"type\":\"MonthsTicker\"},{\"attributes\":{\"below\":[{\"id\":\"3669a98f-f790-4852-9c90-3a49cdd70dba\",\"type\":\"DatetimeAxis\"}],\"left\":[{\"id\":\"3695356e-04fa-4430-a44e-7cf423b3b6ee\",\"type\":\"LinearAxis\"}],\"plot_height\":300,\"renderers\":[{\"id\":\"3669a98f-f790-4852-9c90-3a49cdd70dba\",\"type\":\"DatetimeAxis\"},{\"id\":\"88aa9a1f-8c73-40c7-b6bd-68154cb3f869\",\"type\":\"Grid\"},{\"id\":\"3695356e-04fa-4430-a44e-7cf423b3b6ee\",\"type\":\"LinearAxis\"},{\"id\":\"681556ea-2524-4a30-91c4-85e94ae68ae3\",\"type\":\"Grid\"},{\"id\":\"b383f14e-1c41-4ec7-90e9-90b31901d9d7\",\"type\":\"BoxAnnotation\"},{\"id\":\"19ac417d-d5da-41e4-9811-189340235bda\",\"type\":\"GlyphRenderer\"},{\"id\":\"e8bb4bca-18b0-4a5e-a030-8dd692b67140\",\"type\":\"GlyphRenderer\"}],\"title\":{\"id\":\"21fae759-fdf1-4130-9551-f46f921a9b81\",\"type\":\"Title\"},\"toolbar\":{\"id\":\"a95bd3cd-9b7c-4a87-ba74-a22a6dc4bee4\",\"type\":\"Toolbar\"},\"x_range\":{\"id\":\"7f084ff7-8676-43be-aa25-42ff7372c902\",\"type\":\"DataRange1d\"},\"x_scale\":{\"id\":\"91b97f93-9898-40b3-a6b4-c7a4d80a4afd\",\"type\":\"LinearScale\"},\"y_range\":{\"id\":\"ef2a8c64-9e1c-46e1-abda-0ad7baad930d\",\"type\":\"DataRange1d\"},\"y_scale\":{\"id\":\"786c4bf0-a463-4baa-9d35-8033e7fbc004\",\"type\":\"LinearScale\"}},\"id\":\"d359dff4-28db-4015-933c-f38b746cf8b7\",\"subtype\":\"Figure\",\"type\":\"Plot\"},{\"attributes\":{\"months\":[0,2,4,6,8,10]},\"id\":\"72087134-ac68-4ea1-97cf-e578bdb68f34\",\"type\":\"MonthsTicker\"},{\"attributes\":{\"months\":[0,4,8]},\"id\":\"6ec74be2-dede-4348-8ef2-51c2b51081ea\",\"type\":\"MonthsTicker\"},{\"attributes\":{\"callback\":null},\"id\":\"7f084ff7-8676-43be-aa25-42ff7372c902\",\"type\":\"DataRange1d\"},{\"attributes\":{\"months\":[0,6]},\"id\":\"5a9f5ea0-906b-4a42-bbc2-018f8880aed1\",\"type\":\"MonthsTicker\"},{\"attributes\":{\"line_alpha\":{\"value\":0.1},\"line_color\":{\"value\":\"#1f77b4\"},\"line_dash\":[4,4],\"x\":{\"field\":\"x\"},\"y\":{\"field\":\"y\"}},\"id\":\"f60ad1c6-9f1d-497c-86d8-b36f5ad7497c\",\"type\":\"Line\"},{\"attributes\":{},\"id\":\"244e6ed7-de2d-430e-903a-44ae0e1ff805\",\"type\":\"YearsTicker\"},{\"attributes\":{\"plot\":null,\"text\":\"Hover over points\"},\"id\":\"21fae759-fdf1-4130-9551-f46f921a9b81\",\"type\":\"Title\"},{\"attributes\":{\"callback\":null,\"mode\":\"hline\",\"renderers\":[{\"id\":\"e8bb4bca-18b0-4a5e-a030-8dd692b67140\",\"type\":\"GlyphRenderer\"}],\"tooltips\":null},\"id\":\"04915e08-ef0a-4a06-94cf-aae4950492a5\",\"type\":\"HoverTool\"},{\"attributes\":{},\"id\":\"91b97f93-9898-40b3-a6b4-c7a4d80a4afd\",\"type\":\"LinearScale\"},{\"attributes\":{\"callback\":null},\"id\":\"ef2a8c64-9e1c-46e1-abda-0ad7baad930d\",\"type\":\"DataRange1d\"},{\"attributes\":{\"fill_alpha\":{\"value\":0.1},\"fill_color\":{\"value\":\"#1f77b4\"},\"line_alpha\":{\"value\":0.1},\"line_color\":{\"value\":\"#1f77b4\"},\"size\":{\"units\":\"screen\",\"value\":20},\"x\":{\"field\":\"x\"},\"y\":{\"field\":\"y\"}},\"id\":\"1f96c450-8cb2-4cc1-afe2-b337e01f1f67\",\"type\":\"Circle\"},{\"attributes\":{},\"id\":\"786c4bf0-a463-4baa-9d35-8033e7fbc004\",\"type\":\"LinearScale\"},{\"attributes\":{\"fill_alpha\":{\"value\":0.3},\"fill_color\":{\"value\":\"firebrick\"},\"line_alpha\":{\"value\":0.3},\"line_color\":{\"value\":\"white\"},\"size\":{\"units\":\"screen\",\"value\":20},\"x\":{\"field\":\"x\"},\"y\":{\"field\":\"y\"}},\"id\":\"41b0ec30-afd2-47b8-bec7-a74eaafa21a8\",\"type\":\"Circle\"},{\"attributes\":{\"plot\":{\"id\":\"d359dff4-28db-4015-933c-f38b746cf8b7\",\"subtype\":\"Figure\",\"type\":\"Plot\"},\"ticker\":{\"id\":\"b7b29810-9d57-4f49-8afe-8c18590d2166\",\"type\":\"DatetimeTicker\"}},\"id\":\"88aa9a1f-8c73-40c7-b6bd-68154cb3f869\",\"type\":\"Grid\"},{\"attributes\":{\"source\":{\"id\":\"2fd73066-6490-4264-bf28-6c7687ad2978\",\"type\":\"ColumnDataSource\"}},\"id\":\"4cfc1b2c-fb83-4388-83b0-5669db97b5e6\",\"type\":\"CDSView\"},{\"attributes\":{\"source\":{\"id\":\"b1abb385-88ef-4711-8b8d-5e3aa1a0e658\",\"type\":\"ColumnDataSource\"}},\"id\":\"1da120d4-4ff2-4e54-a9dc-dd123dbdbb9c\",\"type\":\"CDSView\"},{\"attributes\":{\"data_source\":{\"id\":\"2fd73066-6490-4264-bf28-6c7687ad2978\",\"type\":\"ColumnDataSource\"},\"glyph\":{\"id\":\"ebd6d23b-4d88-4b62-b84b-a99edd98a344\",\"type\":\"Circle\"},\"hover_glyph\":{\"id\":\"41b0ec30-afd2-47b8-bec7-a74eaafa21a8\",\"type\":\"Circle\"},\"muted_glyph\":null,\"nonselection_glyph\":{\"id\":\"1f96c450-8cb2-4cc1-afe2-b337e01f1f67\",\"type\":\"Circle\"},\"selection_glyph\":null,\"view\":{\"id\":\"4cfc1b2c-fb83-4388-83b0-5669db97b5e6\",\"type\":\"CDSView\"}},\"id\":\"e8bb4bca-18b0-4a5e-a030-8dd692b67140\",\"type\":\"GlyphRenderer\"},{\"attributes\":{\"formatter\":{\"id\":\"1012c8cf-54b8-43b9-a310-aaf84fcb00db\",\"type\":\"BasicTickFormatter\"},\"plot\":{\"id\":\"d359dff4-28db-4015-933c-f38b746cf8b7\",\"subtype\":\"Figure\",\"type\":\"Plot\"},\"ticker\":{\"id\":\"370e4ac5-0fa4-4862-9b4f-2bcfba8e2288\",\"type\":\"BasicTicker\"}},\"id\":\"3695356e-04fa-4430-a44e-7cf423b3b6ee\",\"type\":\"LinearAxis\"},{\"attributes\":{},\"id\":\"370e4ac5-0fa4-4862-9b4f-2bcfba8e2288\",\"type\":\"BasicTicker\"},{\"attributes\":{\"formatter\":{\"id\":\"a1d42e6d-67eb-4fe8-94e8-df2e6e81df0f\",\"type\":\"DatetimeTickFormatter\"},\"plot\":{\"id\":\"d359dff4-28db-4015-933c-f38b746cf8b7\",\"subtype\":\"Figure\",\"type\":\"Plot\"},\"ticker\":{\"id\":\"b7b29810-9d57-4f49-8afe-8c18590d2166\",\"type\":\"DatetimeTicker\"}},\"id\":\"3669a98f-f790-4852-9c90-3a49cdd70dba\",\"type\":\"DatetimeAxis\"},{\"attributes\":{\"num_minor_ticks\":5,\"tickers\":[{\"id\":\"e782772d-badf-409a-b4e2-d10561b7b102\",\"type\":\"AdaptiveTicker\"},{\"id\":\"21b311d8-0f5b-4ddf-879c-f7c7b0c0102b\",\"type\":\"AdaptiveTicker\"},{\"id\":\"3d4425fd-1619-42c4-8daf-98227df8598a\",\"type\":\"AdaptiveTicker\"},{\"id\":\"ca8bd888-c4ef-48c5-968b-8436a1d3fdd4\",\"type\":\"DaysTicker\"},{\"id\":\"09d7df90-762c-43a6-9883-525bb3c48f23\",\"type\":\"DaysTicker\"},{\"id\":\"a07b2eb2-815b-4895-b165-b88e534f5c8e\",\"type\":\"DaysTicker\"},{\"id\":\"530fa9ef-770f-42fb-a803-da6ed96509c6\",\"type\":\"DaysTicker\"},{\"id\":\"3ede053a-d3b1-4a9f-b1da-41574836fec7\",\"type\":\"MonthsTicker\"},{\"id\":\"72087134-ac68-4ea1-97cf-e578bdb68f34\",\"type\":\"MonthsTicker\"},{\"id\":\"6ec74be2-dede-4348-8ef2-51c2b51081ea\",\"type\":\"MonthsTicker\"},{\"id\":\"5a9f5ea0-906b-4a42-bbc2-018f8880aed1\",\"type\":\"MonthsTicker\"},{\"id\":\"244e6ed7-de2d-430e-903a-44ae0e1ff805\",\"type\":\"YearsTicker\"}]},\"id\":\"b7b29810-9d57-4f49-8afe-8c18590d2166\",\"type\":\"DatetimeTicker\"},{\"attributes\":{\"dimension\":1,\"plot\":{\"id\":\"d359dff4-28db-4015-933c-f38b746cf8b7\",\"subtype\":\"Figure\",\"type\":\"Plot\"},\"ticker\":{\"id\":\"370e4ac5-0fa4-4862-9b4f-2bcfba8e2288\",\"type\":\"BasicTicker\"}},\"id\":\"681556ea-2524-4a30-91c4-85e94ae68ae3\",\"type\":\"Grid\"}],\"root_ids\":[\"d359dff4-28db-4015-933c-f38b746cf8b7\"]},\"title\":\"Bokeh Application\",\"version\":\"0.12.10\"}};\n",
       "    var render_items = [{\"docid\":\"30add3f7-2b29-485f-baf8-f69e7fd806a1\",\"elementid\":\"bb0f1c53-3dcd-4f0a-9542-b01fb26985a6\",\"modelid\":\"d359dff4-28db-4015-933c-f38b746cf8b7\"}];\n",
       "\n",
       "    root.Bokeh.embed.embed_items(docs_json, render_items);\n",
       "  }\n",
       "\n",
       "  if (root.Bokeh !== undefined) {\n",
       "    embed_document(root);\n",
       "  } else {\n",
       "    var attempts = 0;\n",
       "    var timer = setInterval(function(root) {\n",
       "      if (root.Bokeh !== undefined) {\n",
       "        embed_document(root);\n",
       "        clearInterval(timer);\n",
       "      }\n",
       "      attempts++;\n",
       "      if (attempts > 100) {\n",
       "        console.log(\"Bokeh: ERROR: Unable to embed document because BokehJS library is missing\")\n",
       "        clearInterval(timer);\n",
       "      }\n",
       "    }, 10, root)\n",
       "  }\n",
       "})(window);"
      ],
      "application/vnd.bokehjs_exec.v0+json": ""
     },
     "metadata": {
      "application/vnd.bokehjs_exec.v0+json": {
       "id": "d359dff4-28db-4015-933c-f38b746cf8b7"
      }
     },
     "output_type": "display_data"
    }
   ],
   "source": [
    "from bokeh.models.tools import HoverTool\n",
    "from bokeh.sampledata.glucose import data\n",
    "\n",
    "subset = data.loc['2010-10-06']\n",
    "\n",
    "x, y = subset.index.to_series(), subset['glucose']\n",
    "\n",
    "# Basic plot setup\n",
    "p = figure(width=600, height=300, x_axis_type=\"datetime\", title='Hover over points')\n",
    "\n",
    "p.line(x, y, line_dash=\"4 4\", line_width=1, color='gray')\n",
    "\n",
    "cr = p.circle(x, y, size=20,\n",
    "              fill_color=\"grey\", hover_fill_color=\"firebrick\",\n",
    "              fill_alpha=0.05, hover_alpha=0.3,\n",
    "              line_color=None, hover_line_color=\"white\")\n",
    "\n",
    "p.add_tools(HoverTool(tooltips=None, renderers=[cr], mode='hline'))\n",
    "\n",
    "show(p)"
   ]
  },
  {
   "cell_type": "code",
   "execution_count": 8,
   "metadata": {
    "collapsed": true
   },
   "outputs": [],
   "source": [
    "# EXERCISE: experiment with standard, selected, hover glyph visual properties\n"
   ]
  },
  {
   "cell_type": "markdown",
   "metadata": {},
   "source": [
    "# Axes\n",
    "\n",
    "Next we will take a look at [stlying of Axes](http://bokeh.pydata.org/en/latest/docs/user_guide/styling.html#axes).\n",
    "\n",
    "To style axes, you first must get ahold of `Axis` objects. The simplest way is to use some convenience methods on `Plot`: [axis](http://bokeh.pydata.org/en/latest/docs/reference/plotting.html#bokeh.plotting.Figure.axis), [xaxis](http://bokeh.pydata.org/en/latest/docs/reference/plotting.html#bokeh.plotting.Figure.xaxis), and [yaxis](http://bokeh.pydata.org/en/latest/docs/reference/plotting.html#bokeh.plotting.Figure.yaxis). These methods return lists of axis objects:\n",
    "\n",
    "```\n",
    ">>> p.xaxis\n",
    "[<bokeh.models.axes.LinearAxis at 0x106fa2390>]\n",
    "```\n",
    "However, you can set properties on all the elements of the list as if it was a single object:\n",
    "```\n",
    "p.xaxis.axis_label = \"Temperature\"\n",
    "p.axis.major_label_text_color = \"orange\"\n",
    "```\n",
    "These are referred to as \"splattable\" lists, and tab completion works on them as well. \n"
   ]
  },
  {
   "cell_type": "code",
   "execution_count": 9,
   "metadata": {
    "collapsed": true
   },
   "outputs": [],
   "source": [
    "# EXERCISE Try out tab completion. Type p.xaxis.<press tab key> to see a list of attributes that can be set.\n",
    "\n"
   ]
  },
  {
   "cell_type": "markdown",
   "metadata": {},
   "source": [
    "## Axis properties\n",
    "\n",
    "Axes objects have many configurable properties that afford control over most visual aspects of an axis. These can be grouped by function according to prefix:\n",
    "\n",
    "* **axis**  [line properties](http://bokeh.pydata.org/en/latest/docs/user_guide/styling.html#line-properties) e.g `axis_line_width`\n",
    "\n",
    "* **axis_label** [text properties](http://bokeh.pydata.org/en/latest/docs/user_guide/styling.html#text-properties)  e.g. `axis_label_text_color`, as well as ``axis_label_standoff``\n",
    "\n",
    "* **major_label** [text properties](http://bokeh.pydata.org/en/latest/docs/user_guide/styling.html#text-properties) e.g. `major_label_text_font_size`, as well as ``major_label_orientation``\n",
    "\n",
    "* **major_tick** [line_properties](http://bokeh.pydata.org/en/latest/docs/user_guide/styling.html#line-properties) e.g. `major_tick_line_dash`, as well as  ``major_tick_in`` and ``major_tick_out``\n",
    "\n",
    "* **minor_tick** [line properties](http://bokeh.pydata.org/en/latest/docs/user_guide/styling.html#line-properties) e.g. `minor_tick_line_width`, as well as ``minor_tick_in`` and ``minor_tick_out``\n",
    "\n",
    "As a simple first case, let's change the orientation of the major tick labels on both axes of a plot:"
   ]
  },
  {
   "cell_type": "code",
   "execution_count": 10,
   "metadata": {},
   "outputs": [
    {
     "data": {
      "text/html": [
       "\n",
       "<div class=\"bk-root\">\n",
       "    <div class=\"bk-plotdiv\" id=\"6a4f33c9-c457-4557-af17-4e63c6b694db\"></div>\n",
       "</div>"
      ]
     },
     "metadata": {},
     "output_type": "display_data"
    },
    {
     "data": {
      "application/javascript": [
       "(function(root) {\n",
       "  function embed_document(root) {\n",
       "    var docs_json = {\"f7ed0cc2-4622-4094-a199-dff5a0dc7f90\":{\"roots\":{\"references\":[{\"attributes\":{\"formatter\":{\"id\":\"118badad-eaeb-470e-8628-36c9e249db46\",\"type\":\"BasicTickFormatter\"},\"major_label_orientation\":0.7853981633974483,\"plot\":{\"id\":\"f55c2e0d-d2d0-4228-a4c9-b9c97090f0cd\",\"subtype\":\"Figure\",\"type\":\"Plot\"},\"ticker\":{\"id\":\"1da417f7-8652-4f32-bfb8-6205e1bc991e\",\"type\":\"BasicTicker\"}},\"id\":\"b07145f0-926a-4d49-a81b-e8c873fb13eb\",\"type\":\"LinearAxis\"},{\"attributes\":{\"callback\":null},\"id\":\"e03767f6-e334-43be-8d2c-5d48470bb42e\",\"type\":\"DataRange1d\"},{\"attributes\":{},\"id\":\"75a64bdd-59ea-4fa8-9f40-caac4901b04b\",\"type\":\"LinearScale\"},{\"attributes\":{\"callback\":null,\"column_names\":[\"x\",\"y\"],\"data\":{\"x\":[1,2,3,4,5],\"y\":[2,5,8,2,7]}},\"id\":\"abc3bd7c-aefa-409a-896c-9e8389334bbc\",\"type\":\"ColumnDataSource\"},{\"attributes\":{\"below\":[{\"id\":\"b07145f0-926a-4d49-a81b-e8c873fb13eb\",\"type\":\"LinearAxis\"}],\"left\":[{\"id\":\"3402575e-bb58-429b-ab65-257da4e06fc0\",\"type\":\"LinearAxis\"}],\"plot_height\":400,\"plot_width\":400,\"renderers\":[{\"id\":\"b07145f0-926a-4d49-a81b-e8c873fb13eb\",\"type\":\"LinearAxis\"},{\"id\":\"d9eff6ee-3c55-441e-b4fd-145bac48b9a8\",\"type\":\"Grid\"},{\"id\":\"3402575e-bb58-429b-ab65-257da4e06fc0\",\"type\":\"LinearAxis\"},{\"id\":\"f837b9ff-c472-4f39-95d4-1e880fd3c74f\",\"type\":\"Grid\"},{\"id\":\"1192f662-a10d-4a9e-a7c6-d1a20b57bb77\",\"type\":\"BoxAnnotation\"},{\"id\":\"3be55b23-b0ca-4896-b516-296f61db2f6c\",\"type\":\"GlyphRenderer\"}],\"title\":{\"id\":\"2439fe37-10c6-4c76-99a4-dcb237dc8e55\",\"type\":\"Title\"},\"toolbar\":{\"id\":\"184fcba1-9393-4d6d-9a33-d35e0fb41957\",\"type\":\"Toolbar\"},\"x_range\":{\"id\":\"a351449a-ae99-455d-9864-4d8d7f7e5de3\",\"type\":\"DataRange1d\"},\"x_scale\":{\"id\":\"75a64bdd-59ea-4fa8-9f40-caac4901b04b\",\"type\":\"LinearScale\"},\"y_range\":{\"id\":\"e03767f6-e334-43be-8d2c-5d48470bb42e\",\"type\":\"DataRange1d\"},\"y_scale\":{\"id\":\"b89ea286-6f8a-4ae7-a39d-13205e4db8a1\",\"type\":\"LinearScale\"}},\"id\":\"f55c2e0d-d2d0-4228-a4c9-b9c97090f0cd\",\"subtype\":\"Figure\",\"type\":\"Plot\"},{\"attributes\":{},\"id\":\"b89ea286-6f8a-4ae7-a39d-13205e4db8a1\",\"type\":\"LinearScale\"},{\"attributes\":{\"active_drag\":\"auto\",\"active_inspect\":\"auto\",\"active_scroll\":\"auto\",\"active_tap\":\"auto\",\"tools\":[{\"id\":\"ab63701c-02a1-40df-867d-492f1ca6202d\",\"type\":\"PanTool\"},{\"id\":\"243338ab-59a9-4631-a77a-1e6142a040ee\",\"type\":\"WheelZoomTool\"},{\"id\":\"82cc4b25-d5e3-47a0-ac43-8b46f802ba64\",\"type\":\"BoxZoomTool\"},{\"id\":\"68d62549-8bb8-499f-8545-0dcbd611d430\",\"type\":\"SaveTool\"},{\"id\":\"a6afe2a6-2f30-4521-9d66-c365856c7694\",\"type\":\"ResetTool\"},{\"id\":\"a9d4e743-a265-42a7-be4c-4182bc659669\",\"type\":\"HelpTool\"}]},\"id\":\"184fcba1-9393-4d6d-9a33-d35e0fb41957\",\"type\":\"Toolbar\"},{\"attributes\":{\"formatter\":{\"id\":\"f0e14cae-e99d-447e-988a-9f4bed091ae1\",\"type\":\"BasicTickFormatter\"},\"major_label_orientation\":\"vertical\",\"plot\":{\"id\":\"f55c2e0d-d2d0-4228-a4c9-b9c97090f0cd\",\"subtype\":\"Figure\",\"type\":\"Plot\"},\"ticker\":{\"id\":\"9cdf48e1-17e5-4b3b-b23c-695fbfa23a02\",\"type\":\"BasicTicker\"}},\"id\":\"3402575e-bb58-429b-ab65-257da4e06fc0\",\"type\":\"LinearAxis\"},{\"attributes\":{},\"id\":\"f0e14cae-e99d-447e-988a-9f4bed091ae1\",\"type\":\"BasicTickFormatter\"},{\"attributes\":{\"fill_alpha\":{\"value\":0.1},\"fill_color\":{\"value\":\"#1f77b4\"},\"line_alpha\":{\"value\":0.1},\"line_color\":{\"value\":\"#1f77b4\"},\"line_width\":{\"value\":2},\"size\":{\"units\":\"screen\",\"value\":10},\"x\":{\"field\":\"x\"},\"y\":{\"field\":\"y\"}},\"id\":\"98014160-9565-4450-8b2f-3873eed25e00\",\"type\":\"X\"},{\"attributes\":{\"source\":{\"id\":\"abc3bd7c-aefa-409a-896c-9e8389334bbc\",\"type\":\"ColumnDataSource\"}},\"id\":\"68b8a565-940a-4a26-ba07-60f427dc98d6\",\"type\":\"CDSView\"},{\"attributes\":{\"plot\":{\"id\":\"f55c2e0d-d2d0-4228-a4c9-b9c97090f0cd\",\"subtype\":\"Figure\",\"type\":\"Plot\"},\"ticker\":{\"id\":\"1da417f7-8652-4f32-bfb8-6205e1bc991e\",\"type\":\"BasicTicker\"}},\"id\":\"d9eff6ee-3c55-441e-b4fd-145bac48b9a8\",\"type\":\"Grid\"},{\"attributes\":{},\"id\":\"9cdf48e1-17e5-4b3b-b23c-695fbfa23a02\",\"type\":\"BasicTicker\"},{\"attributes\":{\"dimension\":1,\"plot\":{\"id\":\"f55c2e0d-d2d0-4228-a4c9-b9c97090f0cd\",\"subtype\":\"Figure\",\"type\":\"Plot\"},\"ticker\":{\"id\":\"9cdf48e1-17e5-4b3b-b23c-695fbfa23a02\",\"type\":\"BasicTicker\"}},\"id\":\"f837b9ff-c472-4f39-95d4-1e880fd3c74f\",\"type\":\"Grid\"},{\"attributes\":{\"data_source\":{\"id\":\"abc3bd7c-aefa-409a-896c-9e8389334bbc\",\"type\":\"ColumnDataSource\"},\"glyph\":{\"id\":\"d55b2ecf-6376-4431-9d10-4396e4f488bb\",\"type\":\"X\"},\"hover_glyph\":null,\"muted_glyph\":null,\"nonselection_glyph\":{\"id\":\"98014160-9565-4450-8b2f-3873eed25e00\",\"type\":\"X\"},\"selection_glyph\":null,\"view\":{\"id\":\"68b8a565-940a-4a26-ba07-60f427dc98d6\",\"type\":\"CDSView\"}},\"id\":\"3be55b23-b0ca-4896-b516-296f61db2f6c\",\"type\":\"GlyphRenderer\"},{\"attributes\":{\"fill_color\":{\"value\":\"#1f77b4\"},\"line_color\":{\"value\":\"#1f77b4\"},\"line_width\":{\"value\":2},\"size\":{\"units\":\"screen\",\"value\":10},\"x\":{\"field\":\"x\"},\"y\":{\"field\":\"y\"}},\"id\":\"d55b2ecf-6376-4431-9d10-4396e4f488bb\",\"type\":\"X\"},{\"attributes\":{\"bottom_units\":\"screen\",\"fill_alpha\":{\"value\":0.5},\"fill_color\":{\"value\":\"lightgrey\"},\"left_units\":\"screen\",\"level\":\"overlay\",\"line_alpha\":{\"value\":1.0},\"line_color\":{\"value\":\"black\"},\"line_dash\":[4,4],\"line_width\":{\"value\":2},\"plot\":null,\"render_mode\":\"css\",\"right_units\":\"screen\",\"top_units\":\"screen\"},\"id\":\"1192f662-a10d-4a9e-a7c6-d1a20b57bb77\",\"type\":\"BoxAnnotation\"},{\"attributes\":{\"callback\":null},\"id\":\"a351449a-ae99-455d-9864-4d8d7f7e5de3\",\"type\":\"DataRange1d\"},{\"attributes\":{},\"id\":\"ab63701c-02a1-40df-867d-492f1ca6202d\",\"type\":\"PanTool\"},{\"attributes\":{},\"id\":\"118badad-eaeb-470e-8628-36c9e249db46\",\"type\":\"BasicTickFormatter\"},{\"attributes\":{},\"id\":\"1da417f7-8652-4f32-bfb8-6205e1bc991e\",\"type\":\"BasicTicker\"},{\"attributes\":{},\"id\":\"243338ab-59a9-4631-a77a-1e6142a040ee\",\"type\":\"WheelZoomTool\"},{\"attributes\":{},\"id\":\"a6afe2a6-2f30-4521-9d66-c365856c7694\",\"type\":\"ResetTool\"},{\"attributes\":{\"plot\":null,\"text\":\"\"},\"id\":\"2439fe37-10c6-4c76-99a4-dcb237dc8e55\",\"type\":\"Title\"},{\"attributes\":{},\"id\":\"a9d4e743-a265-42a7-be4c-4182bc659669\",\"type\":\"HelpTool\"},{\"attributes\":{\"overlay\":{\"id\":\"1192f662-a10d-4a9e-a7c6-d1a20b57bb77\",\"type\":\"BoxAnnotation\"}},\"id\":\"82cc4b25-d5e3-47a0-ac43-8b46f802ba64\",\"type\":\"BoxZoomTool\"},{\"attributes\":{},\"id\":\"68d62549-8bb8-499f-8545-0dcbd611d430\",\"type\":\"SaveTool\"}],\"root_ids\":[\"f55c2e0d-d2d0-4228-a4c9-b9c97090f0cd\"]},\"title\":\"Bokeh Application\",\"version\":\"0.12.10\"}};\n",
       "    var render_items = [{\"docid\":\"f7ed0cc2-4622-4094-a199-dff5a0dc7f90\",\"elementid\":\"6a4f33c9-c457-4557-af17-4e63c6b694db\",\"modelid\":\"f55c2e0d-d2d0-4228-a4c9-b9c97090f0cd\"}];\n",
       "\n",
       "    root.Bokeh.embed.embed_items(docs_json, render_items);\n",
       "  }\n",
       "\n",
       "  if (root.Bokeh !== undefined) {\n",
       "    embed_document(root);\n",
       "  } else {\n",
       "    var attempts = 0;\n",
       "    var timer = setInterval(function(root) {\n",
       "      if (root.Bokeh !== undefined) {\n",
       "        embed_document(root);\n",
       "        clearInterval(timer);\n",
       "      }\n",
       "      attempts++;\n",
       "      if (attempts > 100) {\n",
       "        console.log(\"Bokeh: ERROR: Unable to embed document because BokehJS library is missing\")\n",
       "        clearInterval(timer);\n",
       "      }\n",
       "    }, 10, root)\n",
       "  }\n",
       "})(window);"
      ],
      "application/vnd.bokehjs_exec.v0+json": ""
     },
     "metadata": {
      "application/vnd.bokehjs_exec.v0+json": {
       "id": "f55c2e0d-d2d0-4228-a4c9-b9c97090f0cd"
      }
     },
     "output_type": "display_data"
    }
   ],
   "source": [
    "from math import pi\n",
    "\n",
    "p = figure(plot_width=400, plot_height=400)\n",
    "p.x([1,2,3,4,5], [2,5,8,2,7], size=10, line_width=2)\n",
    "\n",
    "p.xaxis.major_label_orientation = pi/4\n",
    "p.yaxis.major_label_orientation = \"vertical\"\n",
    "\n",
    "show(p)"
   ]
  },
  {
   "cell_type": "markdown",
   "metadata": {},
   "source": [
    "The next example shows customizations on several of the different Axis properties at once:"
   ]
  },
  {
   "cell_type": "code",
   "execution_count": 11,
   "metadata": {},
   "outputs": [
    {
     "data": {
      "text/html": [
       "\n",
       "<div class=\"bk-root\">\n",
       "    <div class=\"bk-plotdiv\" id=\"5294c95a-2ec4-4e8f-921c-e530e24a977d\"></div>\n",
       "</div>"
      ]
     },
     "metadata": {},
     "output_type": "display_data"
    },
    {
     "data": {
      "application/javascript": [
       "(function(root) {\n",
       "  function embed_document(root) {\n",
       "    var docs_json = {\"1cbd880c-8616-4d37-bc26-6278c8b4b526\":{\"roots\":{\"references\":[{\"attributes\":{},\"id\":\"cc440820-01e3-4744-9781-2f90bbe76ecb\",\"type\":\"LinearScale\"},{\"attributes\":{},\"id\":\"099a89cb-3505-4b88-a71e-567fb12e5d8a\",\"type\":\"BasicTickFormatter\"},{\"attributes\":{\"axis_label\":\"Pressure\",\"formatter\":{\"id\":\"c1e50511-2e20-4f66-83a3-cc600e0ecf09\",\"type\":\"BasicTickFormatter\"},\"major_label_orientation\":\"vertical\",\"major_label_text_color\":{\"value\":\"orange\"},\"minor_tick_in\":-3,\"minor_tick_out\":6,\"plot\":{\"id\":\"f8471b00-f345-456c-b36a-85818f72b55e\",\"subtype\":\"Figure\",\"type\":\"Plot\"},\"ticker\":{\"id\":\"a71eafa9-88bc-4557-8d9e-80309d98adcb\",\"type\":\"BasicTicker\"}},\"id\":\"f72ac53d-bc57-456b-bfae-62b733f581a3\",\"type\":\"LinearAxis\"},{\"attributes\":{\"fill_alpha\":{\"value\":0.1},\"fill_color\":{\"value\":\"#1f77b4\"},\"line_alpha\":{\"value\":0.1},\"line_color\":{\"value\":\"#1f77b4\"},\"size\":{\"units\":\"screen\",\"value\":12},\"x\":{\"field\":\"x\"},\"y\":{\"field\":\"y\"}},\"id\":\"e81fc0ca-d6fc-4a1a-9fc6-dbde3ee113c0\",\"type\":\"Asterisk\"},{\"attributes\":{\"plot\":{\"id\":\"f8471b00-f345-456c-b36a-85818f72b55e\",\"subtype\":\"Figure\",\"type\":\"Plot\"},\"ticker\":{\"id\":\"9a50c49a-3328-452e-af76-dd1dd4ee30a3\",\"type\":\"BasicTicker\"}},\"id\":\"6d5085e9-b99f-4d1e-b5f2-a9751edd99b2\",\"type\":\"Grid\"},{\"attributes\":{},\"id\":\"a71eafa9-88bc-4557-8d9e-80309d98adcb\",\"type\":\"BasicTicker\"},{\"attributes\":{\"dimension\":1,\"plot\":{\"id\":\"f8471b00-f345-456c-b36a-85818f72b55e\",\"subtype\":\"Figure\",\"type\":\"Plot\"},\"ticker\":{\"id\":\"a71eafa9-88bc-4557-8d9e-80309d98adcb\",\"type\":\"BasicTicker\"}},\"id\":\"bf2e104d-e41a-468d-9850-d30f1e61895d\",\"type\":\"Grid\"},{\"attributes\":{\"data_source\":{\"id\":\"e0f8e894-6b9e-4140-bf76-5f9fb936e9c0\",\"type\":\"ColumnDataSource\"},\"glyph\":{\"id\":\"831d5a52-ecb1-41c1-835e-3a85c4b561dc\",\"type\":\"Asterisk\"},\"hover_glyph\":null,\"muted_glyph\":null,\"nonselection_glyph\":{\"id\":\"e81fc0ca-d6fc-4a1a-9fc6-dbde3ee113c0\",\"type\":\"Asterisk\"},\"selection_glyph\":null,\"view\":{\"id\":\"8375ed04-c26f-4a3d-9bc6-948ab702572f\",\"type\":\"CDSView\"}},\"id\":\"fd5b8e14-eb40-4c41-b4a7-3bda2b5fbdc1\",\"type\":\"GlyphRenderer\"},{\"attributes\":{\"fill_color\":{\"value\":\"olive\"},\"line_color\":{\"value\":\"olive\"},\"size\":{\"units\":\"screen\",\"value\":12},\"x\":{\"field\":\"x\"},\"y\":{\"field\":\"y\"}},\"id\":\"831d5a52-ecb1-41c1-835e-3a85c4b561dc\",\"type\":\"Asterisk\"},{\"attributes\":{\"bottom_units\":\"screen\",\"fill_alpha\":{\"value\":0.5},\"fill_color\":{\"value\":\"lightgrey\"},\"left_units\":\"screen\",\"level\":\"overlay\",\"line_alpha\":{\"value\":1.0},\"line_color\":{\"value\":\"black\"},\"line_dash\":[4,4],\"line_width\":{\"value\":2},\"plot\":null,\"render_mode\":\"css\",\"right_units\":\"screen\",\"top_units\":\"screen\"},\"id\":\"e27d070a-b05d-41bf-840b-0a5322d53436\",\"type\":\"BoxAnnotation\"},{\"attributes\":{},\"id\":\"c1e50511-2e20-4f66-83a3-cc600e0ecf09\",\"type\":\"BasicTickFormatter\"},{\"attributes\":{},\"id\":\"1ebd8a70-46a5-4249-9792-1404ef1bb802\",\"type\":\"PanTool\"},{\"attributes\":{\"below\":[{\"id\":\"de466bb8-3ed7-46ca-a7ed-238856f347ac\",\"type\":\"LinearAxis\"}],\"left\":[{\"id\":\"f72ac53d-bc57-456b-bfae-62b733f581a3\",\"type\":\"LinearAxis\"}],\"plot_height\":400,\"plot_width\":400,\"renderers\":[{\"id\":\"de466bb8-3ed7-46ca-a7ed-238856f347ac\",\"type\":\"LinearAxis\"},{\"id\":\"6d5085e9-b99f-4d1e-b5f2-a9751edd99b2\",\"type\":\"Grid\"},{\"id\":\"f72ac53d-bc57-456b-bfae-62b733f581a3\",\"type\":\"LinearAxis\"},{\"id\":\"bf2e104d-e41a-468d-9850-d30f1e61895d\",\"type\":\"Grid\"},{\"id\":\"e27d070a-b05d-41bf-840b-0a5322d53436\",\"type\":\"BoxAnnotation\"},{\"id\":\"fd5b8e14-eb40-4c41-b4a7-3bda2b5fbdc1\",\"type\":\"GlyphRenderer\"}],\"title\":{\"id\":\"d8367d7b-d867-4804-b84c-3c99d0657ba5\",\"type\":\"Title\"},\"toolbar\":{\"id\":\"c2568f1a-3357-4218-b39e-cb573d691e7c\",\"type\":\"Toolbar\"},\"x_range\":{\"id\":\"1e1344aa-3097-4bc6-9449-bf025cbeb511\",\"type\":\"DataRange1d\"},\"x_scale\":{\"id\":\"486b69f9-a2dd-4754-ac0b-f84221cd4a17\",\"type\":\"LinearScale\"},\"y_range\":{\"id\":\"15b999d6-54d5-4818-afdb-54ca8561f3be\",\"type\":\"DataRange1d\"},\"y_scale\":{\"id\":\"cc440820-01e3-4744-9781-2f90bbe76ecb\",\"type\":\"LinearScale\"}},\"id\":\"f8471b00-f345-456c-b36a-85818f72b55e\",\"subtype\":\"Figure\",\"type\":\"Plot\"},{\"attributes\":{\"callback\":null,\"column_names\":[\"x\",\"y\"],\"data\":{\"x\":[1,2,3,4,5],\"y\":[2,5,8,2,7]}},\"id\":\"e0f8e894-6b9e-4140-bf76-5f9fb936e9c0\",\"type\":\"ColumnDataSource\"},{\"attributes\":{},\"id\":\"d313fa3c-5e8e-479e-8ad2-a3ce0fd2e83d\",\"type\":\"WheelZoomTool\"},{\"attributes\":{\"source\":{\"id\":\"e0f8e894-6b9e-4140-bf76-5f9fb936e9c0\",\"type\":\"ColumnDataSource\"}},\"id\":\"8375ed04-c26f-4a3d-9bc6-948ab702572f\",\"type\":\"CDSView\"},{\"attributes\":{\"overlay\":{\"id\":\"e27d070a-b05d-41bf-840b-0a5322d53436\",\"type\":\"BoxAnnotation\"}},\"id\":\"0d785baf-4db8-460d-b551-3b1022a45179\",\"type\":\"BoxZoomTool\"},{\"attributes\":{\"active_drag\":\"auto\",\"active_inspect\":\"auto\",\"active_scroll\":\"auto\",\"active_tap\":\"auto\",\"tools\":[{\"id\":\"1ebd8a70-46a5-4249-9792-1404ef1bb802\",\"type\":\"PanTool\"},{\"id\":\"d313fa3c-5e8e-479e-8ad2-a3ce0fd2e83d\",\"type\":\"WheelZoomTool\"},{\"id\":\"0d785baf-4db8-460d-b551-3b1022a45179\",\"type\":\"BoxZoomTool\"},{\"id\":\"7c725c60-d975-41c0-b2d2-ee81ebc51bb3\",\"type\":\"SaveTool\"},{\"id\":\"d40a80fc-1561-4fdc-8cd9-db6c31b615db\",\"type\":\"ResetTool\"},{\"id\":\"d81d0470-808f-4b5a-b7ed-07c5cde95822\",\"type\":\"HelpTool\"}]},\"id\":\"c2568f1a-3357-4218-b39e-cb573d691e7c\",\"type\":\"Toolbar\"},{\"attributes\":{},\"id\":\"7c725c60-d975-41c0-b2d2-ee81ebc51bb3\",\"type\":\"SaveTool\"},{\"attributes\":{\"callback\":null},\"id\":\"1e1344aa-3097-4bc6-9449-bf025cbeb511\",\"type\":\"DataRange1d\"},{\"attributes\":{},\"id\":\"d40a80fc-1561-4fdc-8cd9-db6c31b615db\",\"type\":\"ResetTool\"},{\"attributes\":{},\"id\":\"9a50c49a-3328-452e-af76-dd1dd4ee30a3\",\"type\":\"BasicTicker\"},{\"attributes\":{},\"id\":\"d81d0470-808f-4b5a-b7ed-07c5cde95822\",\"type\":\"HelpTool\"},{\"attributes\":{\"callback\":null},\"id\":\"15b999d6-54d5-4818-afdb-54ca8561f3be\",\"type\":\"DataRange1d\"},{\"attributes\":{},\"id\":\"486b69f9-a2dd-4754-ac0b-f84221cd4a17\",\"type\":\"LinearScale\"},{\"attributes\":{\"axis_label\":\"Temp\",\"axis_line_color\":{\"value\":\"red\"},\"axis_line_width\":{\"value\":3},\"formatter\":{\"id\":\"099a89cb-3505-4b88-a71e-567fb12e5d8a\",\"type\":\"BasicTickFormatter\"},\"minor_tick_in\":-3,\"minor_tick_out\":6,\"plot\":{\"id\":\"f8471b00-f345-456c-b36a-85818f72b55e\",\"subtype\":\"Figure\",\"type\":\"Plot\"},\"ticker\":{\"id\":\"9a50c49a-3328-452e-af76-dd1dd4ee30a3\",\"type\":\"BasicTicker\"}},\"id\":\"de466bb8-3ed7-46ca-a7ed-238856f347ac\",\"type\":\"LinearAxis\"},{\"attributes\":{\"plot\":null,\"text\":\"\"},\"id\":\"d8367d7b-d867-4804-b84c-3c99d0657ba5\",\"type\":\"Title\"}],\"root_ids\":[\"f8471b00-f345-456c-b36a-85818f72b55e\"]},\"title\":\"Bokeh Application\",\"version\":\"0.12.10\"}};\n",
       "    var render_items = [{\"docid\":\"1cbd880c-8616-4d37-bc26-6278c8b4b526\",\"elementid\":\"5294c95a-2ec4-4e8f-921c-e530e24a977d\",\"modelid\":\"f8471b00-f345-456c-b36a-85818f72b55e\"}];\n",
       "\n",
       "    root.Bokeh.embed.embed_items(docs_json, render_items);\n",
       "  }\n",
       "\n",
       "  if (root.Bokeh !== undefined) {\n",
       "    embed_document(root);\n",
       "  } else {\n",
       "    var attempts = 0;\n",
       "    var timer = setInterval(function(root) {\n",
       "      if (root.Bokeh !== undefined) {\n",
       "        embed_document(root);\n",
       "        clearInterval(timer);\n",
       "      }\n",
       "      attempts++;\n",
       "      if (attempts > 100) {\n",
       "        console.log(\"Bokeh: ERROR: Unable to embed document because BokehJS library is missing\")\n",
       "        clearInterval(timer);\n",
       "      }\n",
       "    }, 10, root)\n",
       "  }\n",
       "})(window);"
      ],
      "application/vnd.bokehjs_exec.v0+json": ""
     },
     "metadata": {
      "application/vnd.bokehjs_exec.v0+json": {
       "id": "f8471b00-f345-456c-b36a-85818f72b55e"
      }
     },
     "output_type": "display_data"
    }
   ],
   "source": [
    "p = figure(plot_width=400, plot_height=400)\n",
    "p.asterisk([1,2,3,4,5], [2,5,8,2,7], size=12, color=\"olive\")\n",
    "\n",
    "# change just some things about the x-axes\n",
    "p.xaxis.axis_label = \"Temp\"\n",
    "p.xaxis.axis_line_width = 3\n",
    "p.xaxis.axis_line_color = \"red\"\n",
    "\n",
    "# change just some things about the y-axes\n",
    "p.yaxis.axis_label = \"Pressure\"\n",
    "p.yaxis.major_label_text_color = \"orange\"\n",
    "p.yaxis.major_label_orientation = \"vertical\"\n",
    "\n",
    "# change things on all axes\n",
    "p.axis.minor_tick_in = -3\n",
    "p.axis.minor_tick_out = 6\n",
    "\n",
    "show(p)"
   ]
  },
  {
   "cell_type": "code",
   "execution_count": 12,
   "metadata": {
    "collapsed": true
   },
   "outputs": [],
   "source": [
    "# EXERCISE Create a plot of your own and customize several axis properties\n"
   ]
  },
  {
   "cell_type": "markdown",
   "metadata": {},
   "source": [
    "## Configuring tick labels\n",
    "\n",
    "All Bokeh axes have a `formatter` property, whose value is a `TickFormatter` object that Bokeh uses to format the ticks displayed by that axis. Bokeh will configure default tick formatters for numeric, datetime, or categotical axes. But often we would like to customize the appearance of tick labels. This can be accomplished by changing properties on the default formatter that Bokeh chooses, or by replacing the formatter with a new type entirely. \n",
    "\n",
    "Let's first look at changing the properties of a default formatter. The default datetime formatter is configure to show *month/day* when the axis is on the scale of days. If would like the also always show the year, we can change the `days` property to a format that includes the year, as done below. "
   ]
  },
  {
   "cell_type": "code",
   "execution_count": 12,
   "metadata": {},
   "outputs": [
    {
     "data": {
      "text/html": [
       "\n",
       "<div class=\"bk-root\">\n",
       "    <div class=\"bk-plotdiv\" id=\"42b1b014-bfe3-4be6-b5b5-d75b82bc6073\"></div>\n",
       "</div>"
      ]
     },
     "metadata": {},
     "output_type": "display_data"
    },
    {
     "data": {
      "application/javascript": [
       "(function(root) {\n",
       "  function embed_document(root) {\n",
       "    var docs_json = {\"bcee276f-43ab-4691-8960-1dca7c64bdba\":{\"roots\":{\"references\":[{\"attributes\":{\"months\":[0,4,8]},\"id\":\"f528ea51-b69b-42f9-8005-03c12a027bdd\",\"type\":\"MonthsTicker\"},{\"attributes\":{\"callback\":null},\"id\":\"447da61d-a700-4be5-8fe6-9e2acda39130\",\"type\":\"DataRange1d\"},{\"attributes\":{\"days\":[1,4,7,10,13,16,19,22,25,28]},\"id\":\"465e8fa4-bf20-43a5-93b4-cd05aab4337c\",\"type\":\"DaysTicker\"},{\"attributes\":{},\"id\":\"183c1fc7-1b56-4a12-959a-1d2a39fee976\",\"type\":\"BasicTickFormatter\"},{\"attributes\":{},\"id\":\"42f64cac-25e0-4be6-ba13-62114584f827\",\"type\":\"ResetTool\"},{\"attributes\":{\"days\":[1,8,15,22]},\"id\":\"258c2dc3-5fcb-4d0e-a146-7080d40faaa6\",\"type\":\"DaysTicker\"},{\"attributes\":{},\"id\":\"425f2f55-26ff-4ceb-9acf-2eab50877501\",\"type\":\"YearsTicker\"},{\"attributes\":{\"plot\":null,\"text\":\"Glocose Range\"},\"id\":\"57a4b707-4afb-42c9-8213-0bcdc5b288fc\",\"type\":\"Title\"},{\"attributes\":{\"mantissas\":[1,2,5],\"max_interval\":500.0,\"num_minor_ticks\":0},\"id\":\"bd5228b9-b824-4161-87f8-b133e2f53ef9\",\"type\":\"AdaptiveTicker\"},{\"attributes\":{\"months\":[0,6]},\"id\":\"1d76bb4a-e5cd-478f-9965-ce370abab1e4\",\"type\":\"MonthsTicker\"},{\"attributes\":{\"callback\":null,\"column_names\":[\"x\",\"y\"],\"data\":{\"x\":{\"__ndarray__\":\"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\",\"dtype\":\"float64\",\"shape\":[2217]},\"y\":[92,100,108,115,120,124,128,133,137,142,147,152,157,162,167,171,175,179,185,192,200,207,212,215,217,219,218,219,217,216,216,216,215,214,212,211,209,207,204,203,203,203,203,204,203,202,201,200,199,199,197,193,189,185,182,182,183,184,184,182,177,174,172,170,168,167,166,164,162,160,158,155,152,150,147,140,131,124,120,116,114,114,116,118,119,120,120,120,119,117,114,112,112,111,111,112,111,111,110,108,106,106,106,106,104,101,101,103,102,100,99,100,100,99,99,99,100,99,98,97,97,96,92,90,89,86,85,85,84,84,81,80,81,86,99,115,125,130,129,128,123,118,113,111,112,111,109,108,105,101,100,102,107,113,119,125,129,131,129,128,127,127,127,125,122,117,113,108,103,98,93,89,86,85,83,82,81,82,84,87,92,99,107,121,133,142,146,149,150,151,151,152,152,150,148,161,160,158,157,157,157,156,153,149,147,145,144,145,149,154,159,163,164,164,164,163,162,158,154,153,154,155,157,159,158,156,152,148,144,139,134,128,123,121,119,117,115,115,112,109,106,105,103,101,97,93,89,86,85,88,93,100,106,113,119,125,131,137,142,149,159,172,186,197,204,207,208,207,205,202,199,197,193,185,176,178,177,177,176,173,171,170,169,167,166,165,163,163,162,160,156,150,150,150,151,150,150,150,149,149,148,149,147,145,143,139,141,145,147,147,146,145,141,138,136,135,134,133,132,129,124,120,118,112,114,119,123,125,126,127,128,135,143,148,151,153,154,155,156,156,157,157,156,155,154,147,137,131,128,129,131,132,133,135,135,133,131,132,135,138,139,138,136,132,128,126,125,120,113,108,106,105,108,111,113,116,120,120,120,119,118,118,118,118,117,116,113,106,98,93,97,107,115,122,120,113,102,94,95,96,90,88,83,83,85,90,97,98,99,94,89,95,105,111,113,106,95,90,91,96,101,104,109,112,120,123,118,115,123,130,128,130,136,131,121,113,110,108,109,111,115,120,115,108,105,105,104,106,110,111,115,115,117,114,111,107,105,109,111,110,111,115,121,126,135,142,145,147,150,153,156,160,162,161,160,160,159,157,154,152,152,150,143,138,132,128,124,119,112,105,98,92,94,98,106,118,126,128,127,123,123,121,118,115,112,112,114,113,105,78,209,204,214,252,282,290,295,292,284,268,263,262,263,263,262,258,249,236,179,165,157,152,150,149,150,154,158,163,166,166,163,159,158,161,170,176,178,174,170,166,160,156,151,148,147,145,142,141,145,144,144,153,155,152,147,143,145,152,156,157,156,155,155,156,158,158,158,156,152,146,139,139,141,143,145,147,148,149,149,149,148,147,144,140,139,139,138,137,136,135,134,133,134,136,137,136,134,135,139,142,143,141,138,141,145,148,151,152,154,156,155,155,159,163,166,166,166,164,162,160,158,157,155,153,150,150,149,149,149,149,150,152,154,155,155,156,156,157,160,163,165,165,164,163,121,119,117,114,113,112,113,113,113,113,112,113,113,113,114,112,110,109,109,109,108,108,90,90,94,99,107,116,125,130,132,130,124,117,110,103,95,88,81,77,75,63,65,70,73,78,80,80,79,80,83,86,89,94,96,98,104,105,106,106,107,107,109,114,118,121,123,124,123,122,122,123,123,123,124,123,123,124,127,132,137,139,140,140,142,147,152,156,160,165,168,169,169,165,162,160,158,156,154,150,146,144,141,138,136,133,129,124,118,112,107,106,107,108,109,110,111,112,112,113,114,115,116,117,118,119,122,125,128,130,130,131,130,128,126,123,120,116,93,89,86,84,82,79,76,74,72,71,69,70,68,67,66,67,68,69,69,69,68,68,67,66,65,64,63,61,61,60,60,61,63,64,64,64,63,64,65,66,67,67,66,66,67,68,69,71,73,72,71,70,71,72,74,75,76,78,79,80,81,82,84,86,88,88,87,86,85,86,86,86,86,87,87,88,88,88,89,87,83,79,78,82,85,87,88,89,89,89,87,86,88,89,90,89,90,92,91,90,89,88,87,87,89,90,91,92,94,108,110,110,111,111,111,112,113,114,116,116,116,117,119,121,124,127,131,138,145,150,155,161,165,169,173,177,182,185,185,184,189,193,195,198,198,197,196,196,199,202,202,201,202,204,205,205,203,202,201,197,197,198,199,200,199,195,190,184,180,178,179,180,179,176,175,174,172,169,168,167,170,180,191,203,214,219,219,222,227,228,226,223,221,219,219,218,218,219,218,216,214,214,211,208,207,206,206,205,202,199,193,190,187,182,179,176,173,170,167,163,158,152,146,141,135,129,122,114,108,102,97,90,85,81,77,73,68,65,62,61,61,61,61,61,60,59,59,60,61,64,69,75,82,92,104,117,128,137,144,149,153,156,160,164,169,175,180,184,188,191,193,195,196,200,203,207,212,218,223,228,231,234,235,236,327,327,330,333,328,321,316,308,298,287,274,263,255,249,243,239,234,230,225,220,215,210,206,204,204,199,195,190,185,181,177,175,173,171,170,169,169,168,167,166,166,166,163,161,159,158,157,156,154,152,150,149,149,150,150,151,151,152,153,153,153,154,154,154,154,153,152,152,150,149,148,146,145,144,144,143,142,142,141,140,139,137,137,138,136,137,137,136,137,136,134,133,132,132,132,132,132,134,136,138,141,142,142,143,145,150,154,156,158,160,162,164,167,169,172,175,176,175,174,172,170,171,173,178,185,191,198,210,223,235,244,254,265,273,283,290,296,302,307,309,313,316,318,320,322,320,319,317,313,311,306,300,297,294,293,290,287,286,285,282,279,274,271,270,270,269,274,271,267,264,262,259,255,250,244,237,232,227,223,220,215,210,205,199,195,193,197,206,221,239,258,276,291,302,311,318,323,324,322,320,319,320,319,317,314,311,307,302,294,286,280,276,272,267,259,251,245,241,241,241,242,244,245,245,242,237,232,228,225,216,215,216,217,217,215,211,206,202,200,201,203,201,196,188,176,163,149,138,129,119,108,98,89,79,71,66,66,67,67,68,69,71,74,77,79,81,85,91,99,109,119,132,145,157,168,175,179,183,185,188,188,187,184,179,172,163,159,157,155,153,151,149,148,148,148,147,146,145,145,144,143,143,143,144,145,146,145,144,143,142,140,140,140,140,140,143,147,150,152,152,152,154,155,142,140,138,134,131,130,128,127,126,126,126,126,127,129,131,132,134,136,136,136,136,135,134,132,130,130,130,129,128,127,125,124,123,123,122,121,120,118,115,112,111,111,110,110,109,108,107,107,107,108,107,105,105,105,105,104,103,102,99,97,96,94,94,93,93,92,91,92,94,95,96,97,99,102,104,112,112,112,111,110,107,104,105,105,103,99,96,94,95,102,114,128,144,160,173,185,196,205,209,214,219,226,234,241,248,255,260,265,268,270,272,271,271,268,265,261,256,253,250,246,244,241,237,233,229,225,222,204,200,197,193,190,186,182,179,175,171,168,164,158,154,151,148,145,141,133,139,152,173,196,217,233,244,249,250,253,256,260,263,265,265,264,260,254,246,234,217,200,188,181,175,169,164,159,154,147,138,132,129,127,123,117,111,106,104,103,100,94,88,83,78,75,73,71,69,68,67,67,68,70,71,71,70,69,68,67,67,67,66,67,69,71,74,76,78,80,80,80,80,80,80,82,84,87,90,92,87,87,86,86,86,86,87,87,87,85,83,82,83,87,95,107,118,130,141,149,172,179,187,201,214,221,225,230,232,230,223,216,208,199,191,185,181,177,176,177,176,173,171,169,163,154,152,153,154,154,153,151,150,150,150,152,149,147,148,150,152,152,152,151,151,150,149,147,146,143,140,138,136,137,138,140,138,135,132,130,129,129,129,130,130,129,128,128,128,129,129,128,127,126,125,125,125,125,124,124,121,120,120,123,124,123,122,120,115,113,114,114,115,116,115,112,111,111,109,108,107,107,110,113,114,115,115,115,114,113,113,116,119,120,121,121,122,123,124,125,126,126,126,126,126,127,127,125,122,118,115,111,112,115,117,120,124,127,131,137,143,148,153,159,166,172,178,184,191,199,206,212,217,223,229,232,233,235,237,240,241,243,246,247,246,243,240,234,229,225,221,217,216,215,215,215,212,208,203,199,196,194,190,185,180,177,163,158,152,149,153,163,174,182,188,192,195,197,201,204,205,203,199,195,189,184,176,169,162,150,138,128,119,110,100,90,80,73,68,64,63,63,66,68,70,71,72,74,80,94,116,141,164,183,198,210,220,228,233,237,241,247,252,256,260,259,258,256,251,245,238,234,227,221,215,208,207,207,203,201,201,199,179,176,171,163,152,137,119,98,77,61,50,45,47,59,71,86,99,109,116,117,115,111,107,102,96,91,90,94,97,97,95,92,87,84,84,83,84,86,86,86,84,82,82,81,81,82,84,87,89,91,92,94,93,93,94,96,100,101,99,97,96,96,97,97,98,99,101,102,106,114,121,127,130,124,105,109,119,127,129,132,129,126,126,126,126,126,125,124,125,130,130,128,126,126,126,126,126,126,126,127,128,129,129,127,128,136,141,143,141,138,131,129,133,134,130,129,134,137,139,138,130,122,118,115,114,113,113,112,112,117,118,117,118,118,117,117,114,112,115,118,124,126,119,121,122,274,285,293,297,298,298,296,293,289,282,275,267,256,249,242,233,225,217,217,215,203,190,185,193,202,202,194,182,170,143,130,120,110,102,93,80,67,57,52,50,49,49,54,72,93,104,114,125,134,140,145,145,141,136,130,124,118,116,114,112,108,105,102,99,95,91,88,85,83,82,80,79,79,83,86,87,88,89,89,88,88,90,92,88,86,86,86,84,82,84,88,90,94,99,104,107,107,105,104,103,95,94,93,93,93,93,93,94,99,109,122,172,169,164,156,147,137,126,115,104,99,99,103,106,111,115,117,118,120,120,120,120,119,119,118,118,117,116,115,115,116,116,115,115,114,112,109,110,111,111,110,109,109,109,108,107,106,105,101,100,99,99,98,97,97]}},\"id\":\"e7e00a77-816e-46e9-ae76-00c3bf7f8b9e\",\"type\":\"ColumnDataSource\"},{\"attributes\":{},\"id\":\"90572d36-fd18-44f3-a86b-6c42863ed60a\",\"type\":\"BasicTicker\"},{\"attributes\":{\"base\":60,\"mantissas\":[1,2,5,10,15,20,30],\"max_interval\":1800000.0,\"min_interval\":1000.0,\"num_minor_ticks\":0},\"id\":\"4530b5aa-0559-4465-a3d3-e4b8f663f2d7\",\"type\":\"AdaptiveTicker\"},{\"attributes\":{\"base\":24,\"mantissas\":[1,2,4,6,8,12],\"max_interval\":43200000.0,\"min_interval\":3600000.0,\"num_minor_ticks\":0},\"id\":\"3a83a0f6-c806-449a-9e9c-2186092d5be6\",\"type\":\"AdaptiveTicker\"},{\"attributes\":{\"bottom_units\":\"screen\",\"fill_alpha\":{\"value\":0.5},\"fill_color\":{\"value\":\"lightgrey\"},\"left_units\":\"screen\",\"level\":\"overlay\",\"line_alpha\":{\"value\":1.0},\"line_color\":{\"value\":\"black\"},\"line_dash\":[4,4],\"line_width\":{\"value\":2},\"plot\":null,\"render_mode\":\"css\",\"right_units\":\"screen\",\"top_units\":\"screen\"},\"id\":\"70153d96-d2de-4d44-a3a7-25d5aa111798\",\"type\":\"BoxAnnotation\"},{\"attributes\":{\"months\":[0,1,2,3,4,5,6,7,8,9,10,11]},\"id\":\"fcda528c-a2ce-4679-bc54-9c3ce91d1ebb\",\"type\":\"MonthsTicker\"},{\"attributes\":{},\"id\":\"13c58846-b50e-4258-be5e-073c2566b4d6\",\"type\":\"PanTool\"},{\"attributes\":{\"overlay\":{\"id\":\"70153d96-d2de-4d44-a3a7-25d5aa111798\",\"type\":\"BoxAnnotation\"}},\"id\":\"cd0da013-ed7e-4234-8461-fa086dec7e21\",\"type\":\"BoxZoomTool\"},{\"attributes\":{},\"id\":\"b21f73f8-692f-400c-a916-aa343fa55cdc\",\"type\":\"WheelZoomTool\"},{\"attributes\":{},\"id\":\"ab8b2642-de2c-4b57-8505-f8b3f2f8a264\",\"type\":\"SaveTool\"},{\"attributes\":{\"dimension\":1,\"plot\":{\"id\":\"179a96ad-651f-4872-aa92-1f6b6cee19a0\",\"subtype\":\"Figure\",\"type\":\"Plot\"},\"ticker\":{\"id\":\"90572d36-fd18-44f3-a86b-6c42863ed60a\",\"type\":\"BasicTicker\"}},\"id\":\"1b3b018d-add4-48d4-b673-a4d0c2d28e25\",\"type\":\"Grid\"},{\"attributes\":{},\"id\":\"89e51037-529b-4282-8ec6-cb481452a076\",\"type\":\"LinearScale\"},{\"attributes\":{},\"id\":\"85dd4254-ef95-49b4-84d1-a1c5b663abd2\",\"type\":\"HelpTool\"},{\"attributes\":{\"callback\":null},\"id\":\"26dad7dc-e8eb-4536-b785-89f19add400a\",\"type\":\"DataRange1d\"},{\"attributes\":{\"days\":[\"%m/%d/%Y\"]},\"id\":\"31a9439e-bb33-464d-8543-4bd176a75df4\",\"type\":\"DatetimeTickFormatter\"},{\"attributes\":{\"formatter\":{\"id\":\"183c1fc7-1b56-4a12-959a-1d2a39fee976\",\"type\":\"BasicTickFormatter\"},\"plot\":{\"id\":\"179a96ad-651f-4872-aa92-1f6b6cee19a0\",\"subtype\":\"Figure\",\"type\":\"Plot\"},\"ticker\":{\"id\":\"90572d36-fd18-44f3-a86b-6c42863ed60a\",\"type\":\"BasicTicker\"}},\"id\":\"bc1f4833-c085-48c2-94b4-4b3fbb745a6c\",\"type\":\"LinearAxis\"},{\"attributes\":{\"data_source\":{\"id\":\"e7e00a77-816e-46e9-ae76-00c3bf7f8b9e\",\"type\":\"ColumnDataSource\"},\"glyph\":{\"id\":\"a42366fe-69d7-49b4-96f2-a5a6f690a608\",\"type\":\"Line\"},\"hover_glyph\":null,\"muted_glyph\":null,\"nonselection_glyph\":{\"id\":\"cb0ceacb-ec11-425a-b956-b0543eef46f3\",\"type\":\"Line\"},\"selection_glyph\":null,\"view\":{\"id\":\"01796eb7-3c1c-41ed-84ae-ee1f1de2c85d\",\"type\":\"CDSView\"}},\"id\":\"0daceac5-ff2d-47d4-9585-00440fffbfbb\",\"type\":\"GlyphRenderer\"},{\"attributes\":{\"plot\":{\"id\":\"179a96ad-651f-4872-aa92-1f6b6cee19a0\",\"subtype\":\"Figure\",\"type\":\"Plot\"},\"ticker\":{\"id\":\"ede3fdd4-d134-48f6-83f6-247a54f3aa19\",\"type\":\"DatetimeTicker\"}},\"id\":\"8eac9364-b48d-4e9c-99cc-90f27cd7274f\",\"type\":\"Grid\"},{\"attributes\":{\"below\":[{\"id\":\"43152baf-c831-45d7-9eb2-5043df0b7f90\",\"type\":\"DatetimeAxis\"}],\"left\":[{\"id\":\"bc1f4833-c085-48c2-94b4-4b3fbb745a6c\",\"type\":\"LinearAxis\"}],\"plot_height\":350,\"plot_width\":800,\"renderers\":[{\"id\":\"43152baf-c831-45d7-9eb2-5043df0b7f90\",\"type\":\"DatetimeAxis\"},{\"id\":\"8eac9364-b48d-4e9c-99cc-90f27cd7274f\",\"type\":\"Grid\"},{\"id\":\"bc1f4833-c085-48c2-94b4-4b3fbb745a6c\",\"type\":\"LinearAxis\"},{\"id\":\"1b3b018d-add4-48d4-b673-a4d0c2d28e25\",\"type\":\"Grid\"},{\"id\":\"70153d96-d2de-4d44-a3a7-25d5aa111798\",\"type\":\"BoxAnnotation\"},{\"id\":\"0daceac5-ff2d-47d4-9585-00440fffbfbb\",\"type\":\"GlyphRenderer\"}],\"title\":{\"id\":\"57a4b707-4afb-42c9-8213-0bcdc5b288fc\",\"type\":\"Title\"},\"toolbar\":{\"id\":\"8243e117-755b-4f2c-9032-ce2ad1d47078\",\"type\":\"Toolbar\"},\"x_range\":{\"id\":\"26dad7dc-e8eb-4536-b785-89f19add400a\",\"type\":\"DataRange1d\"},\"x_scale\":{\"id\":\"3ad51de2-7a68-4ce2-9a38-5dfe3ccd310b\",\"type\":\"LinearScale\"},\"y_range\":{\"id\":\"447da61d-a700-4be5-8fe6-9e2acda39130\",\"type\":\"DataRange1d\"},\"y_scale\":{\"id\":\"89e51037-529b-4282-8ec6-cb481452a076\",\"type\":\"LinearScale\"}},\"id\":\"179a96ad-651f-4872-aa92-1f6b6cee19a0\",\"subtype\":\"Figure\",\"type\":\"Plot\"},{\"attributes\":{\"months\":[0,2,4,6,8,10]},\"id\":\"f4eca2b9-49f7-4756-a340-05ed526c6aae\",\"type\":\"MonthsTicker\"},{\"attributes\":{\"active_drag\":\"auto\",\"active_inspect\":\"auto\",\"active_scroll\":\"auto\",\"active_tap\":\"auto\",\"tools\":[{\"id\":\"13c58846-b50e-4258-be5e-073c2566b4d6\",\"type\":\"PanTool\"},{\"id\":\"b21f73f8-692f-400c-a916-aa343fa55cdc\",\"type\":\"WheelZoomTool\"},{\"id\":\"cd0da013-ed7e-4234-8461-fa086dec7e21\",\"type\":\"BoxZoomTool\"},{\"id\":\"ab8b2642-de2c-4b57-8505-f8b3f2f8a264\",\"type\":\"SaveTool\"},{\"id\":\"42f64cac-25e0-4be6-ba13-62114584f827\",\"type\":\"ResetTool\"},{\"id\":\"85dd4254-ef95-49b4-84d1-a1c5b663abd2\",\"type\":\"HelpTool\"}]},\"id\":\"8243e117-755b-4f2c-9032-ce2ad1d47078\",\"type\":\"Toolbar\"},{\"attributes\":{\"line_color\":{\"value\":\"#1f77b4\"},\"x\":{\"field\":\"x\"},\"y\":{\"field\":\"y\"}},\"id\":\"a42366fe-69d7-49b4-96f2-a5a6f690a608\",\"type\":\"Line\"},{\"attributes\":{\"days\":[1,2,3,4,5,6,7,8,9,10,11,12,13,14,15,16,17,18,19,20,21,22,23,24,25,26,27,28,29,30,31]},\"id\":\"80940982-2d0a-4f12-8e8e-7a02ff48a173\",\"type\":\"DaysTicker\"},{\"attributes\":{\"line_alpha\":{\"value\":0.1},\"line_color\":{\"value\":\"#1f77b4\"},\"x\":{\"field\":\"x\"},\"y\":{\"field\":\"y\"}},\"id\":\"cb0ceacb-ec11-425a-b956-b0543eef46f3\",\"type\":\"Line\"},{\"attributes\":{\"formatter\":{\"id\":\"31a9439e-bb33-464d-8543-4bd176a75df4\",\"type\":\"DatetimeTickFormatter\"},\"major_label_orientation\":1.0471975511965976,\"plot\":{\"id\":\"179a96ad-651f-4872-aa92-1f6b6cee19a0\",\"subtype\":\"Figure\",\"type\":\"Plot\"},\"ticker\":{\"id\":\"ede3fdd4-d134-48f6-83f6-247a54f3aa19\",\"type\":\"DatetimeTicker\"}},\"id\":\"43152baf-c831-45d7-9eb2-5043df0b7f90\",\"type\":\"DatetimeAxis\"},{\"attributes\":{\"days\":[1,15]},\"id\":\"33771547-2432-4fce-9610-c050b8529f2c\",\"type\":\"DaysTicker\"},{\"attributes\":{},\"id\":\"3ad51de2-7a68-4ce2-9a38-5dfe3ccd310b\",\"type\":\"LinearScale\"},{\"attributes\":{\"num_minor_ticks\":5,\"tickers\":[{\"id\":\"bd5228b9-b824-4161-87f8-b133e2f53ef9\",\"type\":\"AdaptiveTicker\"},{\"id\":\"4530b5aa-0559-4465-a3d3-e4b8f663f2d7\",\"type\":\"AdaptiveTicker\"},{\"id\":\"3a83a0f6-c806-449a-9e9c-2186092d5be6\",\"type\":\"AdaptiveTicker\"},{\"id\":\"80940982-2d0a-4f12-8e8e-7a02ff48a173\",\"type\":\"DaysTicker\"},{\"id\":\"465e8fa4-bf20-43a5-93b4-cd05aab4337c\",\"type\":\"DaysTicker\"},{\"id\":\"258c2dc3-5fcb-4d0e-a146-7080d40faaa6\",\"type\":\"DaysTicker\"},{\"id\":\"33771547-2432-4fce-9610-c050b8529f2c\",\"type\":\"DaysTicker\"},{\"id\":\"fcda528c-a2ce-4679-bc54-9c3ce91d1ebb\",\"type\":\"MonthsTicker\"},{\"id\":\"f4eca2b9-49f7-4756-a340-05ed526c6aae\",\"type\":\"MonthsTicker\"},{\"id\":\"f528ea51-b69b-42f9-8005-03c12a027bdd\",\"type\":\"MonthsTicker\"},{\"id\":\"1d76bb4a-e5cd-478f-9965-ce370abab1e4\",\"type\":\"MonthsTicker\"},{\"id\":\"425f2f55-26ff-4ceb-9acf-2eab50877501\",\"type\":\"YearsTicker\"}]},\"id\":\"ede3fdd4-d134-48f6-83f6-247a54f3aa19\",\"type\":\"DatetimeTicker\"},{\"attributes\":{\"source\":{\"id\":\"e7e00a77-816e-46e9-ae76-00c3bf7f8b9e\",\"type\":\"ColumnDataSource\"}},\"id\":\"01796eb7-3c1c-41ed-84ae-ee1f1de2c85d\",\"type\":\"CDSView\"}],\"root_ids\":[\"179a96ad-651f-4872-aa92-1f6b6cee19a0\"]},\"title\":\"Bokeh Application\",\"version\":\"0.12.10\"}};\n",
       "    var render_items = [{\"docid\":\"bcee276f-43ab-4691-8960-1dca7c64bdba\",\"elementid\":\"42b1b014-bfe3-4be6-b5b5-d75b82bc6073\",\"modelid\":\"179a96ad-651f-4872-aa92-1f6b6cee19a0\"}];\n",
       "\n",
       "    root.Bokeh.embed.embed_items(docs_json, render_items);\n",
       "  }\n",
       "\n",
       "  if (root.Bokeh !== undefined) {\n",
       "    embed_document(root);\n",
       "  } else {\n",
       "    var attempts = 0;\n",
       "    var timer = setInterval(function(root) {\n",
       "      if (root.Bokeh !== undefined) {\n",
       "        embed_document(root);\n",
       "        clearInterval(timer);\n",
       "      }\n",
       "      attempts++;\n",
       "      if (attempts > 100) {\n",
       "        console.log(\"Bokeh: ERROR: Unable to embed document because BokehJS library is missing\")\n",
       "        clearInterval(timer);\n",
       "      }\n",
       "    }, 10, root)\n",
       "  }\n",
       "})(window);"
      ],
      "application/vnd.bokehjs_exec.v0+json": ""
     },
     "metadata": {
      "application/vnd.bokehjs_exec.v0+json": {
       "id": "179a96ad-651f-4872-aa92-1f6b6cee19a0"
      }
     },
     "output_type": "display_data"
    }
   ],
   "source": [
    "from math import pi\n",
    "from bokeh.sampledata.glucose import data\n",
    "\n",
    "week = data.loc['2010-10-01':'2010-10-08']\n",
    "\n",
    "p = figure(x_axis_type=\"datetime\", title=\"Glocose Range\", plot_height=350, plot_width=800)\n",
    "p.xaxis[0].formatter.days = '%m/%d/%Y'\n",
    "p.xaxis.major_label_orientation = pi/3\n",
    "\n",
    "p.line(week.index, week.glucose)\n",
    "\n",
    "show(p)"
   ]
  },
  {
   "cell_type": "markdown",
   "metadata": {},
   "source": [
    "See the reference guide entry for [DatetimeTickFormatter](http://bokeh.pydata.org/en/latest/docs/reference/models/formatters.html#bokeh.models.formatters.DatetimeTickFormatter) to see other properties that can be updated. \n",
    "\n",
    "*Note: It's worth noting a little quirk here, because of the way \"splattable\" lists work, we do have to be explicit about which formatter object we want to update, i.e. `p.xaxis[0].formatter`*\n",
    "\n",
    "In addition to the tick formatters that Bokeh will use by default, there are others such as the [`NumeralTickFormatter`](http://bokeh.pydata.org/en/latest/docs/user_guide/styling.html#numeraltickformatter) that we can configure explicitly. The example below shows how to set a formatter on each axis. "
   ]
  },
  {
   "cell_type": "code",
   "execution_count": 13,
   "metadata": {},
   "outputs": [
    {
     "data": {
      "text/html": [
       "\n",
       "<div class=\"bk-root\">\n",
       "    <div class=\"bk-plotdiv\" id=\"d653784b-4eee-4daf-a46b-fad44f6d4982\"></div>\n",
       "</div>"
      ]
     },
     "metadata": {},
     "output_type": "display_data"
    },
    {
     "data": {
      "application/javascript": [
       "(function(root) {\n",
       "  function embed_document(root) {\n",
       "    var docs_json = {\"d0106fd5-0eda-42f5-b408-9b44040937c5\":{\"roots\":{\"references\":[{\"attributes\":{},\"id\":\"83aa6429-2303-4890-bbf6-87765591b5de\",\"type\":\"LinearScale\"},{\"attributes\":{\"data_source\":{\"id\":\"32a9ba87-1fd2-458b-a75e-0fe47acf07b7\",\"type\":\"ColumnDataSource\"},\"glyph\":{\"id\":\"9857ba22-a0a2-4633-9ce1-f2183efc4879\",\"type\":\"Circle\"},\"hover_glyph\":null,\"muted_glyph\":null,\"nonselection_glyph\":{\"id\":\"36dfb9d1-6071-4d4f-96ac-2c2f5e2795d1\",\"type\":\"Circle\"},\"selection_glyph\":null,\"view\":{\"id\":\"cc7227ca-8c45-4204-938c-637dbced1edb\",\"type\":\"CDSView\"}},\"id\":\"bd327fe5-5c33-4d46-9508-c66cad84a009\",\"type\":\"GlyphRenderer\"},{\"attributes\":{\"callback\":null,\"column_names\":[\"x\",\"y\"],\"data\":{\"x\":[1,2,3,4,5],\"y\":[2,5,8,2,7]}},\"id\":\"32a9ba87-1fd2-458b-a75e-0fe47acf07b7\",\"type\":\"ColumnDataSource\"},{\"attributes\":{},\"id\":\"7ce5ec36-fe3a-4320-82a4-ac4509beaa89\",\"type\":\"BasicTicker\"},{\"attributes\":{\"active_drag\":\"auto\",\"active_inspect\":\"auto\",\"active_scroll\":\"auto\",\"active_tap\":\"auto\",\"tools\":[{\"id\":\"254ff378-20e7-41e3-bed3-bd308c8f3cb2\",\"type\":\"PanTool\"},{\"id\":\"d3b10aab-76ae-4693-85f6-15a01d2ae648\",\"type\":\"WheelZoomTool\"},{\"id\":\"9e7badda-a9d1-43fa-8640-322615e1156c\",\"type\":\"BoxZoomTool\"},{\"id\":\"4f77dec5-3688-405f-8c6b-b3cc55697ad1\",\"type\":\"SaveTool\"},{\"id\":\"92c2a2c7-c9d5-4335-9a49-a4554b998dd3\",\"type\":\"ResetTool\"},{\"id\":\"9f9a1a4a-b3fa-4fab-9b36-1a90a167b0c7\",\"type\":\"HelpTool\"}]},\"id\":\"80bf5c0f-0a37-4723-911d-f94cb0153345\",\"type\":\"Toolbar\"},{\"attributes\":{\"dimension\":1,\"plot\":{\"id\":\"39a303fc-f753-416b-b75c-ac45e5bb8adf\",\"subtype\":\"Figure\",\"type\":\"Plot\"},\"ticker\":{\"id\":\"7ce5ec36-fe3a-4320-82a4-ac4509beaa89\",\"type\":\"BasicTicker\"}},\"id\":\"f1da4caf-443c-4b6a-99a5-09807e0f056a\",\"type\":\"Grid\"},{\"attributes\":{\"below\":[{\"id\":\"fdbd4dc7-6f6d-4a38-a368-41228d50ed9a\",\"type\":\"LinearAxis\"}],\"left\":[{\"id\":\"810d08fe-bc44-43b0-b32f-8f0e891e093c\",\"type\":\"LinearAxis\"}],\"plot_height\":300,\"plot_width\":800,\"renderers\":[{\"id\":\"fdbd4dc7-6f6d-4a38-a368-41228d50ed9a\",\"type\":\"LinearAxis\"},{\"id\":\"f60cce1a-4d24-46fe-9d4e-522561a44a9b\",\"type\":\"Grid\"},{\"id\":\"810d08fe-bc44-43b0-b32f-8f0e891e093c\",\"type\":\"LinearAxis\"},{\"id\":\"f1da4caf-443c-4b6a-99a5-09807e0f056a\",\"type\":\"Grid\"},{\"id\":\"fd24289f-0446-4f48-aad6-a667c43623cb\",\"type\":\"BoxAnnotation\"},{\"id\":\"bd327fe5-5c33-4d46-9508-c66cad84a009\",\"type\":\"GlyphRenderer\"}],\"title\":{\"id\":\"6d48df14-105c-4c10-a51c-26c12aa85392\",\"type\":\"Title\"},\"toolbar\":{\"id\":\"80bf5c0f-0a37-4723-911d-f94cb0153345\",\"type\":\"Toolbar\"},\"x_range\":{\"id\":\"cc7884eb-bb00-4427-afe3-d4388b2be250\",\"type\":\"DataRange1d\"},\"x_scale\":{\"id\":\"83aa6429-2303-4890-bbf6-87765591b5de\",\"type\":\"LinearScale\"},\"y_range\":{\"id\":\"def31104-35ca-4f20-a116-f9a61908bc40\",\"type\":\"DataRange1d\"},\"y_scale\":{\"id\":\"1774f0cd-d00a-476c-9f36-f487462977ca\",\"type\":\"LinearScale\"}},\"id\":\"39a303fc-f753-416b-b75c-ac45e5bb8adf\",\"subtype\":\"Figure\",\"type\":\"Plot\"},{\"attributes\":{\"source\":{\"id\":\"32a9ba87-1fd2-458b-a75e-0fe47acf07b7\",\"type\":\"ColumnDataSource\"}},\"id\":\"cc7227ca-8c45-4204-938c-637dbced1edb\",\"type\":\"CDSView\"},{\"attributes\":{\"fill_color\":{\"value\":\"#1f77b4\"},\"line_color\":{\"value\":\"#1f77b4\"},\"size\":{\"units\":\"screen\",\"value\":10},\"x\":{\"field\":\"x\"},\"y\":{\"field\":\"y\"}},\"id\":\"9857ba22-a0a2-4633-9ce1-f2183efc4879\",\"type\":\"Circle\"},{\"attributes\":{\"fill_alpha\":{\"value\":0.1},\"fill_color\":{\"value\":\"#1f77b4\"},\"line_alpha\":{\"value\":0.1},\"line_color\":{\"value\":\"#1f77b4\"},\"size\":{\"units\":\"screen\",\"value\":10},\"x\":{\"field\":\"x\"},\"y\":{\"field\":\"y\"}},\"id\":\"36dfb9d1-6071-4d4f-96ac-2c2f5e2795d1\",\"type\":\"Circle\"},{\"attributes\":{},\"id\":\"1774f0cd-d00a-476c-9f36-f487462977ca\",\"type\":\"LinearScale\"},{\"attributes\":{},\"id\":\"c2acd7f2-79e3-4a66-8a6f-6ce4fdb76ae8\",\"type\":\"BasicTicker\"},{\"attributes\":{\"bottom_units\":\"screen\",\"fill_alpha\":{\"value\":0.5},\"fill_color\":{\"value\":\"lightgrey\"},\"left_units\":\"screen\",\"level\":\"overlay\",\"line_alpha\":{\"value\":1.0},\"line_color\":{\"value\":\"black\"},\"line_dash\":[4,4],\"line_width\":{\"value\":2},\"plot\":null,\"render_mode\":\"css\",\"right_units\":\"screen\",\"top_units\":\"screen\"},\"id\":\"fd24289f-0446-4f48-aad6-a667c43623cb\",\"type\":\"BoxAnnotation\"},{\"attributes\":{\"formatter\":{\"id\":\"9e61a411-3c3f-4f0f-bfd3-497414051470\",\"type\":\"NumeralTickFormatter\"},\"plot\":{\"id\":\"39a303fc-f753-416b-b75c-ac45e5bb8adf\",\"subtype\":\"Figure\",\"type\":\"Plot\"},\"ticker\":{\"id\":\"7ce5ec36-fe3a-4320-82a4-ac4509beaa89\",\"type\":\"BasicTicker\"}},\"id\":\"810d08fe-bc44-43b0-b32f-8f0e891e093c\",\"type\":\"LinearAxis\"},{\"attributes\":{},\"id\":\"254ff378-20e7-41e3-bed3-bd308c8f3cb2\",\"type\":\"PanTool\"},{\"attributes\":{\"callback\":null},\"id\":\"cc7884eb-bb00-4427-afe3-d4388b2be250\",\"type\":\"DataRange1d\"},{\"attributes\":{},\"id\":\"d3b10aab-76ae-4693-85f6-15a01d2ae648\",\"type\":\"WheelZoomTool\"},{\"attributes\":{\"overlay\":{\"id\":\"fd24289f-0446-4f48-aad6-a667c43623cb\",\"type\":\"BoxAnnotation\"}},\"id\":\"9e7badda-a9d1-43fa-8640-322615e1156c\",\"type\":\"BoxZoomTool\"},{\"attributes\":{\"plot\":{\"id\":\"39a303fc-f753-416b-b75c-ac45e5bb8adf\",\"subtype\":\"Figure\",\"type\":\"Plot\"},\"ticker\":{\"id\":\"c2acd7f2-79e3-4a66-8a6f-6ce4fdb76ae8\",\"type\":\"BasicTicker\"}},\"id\":\"f60cce1a-4d24-46fe-9d4e-522561a44a9b\",\"type\":\"Grid\"},{\"attributes\":{},\"id\":\"4f77dec5-3688-405f-8c6b-b3cc55697ad1\",\"type\":\"SaveTool\"},{\"attributes\":{},\"id\":\"92c2a2c7-c9d5-4335-9a49-a4554b998dd3\",\"type\":\"ResetTool\"},{\"attributes\":{\"format\":\"0.0%\"},\"id\":\"593fb16c-1645-4da2-8798-846e35c1c31a\",\"type\":\"NumeralTickFormatter\"},{\"attributes\":{},\"id\":\"9f9a1a4a-b3fa-4fab-9b36-1a90a167b0c7\",\"type\":\"HelpTool\"},{\"attributes\":{\"formatter\":{\"id\":\"593fb16c-1645-4da2-8798-846e35c1c31a\",\"type\":\"NumeralTickFormatter\"},\"plot\":{\"id\":\"39a303fc-f753-416b-b75c-ac45e5bb8adf\",\"subtype\":\"Figure\",\"type\":\"Plot\"},\"ticker\":{\"id\":\"c2acd7f2-79e3-4a66-8a6f-6ce4fdb76ae8\",\"type\":\"BasicTicker\"}},\"id\":\"fdbd4dc7-6f6d-4a38-a368-41228d50ed9a\",\"type\":\"LinearAxis\"},{\"attributes\":{\"format\":\"$0.00\"},\"id\":\"9e61a411-3c3f-4f0f-bfd3-497414051470\",\"type\":\"NumeralTickFormatter\"},{\"attributes\":{\"callback\":null},\"id\":\"def31104-35ca-4f20-a116-f9a61908bc40\",\"type\":\"DataRange1d\"},{\"attributes\":{\"plot\":null,\"text\":\"\"},\"id\":\"6d48df14-105c-4c10-a51c-26c12aa85392\",\"type\":\"Title\"}],\"root_ids\":[\"39a303fc-f753-416b-b75c-ac45e5bb8adf\"]},\"title\":\"Bokeh Application\",\"version\":\"0.12.10\"}};\n",
       "    var render_items = [{\"docid\":\"d0106fd5-0eda-42f5-b408-9b44040937c5\",\"elementid\":\"d653784b-4eee-4daf-a46b-fad44f6d4982\",\"modelid\":\"39a303fc-f753-416b-b75c-ac45e5bb8adf\"}];\n",
       "\n",
       "    root.Bokeh.embed.embed_items(docs_json, render_items);\n",
       "  }\n",
       "\n",
       "  if (root.Bokeh !== undefined) {\n",
       "    embed_document(root);\n",
       "  } else {\n",
       "    var attempts = 0;\n",
       "    var timer = setInterval(function(root) {\n",
       "      if (root.Bokeh !== undefined) {\n",
       "        embed_document(root);\n",
       "        clearInterval(timer);\n",
       "      }\n",
       "      attempts++;\n",
       "      if (attempts > 100) {\n",
       "        console.log(\"Bokeh: ERROR: Unable to embed document because BokehJS library is missing\")\n",
       "        clearInterval(timer);\n",
       "      }\n",
       "    }, 10, root)\n",
       "  }\n",
       "})(window);"
      ],
      "application/vnd.bokehjs_exec.v0+json": ""
     },
     "metadata": {
      "application/vnd.bokehjs_exec.v0+json": {
       "id": "39a303fc-f753-416b-b75c-ac45e5bb8adf"
      }
     },
     "output_type": "display_data"
    }
   ],
   "source": [
    "from bokeh.models import NumeralTickFormatter\n",
    "\n",
    "p = figure(plot_height=300, plot_width=800)\n",
    "p.circle([1,2,3,4,5], [2,5,8,2,7], size=10)\n",
    "\n",
    "p.xaxis.formatter = NumeralTickFormatter(format=\"0.0%\")\n",
    "p.yaxis.formatter = NumeralTickFormatter(format=\"$0.00\")\n",
    "\n",
    "show(p)"
   ]
  },
  {
   "cell_type": "markdown",
   "metadata": {},
   "source": [
    "Try experimenting with the format argument and re-execute the cell above.\n",
    "\n",
    "There are many other possibilities for controlling tick formatting, including the possibility of supplying a JavaScript snippet to perform arbitrary formatting in the browser. See the [Tick Label Formats](http://bokeh.pydata.org/en/latest/docs/user_guide/styling.html#tick-label-formats) for more details.  \n",
    "\n",
    "\n",
    "It is also possible to customize *where* ticks will be drawn. See the [Tick Locations](http://bokeh.pydata.org/en/latest/docs/user_guide/styling.html#tick-locations) section of the User's Guide for more information."
   ]
  },
  {
   "cell_type": "markdown",
   "metadata": {},
   "source": [
    "# Grids\n",
    "\n",
    "It is also possible to control the [styling of Grids](http://bokeh.pydata.org/en/latest/docs/user_guide/styling.html#grids)\n",
    "\n",
    "Grids properties in Bokeh have two possible prefixes:\n",
    "\n",
    "* **grid** properties (which are [line properties](http://bokeh.pydata.org/en/latest/docs/user_guide/styling.html#line-properties)) control the \"grid lines\"\n",
    "* **band** properties (which are [fill properties](http://bokeh.pydata.org/en/latest/docs/user_guide/styling.html#fill-properties)) control shaded bands between grid lines\n",
    "\n",
    "In this first example we turn off the vertical grid lines (by setting the line color to None) and set the horizontal grid to be light and dashed."
   ]
  },
  {
   "cell_type": "code",
   "execution_count": 14,
   "metadata": {},
   "outputs": [
    {
     "data": {
      "text/html": [
       "\n",
       "<div class=\"bk-root\">\n",
       "    <div class=\"bk-plotdiv\" id=\"7903f3f4-3c4a-456d-b469-6de1d335cbc5\"></div>\n",
       "</div>"
      ]
     },
     "metadata": {},
     "output_type": "display_data"
    },
    {
     "data": {
      "application/javascript": [
       "(function(root) {\n",
       "  function embed_document(root) {\n",
       "    var docs_json = {\"a1b4c7f3-ca28-45af-99a8-105795567280\":{\"roots\":{\"references\":[{\"attributes\":{},\"id\":\"1512358c-f9ea-41cf-981a-98cb20051036\",\"type\":\"LinearScale\"},{\"attributes\":{\"callback\":null},\"id\":\"a748f7b2-59cf-4749-b470-8ef33696e842\",\"type\":\"DataRange1d\"},{\"attributes\":{\"callback\":null},\"id\":\"dc4c0a90-4c19-4039-8ff0-f6a89f8a015b\",\"type\":\"DataRange1d\"},{\"attributes\":{},\"id\":\"8bd18ad7-336c-4717-913e-f79c65b9227d\",\"type\":\"BasicTicker\"},{\"attributes\":{\"active_drag\":\"auto\",\"active_inspect\":\"auto\",\"active_scroll\":\"auto\",\"active_tap\":\"auto\",\"tools\":[{\"id\":\"4f2c6a5d-aeef-41fa-8405-fe43d0efd592\",\"type\":\"PanTool\"},{\"id\":\"e3375adc-9650-48c9-acaa-56e1afe1b246\",\"type\":\"WheelZoomTool\"},{\"id\":\"f02db78d-00be-4327-a454-f0dc2b4fe947\",\"type\":\"BoxZoomTool\"},{\"id\":\"33df775d-a854-4cb2-a009-8bd6bcad85fd\",\"type\":\"SaveTool\"},{\"id\":\"074c57c5-9155-4f86-adbe-9e702854785e\",\"type\":\"ResetTool\"},{\"id\":\"1b43757c-d21a-4762-9bd6-1db17e93025c\",\"type\":\"HelpTool\"}]},\"id\":\"ad7e5c61-3fd4-4bff-be31-1885e4dad112\",\"type\":\"Toolbar\"},{\"attributes\":{\"source\":{\"id\":\"6a3b1bf8-74ee-4683-ba97-cb9c4913e450\",\"type\":\"ColumnDataSource\"}},\"id\":\"5f029771-cb42-4f85-9552-b2dd9330b9a2\",\"type\":\"CDSView\"},{\"attributes\":{},\"id\":\"4f2c6a5d-aeef-41fa-8405-fe43d0efd592\",\"type\":\"PanTool\"},{\"attributes\":{},\"id\":\"27e3b168-bc00-4c3c-814c-3da2ba8d7cb7\",\"type\":\"LinearScale\"},{\"attributes\":{},\"id\":\"33df775d-a854-4cb2-a009-8bd6bcad85fd\",\"type\":\"SaveTool\"},{\"attributes\":{\"callback\":null,\"column_names\":[\"x\",\"y\"],\"data\":{\"x\":[1,2,3,4,5],\"y\":[2,5,8,2,7]}},\"id\":\"6a3b1bf8-74ee-4683-ba97-cb9c4913e450\",\"type\":\"ColumnDataSource\"},{\"attributes\":{},\"id\":\"16508d46-684f-41fe-8235-5489359f0b9a\",\"type\":\"BasicTickFormatter\"},{\"attributes\":{\"below\":[{\"id\":\"4653b617-10a0-43b2-abbc-6348666e2489\",\"type\":\"LinearAxis\"}],\"left\":[{\"id\":\"556636c3-df2d-4aa1-8649-839a966e8193\",\"type\":\"LinearAxis\"}],\"plot_height\":400,\"plot_width\":400,\"renderers\":[{\"id\":\"4653b617-10a0-43b2-abbc-6348666e2489\",\"type\":\"LinearAxis\"},{\"id\":\"e231da58-96f7-4410-9f11-af0dd797fe4b\",\"type\":\"Grid\"},{\"id\":\"556636c3-df2d-4aa1-8649-839a966e8193\",\"type\":\"LinearAxis\"},{\"id\":\"087f7b42-b4c2-4d9c-bd29-f86c86685b99\",\"type\":\"Grid\"},{\"id\":\"69b589f2-ed4b-4942-a77f-02967854e0b6\",\"type\":\"BoxAnnotation\"},{\"id\":\"92ab6b51-49a8-4d6f-9a5a-19e681bdc17e\",\"type\":\"GlyphRenderer\"}],\"title\":{\"id\":\"58a545de-a572-428f-adfe-3cc025c2ca6a\",\"type\":\"Title\"},\"toolbar\":{\"id\":\"ad7e5c61-3fd4-4bff-be31-1885e4dad112\",\"type\":\"Toolbar\"},\"x_range\":{\"id\":\"dc4c0a90-4c19-4039-8ff0-f6a89f8a015b\",\"type\":\"DataRange1d\"},\"x_scale\":{\"id\":\"1512358c-f9ea-41cf-981a-98cb20051036\",\"type\":\"LinearScale\"},\"y_range\":{\"id\":\"a748f7b2-59cf-4749-b470-8ef33696e842\",\"type\":\"DataRange1d\"},\"y_scale\":{\"id\":\"27e3b168-bc00-4c3c-814c-3da2ba8d7cb7\",\"type\":\"LinearScale\"}},\"id\":\"d5500865-eb7a-4966-894c-a301e75d2eea\",\"subtype\":\"Figure\",\"type\":\"Plot\"},{\"attributes\":{\"formatter\":{\"id\":\"16508d46-684f-41fe-8235-5489359f0b9a\",\"type\":\"BasicTickFormatter\"},\"plot\":{\"id\":\"d5500865-eb7a-4966-894c-a301e75d2eea\",\"subtype\":\"Figure\",\"type\":\"Plot\"},\"ticker\":{\"id\":\"8bd18ad7-336c-4717-913e-f79c65b9227d\",\"type\":\"BasicTicker\"}},\"id\":\"4653b617-10a0-43b2-abbc-6348666e2489\",\"type\":\"LinearAxis\"},{\"attributes\":{},\"id\":\"6d1541cb-bf76-400b-938b-93fec5adfd4b\",\"type\":\"BasicTickFormatter\"},{\"attributes\":{\"plot\":null,\"text\":\"\"},\"id\":\"58a545de-a572-428f-adfe-3cc025c2ca6a\",\"type\":\"Title\"},{\"attributes\":{\"bottom_units\":\"screen\",\"fill_alpha\":{\"value\":0.5},\"fill_color\":{\"value\":\"lightgrey\"},\"left_units\":\"screen\",\"level\":\"overlay\",\"line_alpha\":{\"value\":1.0},\"line_color\":{\"value\":\"black\"},\"line_dash\":[4,4],\"line_width\":{\"value\":2},\"plot\":null,\"render_mode\":\"css\",\"right_units\":\"screen\",\"top_units\":\"screen\"},\"id\":\"69b589f2-ed4b-4942-a77f-02967854e0b6\",\"type\":\"BoxAnnotation\"},{\"attributes\":{},\"id\":\"1b43757c-d21a-4762-9bd6-1db17e93025c\",\"type\":\"HelpTool\"},{\"attributes\":{\"data_source\":{\"id\":\"6a3b1bf8-74ee-4683-ba97-cb9c4913e450\",\"type\":\"ColumnDataSource\"},\"glyph\":{\"id\":\"d1e7ae44-b282-49fe-ab5e-c00afc0c83d7\",\"type\":\"Circle\"},\"hover_glyph\":null,\"muted_glyph\":null,\"nonselection_glyph\":{\"id\":\"43fbf1e0-8d0e-4850-9b2d-8c1da7d7a642\",\"type\":\"Circle\"},\"selection_glyph\":null,\"view\":{\"id\":\"5f029771-cb42-4f85-9552-b2dd9330b9a2\",\"type\":\"CDSView\"}},\"id\":\"92ab6b51-49a8-4d6f-9a5a-19e681bdc17e\",\"type\":\"GlyphRenderer\"},{\"attributes\":{},\"id\":\"074c57c5-9155-4f86-adbe-9e702854785e\",\"type\":\"ResetTool\"},{\"attributes\":{\"fill_color\":{\"value\":\"#1f77b4\"},\"line_color\":{\"value\":\"#1f77b4\"},\"size\":{\"units\":\"screen\",\"value\":10},\"x\":{\"field\":\"x\"},\"y\":{\"field\":\"y\"}},\"id\":\"d1e7ae44-b282-49fe-ab5e-c00afc0c83d7\",\"type\":\"Circle\"},{\"attributes\":{\"overlay\":{\"id\":\"69b589f2-ed4b-4942-a77f-02967854e0b6\",\"type\":\"BoxAnnotation\"}},\"id\":\"f02db78d-00be-4327-a454-f0dc2b4fe947\",\"type\":\"BoxZoomTool\"},{\"attributes\":{},\"id\":\"e3375adc-9650-48c9-acaa-56e1afe1b246\",\"type\":\"WheelZoomTool\"},{\"attributes\":{\"dimension\":1,\"grid_line_alpha\":{\"value\":0.5},\"grid_line_dash\":[6,4],\"plot\":{\"id\":\"d5500865-eb7a-4966-894c-a301e75d2eea\",\"subtype\":\"Figure\",\"type\":\"Plot\"},\"ticker\":{\"id\":\"5ae7e872-d545-47c0-994a-04eeb4fde235\",\"type\":\"BasicTicker\"}},\"id\":\"087f7b42-b4c2-4d9c-bd29-f86c86685b99\",\"type\":\"Grid\"},{\"attributes\":{},\"id\":\"5ae7e872-d545-47c0-994a-04eeb4fde235\",\"type\":\"BasicTicker\"},{\"attributes\":{\"grid_line_color\":{\"value\":null},\"plot\":{\"id\":\"d5500865-eb7a-4966-894c-a301e75d2eea\",\"subtype\":\"Figure\",\"type\":\"Plot\"},\"ticker\":{\"id\":\"8bd18ad7-336c-4717-913e-f79c65b9227d\",\"type\":\"BasicTicker\"}},\"id\":\"e231da58-96f7-4410-9f11-af0dd797fe4b\",\"type\":\"Grid\"},{\"attributes\":{\"fill_alpha\":{\"value\":0.1},\"fill_color\":{\"value\":\"#1f77b4\"},\"line_alpha\":{\"value\":0.1},\"line_color\":{\"value\":\"#1f77b4\"},\"size\":{\"units\":\"screen\",\"value\":10},\"x\":{\"field\":\"x\"},\"y\":{\"field\":\"y\"}},\"id\":\"43fbf1e0-8d0e-4850-9b2d-8c1da7d7a642\",\"type\":\"Circle\"},{\"attributes\":{\"formatter\":{\"id\":\"6d1541cb-bf76-400b-938b-93fec5adfd4b\",\"type\":\"BasicTickFormatter\"},\"plot\":{\"id\":\"d5500865-eb7a-4966-894c-a301e75d2eea\",\"subtype\":\"Figure\",\"type\":\"Plot\"},\"ticker\":{\"id\":\"5ae7e872-d545-47c0-994a-04eeb4fde235\",\"type\":\"BasicTicker\"}},\"id\":\"556636c3-df2d-4aa1-8649-839a966e8193\",\"type\":\"LinearAxis\"}],\"root_ids\":[\"d5500865-eb7a-4966-894c-a301e75d2eea\"]},\"title\":\"Bokeh Application\",\"version\":\"0.12.10\"}};\n",
       "    var render_items = [{\"docid\":\"a1b4c7f3-ca28-45af-99a8-105795567280\",\"elementid\":\"7903f3f4-3c4a-456d-b469-6de1d335cbc5\",\"modelid\":\"d5500865-eb7a-4966-894c-a301e75d2eea\"}];\n",
       "\n",
       "    root.Bokeh.embed.embed_items(docs_json, render_items);\n",
       "  }\n",
       "\n",
       "  if (root.Bokeh !== undefined) {\n",
       "    embed_document(root);\n",
       "  } else {\n",
       "    var attempts = 0;\n",
       "    var timer = setInterval(function(root) {\n",
       "      if (root.Bokeh !== undefined) {\n",
       "        embed_document(root);\n",
       "        clearInterval(timer);\n",
       "      }\n",
       "      attempts++;\n",
       "      if (attempts > 100) {\n",
       "        console.log(\"Bokeh: ERROR: Unable to embed document because BokehJS library is missing\")\n",
       "        clearInterval(timer);\n",
       "      }\n",
       "    }, 10, root)\n",
       "  }\n",
       "})(window);"
      ],
      "application/vnd.bokehjs_exec.v0+json": ""
     },
     "metadata": {
      "application/vnd.bokehjs_exec.v0+json": {
       "id": "d5500865-eb7a-4966-894c-a301e75d2eea"
      }
     },
     "output_type": "display_data"
    }
   ],
   "source": [
    "p = figure(plot_width=400, plot_height=400)\n",
    "p.circle([1,2,3,4,5], [2,5,8,2,7], size=10)\n",
    "\n",
    "# change just some things about the x-grid\n",
    "p.xgrid.grid_line_color = None\n",
    "\n",
    "# change just some things about the y-grid\n",
    "p.ygrid.grid_line_alpha = 0.5\n",
    "p.ygrid.grid_line_dash = [6, 4]\n",
    "\n",
    "show(p)"
   ]
  },
  {
   "cell_type": "markdown",
   "metadata": {},
   "source": [
    "The next example shows how the \"band\" properties of a plot can be specified"
   ]
  },
  {
   "cell_type": "code",
   "execution_count": 15,
   "metadata": {},
   "outputs": [
    {
     "data": {
      "text/html": [
       "\n",
       "<div class=\"bk-root\">\n",
       "    <div class=\"bk-plotdiv\" id=\"e5ba5414-b5c6-4061-9ec9-cd330c83cbc3\"></div>\n",
       "</div>"
      ]
     },
     "metadata": {},
     "output_type": "display_data"
    },
    {
     "data": {
      "application/javascript": [
       "(function(root) {\n",
       "  function embed_document(root) {\n",
       "    var docs_json = {\"1592f147-91d2-4e4b-92b6-3e63141cf863\":{\"roots\":{\"references\":[{\"attributes\":{\"active_drag\":\"auto\",\"active_inspect\":\"auto\",\"active_scroll\":\"auto\",\"active_tap\":\"auto\",\"tools\":[{\"id\":\"6b09f110-a1d0-443c-8975-822d0b394601\",\"type\":\"PanTool\"},{\"id\":\"dc43482e-bbd8-4089-9e9d-4af120967296\",\"type\":\"WheelZoomTool\"},{\"id\":\"f821233e-f554-4022-825c-950e5381a886\",\"type\":\"BoxZoomTool\"},{\"id\":\"cf9ec89d-ad8d-45d2-88b3-6fbe27f1540d\",\"type\":\"SaveTool\"},{\"id\":\"5c85e732-4c9b-4742-ad56-b09287733315\",\"type\":\"ResetTool\"},{\"id\":\"7eff8020-9217-4f9e-94a5-a5b478bab36f\",\"type\":\"HelpTool\"}]},\"id\":\"e3e9622c-40c2-4622-bb4c-d8f13d344eb6\",\"type\":\"Toolbar\"},{\"attributes\":{\"data_source\":{\"id\":\"3601b122-052f-4090-ab07-2c3c0571b917\",\"type\":\"ColumnDataSource\"},\"glyph\":{\"id\":\"4c1eedca-1d32-4a2f-9b3c-255763b16f57\",\"type\":\"Circle\"},\"hover_glyph\":null,\"muted_glyph\":null,\"nonselection_glyph\":{\"id\":\"cff28ba4-478a-4753-aa16-209c77544afb\",\"type\":\"Circle\"},\"selection_glyph\":null,\"view\":{\"id\":\"bfdcecf1-0f1d-4deb-b227-5e4b1ff49717\",\"type\":\"CDSView\"}},\"id\":\"220b67a6-3df0-4979-b5b7-de718b12039d\",\"type\":\"GlyphRenderer\"},{\"attributes\":{},\"id\":\"7eff8020-9217-4f9e-94a5-a5b478bab36f\",\"type\":\"HelpTool\"},{\"attributes\":{\"band_fill_alpha\":{\"value\":0.1},\"band_fill_color\":{\"value\":\"navy\"},\"dimension\":1,\"plot\":{\"id\":\"29ba6d3f-e753-4bc1-97b0-61a960dc83a5\",\"subtype\":\"Figure\",\"type\":\"Plot\"},\"ticker\":{\"id\":\"c25882f7-cd6c-44a4-8197-86ef64824720\",\"type\":\"BasicTicker\"}},\"id\":\"f1d4f11d-8e28-4bf0-905a-82e60c3fa85f\",\"type\":\"Grid\"},{\"attributes\":{},\"id\":\"54017bc4-ae19-48d8-b334-bb97d2342d92\",\"type\":\"BasicTicker\"},{\"attributes\":{\"callback\":null,\"column_names\":[\"x\",\"y\"],\"data\":{\"x\":[1,2,3,4,5],\"y\":[2,5,8,2,7]}},\"id\":\"3601b122-052f-4090-ab07-2c3c0571b917\",\"type\":\"ColumnDataSource\"},{\"attributes\":{},\"id\":\"a73f4af1-0bdc-4f70-93ef-8e239936767f\",\"type\":\"LinearScale\"},{\"attributes\":{},\"id\":\"5c85e732-4c9b-4742-ad56-b09287733315\",\"type\":\"ResetTool\"},{\"attributes\":{},\"id\":\"cf9ec89d-ad8d-45d2-88b3-6fbe27f1540d\",\"type\":\"SaveTool\"},{\"attributes\":{\"callback\":null},\"id\":\"40e3b5db-95e5-4951-9507-69a8c9a3a52a\",\"type\":\"DataRange1d\"},{\"attributes\":{},\"id\":\"dc43482e-bbd8-4089-9e9d-4af120967296\",\"type\":\"WheelZoomTool\"},{\"attributes\":{\"plot\":null,\"text\":\"\"},\"id\":\"9cecd57f-6676-45c1-b519-69e1a0e08c0f\",\"type\":\"Title\"},{\"attributes\":{},\"id\":\"cf5c005f-be19-4881-90fa-a22bb25a9e67\",\"type\":\"BasicTickFormatter\"},{\"attributes\":{\"formatter\":{\"id\":\"cf5c005f-be19-4881-90fa-a22bb25a9e67\",\"type\":\"BasicTickFormatter\"},\"plot\":{\"id\":\"29ba6d3f-e753-4bc1-97b0-61a960dc83a5\",\"subtype\":\"Figure\",\"type\":\"Plot\"},\"ticker\":{\"id\":\"c25882f7-cd6c-44a4-8197-86ef64824720\",\"type\":\"BasicTicker\"}},\"id\":\"55fc2efe-3326-4d74-a8ba-654e4ef3b1ef\",\"type\":\"LinearAxis\"},{\"attributes\":{\"bottom_units\":\"screen\",\"fill_alpha\":{\"value\":0.5},\"fill_color\":{\"value\":\"lightgrey\"},\"left_units\":\"screen\",\"level\":\"overlay\",\"line_alpha\":{\"value\":1.0},\"line_color\":{\"value\":\"black\"},\"line_dash\":[4,4],\"line_width\":{\"value\":2},\"plot\":null,\"render_mode\":\"css\",\"right_units\":\"screen\",\"top_units\":\"screen\"},\"id\":\"f00b6017-d22f-4c1a-a0d1-0762d3f285c3\",\"type\":\"BoxAnnotation\"},{\"attributes\":{\"callback\":null},\"id\":\"ce832b7e-b9df-40f4-83e9-f9101f8e56dd\",\"type\":\"DataRange1d\"},{\"attributes\":{\"formatter\":{\"id\":\"bd9ba0b6-0f45-4a71-8684-c284e7029745\",\"type\":\"BasicTickFormatter\"},\"plot\":{\"id\":\"29ba6d3f-e753-4bc1-97b0-61a960dc83a5\",\"subtype\":\"Figure\",\"type\":\"Plot\"},\"ticker\":{\"id\":\"54017bc4-ae19-48d8-b334-bb97d2342d92\",\"type\":\"BasicTicker\"}},\"id\":\"a0d788cc-95d5-47d3-8410-45973ff7bb8b\",\"type\":\"LinearAxis\"},{\"attributes\":{\"grid_line_color\":{\"value\":null},\"plot\":{\"id\":\"29ba6d3f-e753-4bc1-97b0-61a960dc83a5\",\"subtype\":\"Figure\",\"type\":\"Plot\"},\"ticker\":{\"id\":\"54017bc4-ae19-48d8-b334-bb97d2342d92\",\"type\":\"BasicTicker\"}},\"id\":\"79d6174b-798c-4592-803e-ec0e50494a80\",\"type\":\"Grid\"},{\"attributes\":{},\"id\":\"c25882f7-cd6c-44a4-8197-86ef64824720\",\"type\":\"BasicTicker\"},{\"attributes\":{\"below\":[{\"id\":\"a0d788cc-95d5-47d3-8410-45973ff7bb8b\",\"type\":\"LinearAxis\"}],\"left\":[{\"id\":\"55fc2efe-3326-4d74-a8ba-654e4ef3b1ef\",\"type\":\"LinearAxis\"}],\"plot_height\":400,\"plot_width\":400,\"renderers\":[{\"id\":\"a0d788cc-95d5-47d3-8410-45973ff7bb8b\",\"type\":\"LinearAxis\"},{\"id\":\"79d6174b-798c-4592-803e-ec0e50494a80\",\"type\":\"Grid\"},{\"id\":\"55fc2efe-3326-4d74-a8ba-654e4ef3b1ef\",\"type\":\"LinearAxis\"},{\"id\":\"f1d4f11d-8e28-4bf0-905a-82e60c3fa85f\",\"type\":\"Grid\"},{\"id\":\"f00b6017-d22f-4c1a-a0d1-0762d3f285c3\",\"type\":\"BoxAnnotation\"},{\"id\":\"220b67a6-3df0-4979-b5b7-de718b12039d\",\"type\":\"GlyphRenderer\"}],\"title\":{\"id\":\"9cecd57f-6676-45c1-b519-69e1a0e08c0f\",\"type\":\"Title\"},\"toolbar\":{\"id\":\"e3e9622c-40c2-4622-bb4c-d8f13d344eb6\",\"type\":\"Toolbar\"},\"x_range\":{\"id\":\"40e3b5db-95e5-4951-9507-69a8c9a3a52a\",\"type\":\"DataRange1d\"},\"x_scale\":{\"id\":\"84394ebf-6289-431b-b33e-00fd045195bd\",\"type\":\"LinearScale\"},\"y_range\":{\"id\":\"ce832b7e-b9df-40f4-83e9-f9101f8e56dd\",\"type\":\"DataRange1d\"},\"y_scale\":{\"id\":\"a73f4af1-0bdc-4f70-93ef-8e239936767f\",\"type\":\"LinearScale\"}},\"id\":\"29ba6d3f-e753-4bc1-97b0-61a960dc83a5\",\"subtype\":\"Figure\",\"type\":\"Plot\"},{\"attributes\":{\"fill_alpha\":{\"value\":0.1},\"fill_color\":{\"value\":\"#1f77b4\"},\"line_alpha\":{\"value\":0.1},\"line_color\":{\"value\":\"#1f77b4\"},\"size\":{\"units\":\"screen\",\"value\":10},\"x\":{\"field\":\"x\"},\"y\":{\"field\":\"y\"}},\"id\":\"cff28ba4-478a-4753-aa16-209c77544afb\",\"type\":\"Circle\"},{\"attributes\":{},\"id\":\"84394ebf-6289-431b-b33e-00fd045195bd\",\"type\":\"LinearScale\"},{\"attributes\":{\"source\":{\"id\":\"3601b122-052f-4090-ab07-2c3c0571b917\",\"type\":\"ColumnDataSource\"}},\"id\":\"bfdcecf1-0f1d-4deb-b227-5e4b1ff49717\",\"type\":\"CDSView\"},{\"attributes\":{},\"id\":\"6b09f110-a1d0-443c-8975-822d0b394601\",\"type\":\"PanTool\"},{\"attributes\":{},\"id\":\"bd9ba0b6-0f45-4a71-8684-c284e7029745\",\"type\":\"BasicTickFormatter\"},{\"attributes\":{\"fill_color\":{\"value\":\"#1f77b4\"},\"line_color\":{\"value\":\"#1f77b4\"},\"size\":{\"units\":\"screen\",\"value\":10},\"x\":{\"field\":\"x\"},\"y\":{\"field\":\"y\"}},\"id\":\"4c1eedca-1d32-4a2f-9b3c-255763b16f57\",\"type\":\"Circle\"},{\"attributes\":{\"overlay\":{\"id\":\"f00b6017-d22f-4c1a-a0d1-0762d3f285c3\",\"type\":\"BoxAnnotation\"}},\"id\":\"f821233e-f554-4022-825c-950e5381a886\",\"type\":\"BoxZoomTool\"}],\"root_ids\":[\"29ba6d3f-e753-4bc1-97b0-61a960dc83a5\"]},\"title\":\"Bokeh Application\",\"version\":\"0.12.10\"}};\n",
       "    var render_items = [{\"docid\":\"1592f147-91d2-4e4b-92b6-3e63141cf863\",\"elementid\":\"e5ba5414-b5c6-4061-9ec9-cd330c83cbc3\",\"modelid\":\"29ba6d3f-e753-4bc1-97b0-61a960dc83a5\"}];\n",
       "\n",
       "    root.Bokeh.embed.embed_items(docs_json, render_items);\n",
       "  }\n",
       "\n",
       "  if (root.Bokeh !== undefined) {\n",
       "    embed_document(root);\n",
       "  } else {\n",
       "    var attempts = 0;\n",
       "    var timer = setInterval(function(root) {\n",
       "      if (root.Bokeh !== undefined) {\n",
       "        embed_document(root);\n",
       "        clearInterval(timer);\n",
       "      }\n",
       "      attempts++;\n",
       "      if (attempts > 100) {\n",
       "        console.log(\"Bokeh: ERROR: Unable to embed document because BokehJS library is missing\")\n",
       "        clearInterval(timer);\n",
       "      }\n",
       "    }, 10, root)\n",
       "  }\n",
       "})(window);"
      ],
      "application/vnd.bokehjs_exec.v0+json": ""
     },
     "metadata": {
      "application/vnd.bokehjs_exec.v0+json": {
       "id": "29ba6d3f-e753-4bc1-97b0-61a960dc83a5"
      }
     },
     "output_type": "display_data"
    }
   ],
   "source": [
    "p = figure(plot_width=400, plot_height=400)\n",
    "p.circle([1,2,3,4,5], [2,5,8,2,7], size=10)\n",
    "\n",
    "# change just some things about the x-grid\n",
    "p.xgrid.grid_line_color = None\n",
    "\n",
    "# change just some things about the y-grid\n",
    "p.ygrid.band_fill_alpha = 0.1\n",
    "p.ygrid.band_fill_color = \"navy\"\n",
    "\n",
    "show(p)"
   ]
  },
  {
   "cell_type": "code",
   "execution_count": 17,
   "metadata": {
    "collapsed": true
   },
   "outputs": [],
   "source": [
    "# EXERCISE Create a plot of your own and customize several grid properties\n"
   ]
  },
  {
   "cell_type": "code",
   "execution_count": null,
   "metadata": {
    "collapsed": true
   },
   "outputs": [],
   "source": []
  }
 ],
 "metadata": {
  "kernelspec": {
   "display_name": "Python [default]",
   "language": "python",
   "name": "python3"
  },
  "language_info": {
   "codemirror_mode": {
    "name": "ipython",
    "version": 3
   },
   "file_extension": ".py",
   "mimetype": "text/x-python",
   "name": "python",
   "nbconvert_exporter": "python",
   "pygments_lexer": "ipython3",
   "version": "3.6.3"
  }
 },
 "nbformat": 4,
 "nbformat_minor": 1
}
