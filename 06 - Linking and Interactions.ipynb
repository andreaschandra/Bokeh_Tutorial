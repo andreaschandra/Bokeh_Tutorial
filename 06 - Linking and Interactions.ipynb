{
 "cells": [
  {
   "cell_type": "markdown",
   "metadata": {},
   "source": [
    "<table style=\"float:left; border:none\">\n",
    "   <tr style=\"border:none; background-color: #ffffff\">\n",
    "       <td style=\"border:none\">\n",
    "           <a href=\"http://bokeh.pydata.org/\">     \n",
    "           <img \n",
    "               src=\"assets/bokeh-transparent.png\" \n",
    "               style=\"width:50px\"\n",
    "           >\n",
    "           </a>    \n",
    "       </td>\n",
    "       <td style=\"border:none\">\n",
    "           <h1>Bokeh Tutorial</h1>\n",
    "       </td>\n",
    "   </tr>\n",
    "</table>\n",
    "\n",
    "<div style=\"float:right;\"><h2>06. Linking and Interactions</h2></div>"
   ]
  },
  {
   "cell_type": "code",
   "execution_count": 1,
   "metadata": {},
   "outputs": [
    {
     "data": {
      "text/html": [
       "\n",
       "    <div class=\"bk-root\">\n",
       "        <a href=\"https://bokeh.pydata.org\" target=\"_blank\" class=\"bk-logo bk-logo-small bk-logo-notebook\"></a>\n",
       "        <span id=\"1001\">Loading BokehJS ...</span>\n",
       "    </div>"
      ]
     },
     "metadata": {},
     "output_type": "display_data"
    },
    {
     "data": {
      "application/javascript": [
       "\n",
       "(function(root) {\n",
       "  function now() {\n",
       "    return new Date();\n",
       "  }\n",
       "\n",
       "  var force = true;\n",
       "\n",
       "  if (typeof (root._bokeh_onload_callbacks) === \"undefined\" || force === true) {\n",
       "    root._bokeh_onload_callbacks = [];\n",
       "    root._bokeh_is_loading = undefined;\n",
       "  }\n",
       "\n",
       "  var JS_MIME_TYPE = 'application/javascript';\n",
       "  var HTML_MIME_TYPE = 'text/html';\n",
       "  var EXEC_MIME_TYPE = 'application/vnd.bokehjs_exec.v0+json';\n",
       "  var CLASS_NAME = 'output_bokeh rendered_html';\n",
       "\n",
       "  /**\n",
       "   * Render data to the DOM node\n",
       "   */\n",
       "  function render(props, node) {\n",
       "    var script = document.createElement(\"script\");\n",
       "    node.appendChild(script);\n",
       "  }\n",
       "\n",
       "  /**\n",
       "   * Handle when an output is cleared or removed\n",
       "   */\n",
       "  function handleClearOutput(event, handle) {\n",
       "    var cell = handle.cell;\n",
       "\n",
       "    var id = cell.output_area._bokeh_element_id;\n",
       "    var server_id = cell.output_area._bokeh_server_id;\n",
       "    // Clean up Bokeh references\n",
       "    if (id != null && id in Bokeh.index) {\n",
       "      Bokeh.index[id].model.document.clear();\n",
       "      delete Bokeh.index[id];\n",
       "    }\n",
       "\n",
       "    if (server_id !== undefined) {\n",
       "      // Clean up Bokeh references\n",
       "      var cmd = \"from bokeh.io.state import curstate; print(curstate().uuid_to_server['\" + server_id + \"'].get_sessions()[0].document.roots[0]._id)\";\n",
       "      cell.notebook.kernel.execute(cmd, {\n",
       "        iopub: {\n",
       "          output: function(msg) {\n",
       "            var id = msg.content.text.trim();\n",
       "            if (id in Bokeh.index) {\n",
       "              Bokeh.index[id].model.document.clear();\n",
       "              delete Bokeh.index[id];\n",
       "            }\n",
       "          }\n",
       "        }\n",
       "      });\n",
       "      // Destroy server and session\n",
       "      var cmd = \"import bokeh.io.notebook as ion; ion.destroy_server('\" + server_id + \"')\";\n",
       "      cell.notebook.kernel.execute(cmd);\n",
       "    }\n",
       "  }\n",
       "\n",
       "  /**\n",
       "   * Handle when a new output is added\n",
       "   */\n",
       "  function handleAddOutput(event, handle) {\n",
       "    var output_area = handle.output_area;\n",
       "    var output = handle.output;\n",
       "\n",
       "    // limit handleAddOutput to display_data with EXEC_MIME_TYPE content only\n",
       "    if ((output.output_type != \"display_data\") || (!output.data.hasOwnProperty(EXEC_MIME_TYPE))) {\n",
       "      return\n",
       "    }\n",
       "\n",
       "    var toinsert = output_area.element.find(\".\" + CLASS_NAME.split(' ')[0]);\n",
       "\n",
       "    if (output.metadata[EXEC_MIME_TYPE][\"id\"] !== undefined) {\n",
       "      toinsert[toinsert.length - 1].firstChild.textContent = output.data[JS_MIME_TYPE];\n",
       "      // store reference to embed id on output_area\n",
       "      output_area._bokeh_element_id = output.metadata[EXEC_MIME_TYPE][\"id\"];\n",
       "    }\n",
       "    if (output.metadata[EXEC_MIME_TYPE][\"server_id\"] !== undefined) {\n",
       "      var bk_div = document.createElement(\"div\");\n",
       "      bk_div.innerHTML = output.data[HTML_MIME_TYPE];\n",
       "      var script_attrs = bk_div.children[0].attributes;\n",
       "      for (var i = 0; i < script_attrs.length; i++) {\n",
       "        toinsert[toinsert.length - 1].firstChild.setAttribute(script_attrs[i].name, script_attrs[i].value);\n",
       "      }\n",
       "      // store reference to server id on output_area\n",
       "      output_area._bokeh_server_id = output.metadata[EXEC_MIME_TYPE][\"server_id\"];\n",
       "    }\n",
       "  }\n",
       "\n",
       "  function register_renderer(events, OutputArea) {\n",
       "\n",
       "    function append_mime(data, metadata, element) {\n",
       "      // create a DOM node to render to\n",
       "      var toinsert = this.create_output_subarea(\n",
       "        metadata,\n",
       "        CLASS_NAME,\n",
       "        EXEC_MIME_TYPE\n",
       "      );\n",
       "      this.keyboard_manager.register_events(toinsert);\n",
       "      // Render to node\n",
       "      var props = {data: data, metadata: metadata[EXEC_MIME_TYPE]};\n",
       "      render(props, toinsert[toinsert.length - 1]);\n",
       "      element.append(toinsert);\n",
       "      return toinsert\n",
       "    }\n",
       "\n",
       "    /* Handle when an output is cleared or removed */\n",
       "    events.on('clear_output.CodeCell', handleClearOutput);\n",
       "    events.on('delete.Cell', handleClearOutput);\n",
       "\n",
       "    /* Handle when a new output is added */\n",
       "    events.on('output_added.OutputArea', handleAddOutput);\n",
       "\n",
       "    /**\n",
       "     * Register the mime type and append_mime function with output_area\n",
       "     */\n",
       "    OutputArea.prototype.register_mime_type(EXEC_MIME_TYPE, append_mime, {\n",
       "      /* Is output safe? */\n",
       "      safe: true,\n",
       "      /* Index of renderer in `output_area.display_order` */\n",
       "      index: 0\n",
       "    });\n",
       "  }\n",
       "\n",
       "  // register the mime type if in Jupyter Notebook environment and previously unregistered\n",
       "  if (root.Jupyter !== undefined) {\n",
       "    var events = require('base/js/events');\n",
       "    var OutputArea = require('notebook/js/outputarea').OutputArea;\n",
       "\n",
       "    if (OutputArea.prototype.mime_types().indexOf(EXEC_MIME_TYPE) == -1) {\n",
       "      register_renderer(events, OutputArea);\n",
       "    }\n",
       "  }\n",
       "\n",
       "  \n",
       "  if (typeof (root._bokeh_timeout) === \"undefined\" || force === true) {\n",
       "    root._bokeh_timeout = Date.now() + 5000;\n",
       "    root._bokeh_failed_load = false;\n",
       "  }\n",
       "\n",
       "  var NB_LOAD_WARNING = {'data': {'text/html':\n",
       "     \"<div style='background-color: #fdd'>\\n\"+\n",
       "     \"<p>\\n\"+\n",
       "     \"BokehJS does not appear to have successfully loaded. If loading BokehJS from CDN, this \\n\"+\n",
       "     \"may be due to a slow or bad network connection. Possible fixes:\\n\"+\n",
       "     \"</p>\\n\"+\n",
       "     \"<ul>\\n\"+\n",
       "     \"<li>re-rerun `output_notebook()` to attempt to load from CDN again, or</li>\\n\"+\n",
       "     \"<li>use INLINE resources instead, as so:</li>\\n\"+\n",
       "     \"</ul>\\n\"+\n",
       "     \"<code>\\n\"+\n",
       "     \"from bokeh.resources import INLINE\\n\"+\n",
       "     \"output_notebook(resources=INLINE)\\n\"+\n",
       "     \"</code>\\n\"+\n",
       "     \"</div>\"}};\n",
       "\n",
       "  function display_loaded() {\n",
       "    var el = document.getElementById(\"1001\");\n",
       "    if (el != null) {\n",
       "      el.textContent = \"BokehJS is loading...\";\n",
       "    }\n",
       "    if (root.Bokeh !== undefined) {\n",
       "      if (el != null) {\n",
       "        el.textContent = \"BokehJS \" + root.Bokeh.version + \" successfully loaded.\";\n",
       "      }\n",
       "    } else if (Date.now() < root._bokeh_timeout) {\n",
       "      setTimeout(display_loaded, 100)\n",
       "    }\n",
       "  }\n",
       "\n",
       "\n",
       "  function run_callbacks() {\n",
       "    try {\n",
       "      root._bokeh_onload_callbacks.forEach(function(callback) { callback() });\n",
       "    }\n",
       "    finally {\n",
       "      delete root._bokeh_onload_callbacks\n",
       "    }\n",
       "    console.info(\"Bokeh: all callbacks have finished\");\n",
       "  }\n",
       "\n",
       "  function load_libs(js_urls, callback) {\n",
       "    root._bokeh_onload_callbacks.push(callback);\n",
       "    if (root._bokeh_is_loading > 0) {\n",
       "      console.log(\"Bokeh: BokehJS is being loaded, scheduling callback at\", now());\n",
       "      return null;\n",
       "    }\n",
       "    if (js_urls == null || js_urls.length === 0) {\n",
       "      run_callbacks();\n",
       "      return null;\n",
       "    }\n",
       "    console.log(\"Bokeh: BokehJS not loaded, scheduling load and callback at\", now());\n",
       "    root._bokeh_is_loading = js_urls.length;\n",
       "    for (var i = 0; i < js_urls.length; i++) {\n",
       "      var url = js_urls[i];\n",
       "      var s = document.createElement('script');\n",
       "      s.src = url;\n",
       "      s.async = false;\n",
       "      s.onreadystatechange = s.onload = function() {\n",
       "        root._bokeh_is_loading--;\n",
       "        if (root._bokeh_is_loading === 0) {\n",
       "          console.log(\"Bokeh: all BokehJS libraries loaded\");\n",
       "          run_callbacks()\n",
       "        }\n",
       "      };\n",
       "      s.onerror = function() {\n",
       "        console.warn(\"failed to load library \" + url);\n",
       "      };\n",
       "      console.log(\"Bokeh: injecting script tag for BokehJS library: \", url);\n",
       "      document.getElementsByTagName(\"head\")[0].appendChild(s);\n",
       "    }\n",
       "  };var element = document.getElementById(\"1001\");\n",
       "  if (element == null) {\n",
       "    console.log(\"Bokeh: ERROR: autoload.js configured with elementid '1001' but no matching script tag was found. \")\n",
       "    return false;\n",
       "  }\n",
       "\n",
       "  var js_urls = [\"https://cdn.pydata.org/bokeh/release/bokeh-1.0.1.min.js\", \"https://cdn.pydata.org/bokeh/release/bokeh-widgets-1.0.1.min.js\", \"https://cdn.pydata.org/bokeh/release/bokeh-tables-1.0.1.min.js\", \"https://cdn.pydata.org/bokeh/release/bokeh-gl-1.0.1.min.js\"];\n",
       "\n",
       "  var inline_js = [\n",
       "    function(Bokeh) {\n",
       "      Bokeh.set_log_level(\"info\");\n",
       "    },\n",
       "    \n",
       "    function(Bokeh) {\n",
       "      \n",
       "    },\n",
       "    function(Bokeh) {\n",
       "      console.log(\"Bokeh: injecting CSS: https://cdn.pydata.org/bokeh/release/bokeh-1.0.1.min.css\");\n",
       "      Bokeh.embed.inject_css(\"https://cdn.pydata.org/bokeh/release/bokeh-1.0.1.min.css\");\n",
       "      console.log(\"Bokeh: injecting CSS: https://cdn.pydata.org/bokeh/release/bokeh-widgets-1.0.1.min.css\");\n",
       "      Bokeh.embed.inject_css(\"https://cdn.pydata.org/bokeh/release/bokeh-widgets-1.0.1.min.css\");\n",
       "      console.log(\"Bokeh: injecting CSS: https://cdn.pydata.org/bokeh/release/bokeh-tables-1.0.1.min.css\");\n",
       "      Bokeh.embed.inject_css(\"https://cdn.pydata.org/bokeh/release/bokeh-tables-1.0.1.min.css\");\n",
       "    }\n",
       "  ];\n",
       "\n",
       "  function run_inline_js() {\n",
       "    \n",
       "    if ((root.Bokeh !== undefined) || (force === true)) {\n",
       "      for (var i = 0; i < inline_js.length; i++) {\n",
       "        inline_js[i].call(root, root.Bokeh);\n",
       "      }if (force === true) {\n",
       "        display_loaded();\n",
       "      }} else if (Date.now() < root._bokeh_timeout) {\n",
       "      setTimeout(run_inline_js, 100);\n",
       "    } else if (!root._bokeh_failed_load) {\n",
       "      console.log(\"Bokeh: BokehJS failed to load within specified timeout.\");\n",
       "      root._bokeh_failed_load = true;\n",
       "    } else if (force !== true) {\n",
       "      var cell = $(document.getElementById(\"1001\")).parents('.cell').data().cell;\n",
       "      cell.output_area.append_execute_result(NB_LOAD_WARNING)\n",
       "    }\n",
       "\n",
       "  }\n",
       "\n",
       "  if (root._bokeh_is_loading === 0) {\n",
       "    console.log(\"Bokeh: BokehJS loaded, going straight to plotting\");\n",
       "    run_inline_js();\n",
       "  } else {\n",
       "    load_libs(js_urls, function() {\n",
       "      console.log(\"Bokeh: BokehJS plotting callback run at\", now());\n",
       "      run_inline_js();\n",
       "    });\n",
       "  }\n",
       "}(window));"
      ],
      "application/vnd.bokehjs_load.v0+json": "\n(function(root) {\n  function now() {\n    return new Date();\n  }\n\n  var force = true;\n\n  if (typeof (root._bokeh_onload_callbacks) === \"undefined\" || force === true) {\n    root._bokeh_onload_callbacks = [];\n    root._bokeh_is_loading = undefined;\n  }\n\n  \n\n  \n  if (typeof (root._bokeh_timeout) === \"undefined\" || force === true) {\n    root._bokeh_timeout = Date.now() + 5000;\n    root._bokeh_failed_load = false;\n  }\n\n  var NB_LOAD_WARNING = {'data': {'text/html':\n     \"<div style='background-color: #fdd'>\\n\"+\n     \"<p>\\n\"+\n     \"BokehJS does not appear to have successfully loaded. If loading BokehJS from CDN, this \\n\"+\n     \"may be due to a slow or bad network connection. Possible fixes:\\n\"+\n     \"</p>\\n\"+\n     \"<ul>\\n\"+\n     \"<li>re-rerun `output_notebook()` to attempt to load from CDN again, or</li>\\n\"+\n     \"<li>use INLINE resources instead, as so:</li>\\n\"+\n     \"</ul>\\n\"+\n     \"<code>\\n\"+\n     \"from bokeh.resources import INLINE\\n\"+\n     \"output_notebook(resources=INLINE)\\n\"+\n     \"</code>\\n\"+\n     \"</div>\"}};\n\n  function display_loaded() {\n    var el = document.getElementById(\"1001\");\n    if (el != null) {\n      el.textContent = \"BokehJS is loading...\";\n    }\n    if (root.Bokeh !== undefined) {\n      if (el != null) {\n        el.textContent = \"BokehJS \" + root.Bokeh.version + \" successfully loaded.\";\n      }\n    } else if (Date.now() < root._bokeh_timeout) {\n      setTimeout(display_loaded, 100)\n    }\n  }\n\n\n  function run_callbacks() {\n    try {\n      root._bokeh_onload_callbacks.forEach(function(callback) { callback() });\n    }\n    finally {\n      delete root._bokeh_onload_callbacks\n    }\n    console.info(\"Bokeh: all callbacks have finished\");\n  }\n\n  function load_libs(js_urls, callback) {\n    root._bokeh_onload_callbacks.push(callback);\n    if (root._bokeh_is_loading > 0) {\n      console.log(\"Bokeh: BokehJS is being loaded, scheduling callback at\", now());\n      return null;\n    }\n    if (js_urls == null || js_urls.length === 0) {\n      run_callbacks();\n      return null;\n    }\n    console.log(\"Bokeh: BokehJS not loaded, scheduling load and callback at\", now());\n    root._bokeh_is_loading = js_urls.length;\n    for (var i = 0; i < js_urls.length; i++) {\n      var url = js_urls[i];\n      var s = document.createElement('script');\n      s.src = url;\n      s.async = false;\n      s.onreadystatechange = s.onload = function() {\n        root._bokeh_is_loading--;\n        if (root._bokeh_is_loading === 0) {\n          console.log(\"Bokeh: all BokehJS libraries loaded\");\n          run_callbacks()\n        }\n      };\n      s.onerror = function() {\n        console.warn(\"failed to load library \" + url);\n      };\n      console.log(\"Bokeh: injecting script tag for BokehJS library: \", url);\n      document.getElementsByTagName(\"head\")[0].appendChild(s);\n    }\n  };var element = document.getElementById(\"1001\");\n  if (element == null) {\n    console.log(\"Bokeh: ERROR: autoload.js configured with elementid '1001' but no matching script tag was found. \")\n    return false;\n  }\n\n  var js_urls = [\"https://cdn.pydata.org/bokeh/release/bokeh-1.0.1.min.js\", \"https://cdn.pydata.org/bokeh/release/bokeh-widgets-1.0.1.min.js\", \"https://cdn.pydata.org/bokeh/release/bokeh-tables-1.0.1.min.js\", \"https://cdn.pydata.org/bokeh/release/bokeh-gl-1.0.1.min.js\"];\n\n  var inline_js = [\n    function(Bokeh) {\n      Bokeh.set_log_level(\"info\");\n    },\n    \n    function(Bokeh) {\n      \n    },\n    function(Bokeh) {\n      console.log(\"Bokeh: injecting CSS: https://cdn.pydata.org/bokeh/release/bokeh-1.0.1.min.css\");\n      Bokeh.embed.inject_css(\"https://cdn.pydata.org/bokeh/release/bokeh-1.0.1.min.css\");\n      console.log(\"Bokeh: injecting CSS: https://cdn.pydata.org/bokeh/release/bokeh-widgets-1.0.1.min.css\");\n      Bokeh.embed.inject_css(\"https://cdn.pydata.org/bokeh/release/bokeh-widgets-1.0.1.min.css\");\n      console.log(\"Bokeh: injecting CSS: https://cdn.pydata.org/bokeh/release/bokeh-tables-1.0.1.min.css\");\n      Bokeh.embed.inject_css(\"https://cdn.pydata.org/bokeh/release/bokeh-tables-1.0.1.min.css\");\n    }\n  ];\n\n  function run_inline_js() {\n    \n    if ((root.Bokeh !== undefined) || (force === true)) {\n      for (var i = 0; i < inline_js.length; i++) {\n        inline_js[i].call(root, root.Bokeh);\n      }if (force === true) {\n        display_loaded();\n      }} else if (Date.now() < root._bokeh_timeout) {\n      setTimeout(run_inline_js, 100);\n    } else if (!root._bokeh_failed_load) {\n      console.log(\"Bokeh: BokehJS failed to load within specified timeout.\");\n      root._bokeh_failed_load = true;\n    } else if (force !== true) {\n      var cell = $(document.getElementById(\"1001\")).parents('.cell').data().cell;\n      cell.output_area.append_execute_result(NB_LOAD_WARNING)\n    }\n\n  }\n\n  if (root._bokeh_is_loading === 0) {\n    console.log(\"Bokeh: BokehJS loaded, going straight to plotting\");\n    run_inline_js();\n  } else {\n    load_libs(js_urls, function() {\n      console.log(\"Bokeh: BokehJS plotting callback run at\", now());\n      run_inline_js();\n    });\n  }\n}(window));"
     },
     "metadata": {},
     "output_type": "display_data"
    }
   ],
   "source": [
    "from bokeh.io import output_notebook, show\n",
    "from bokeh.plotting import figure\n",
    "output_notebook()"
   ]
  },
  {
   "cell_type": "markdown",
   "metadata": {},
   "source": [
    "Now that we know from the previous chapter how multiple plots can be placed together in a layout, we can start to look at how different plots can be linked togeher, or how plots can be linked to widgets. "
   ]
  },
  {
   "cell_type": "markdown",
   "metadata": {
    "collapsed": true
   },
   "source": [
    "# Linked Interactions\n",
    "\n",
    "It is possible to link various interactions between different Bokeh plots. For instance, the ranges of two (or more) plots can be linked, so that when one of the plots is panned (or zoomed, or otherwise has its range changed) the other plots will update in unison. It is also possible to link selections between two plots, so that when items are selected on one plot, the corresponding items on the second plot also become selected. "
   ]
  },
  {
   "cell_type": "markdown",
   "metadata": {},
   "source": [
    "## Linked panning\n",
    "\n",
    "Linked panning (when multiple plots have ranges that stay in sync) is simple to spell with Bokeh. You simply share the appropriate range objects between two (or more) plots. The example below shows how to accomplish this by linking the ranges of three plots in various ways:"
   ]
  },
  {
   "cell_type": "code",
   "execution_count": 2,
   "metadata": {},
   "outputs": [
    {
     "data": {
      "text/html": [
       "\n",
       "\n",
       "\n",
       "\n",
       "\n",
       "\n",
       "  <div class=\"bk-root\" id=\"30a67b47-23e8-4e07-bdd5-c52d20cb1aee\"></div>\n"
      ]
     },
     "metadata": {},
     "output_type": "display_data"
    },
    {
     "data": {
      "application/javascript": [
       "(function(root) {\n",
       "  function embed_document(root) {\n",
       "    \n",
       "  var docs_json = {\"2e0ee81b-eee5-42e2-92cf-91fbbc7118b8\":{\"roots\":{\"references\":[{\"attributes\":{\"children\":[{\"id\":\"1116\",\"type\":\"ToolbarBox\"},{\"id\":\"1114\",\"type\":\"Column\"}]},\"id\":\"1117\",\"type\":\"Column\"},{\"attributes\":{\"source\":{\"id\":\"1026\",\"type\":\"ColumnDataSource\"}},\"id\":\"1030\",\"type\":\"CDSView\"},{\"attributes\":{\"callback\":null},\"id\":\"1005\",\"type\":\"DataRange1d\"},{\"attributes\":{\"callback\":null,\"data\":{\"x\":[0,1,2,3,4,5,6,7,8,9,10],\"y\":[5,4,3,2,1,0,1,2,3,4,5]},\"selected\":{\"id\":\"1111\",\"type\":\"Selection\"},\"selection_policy\":{\"id\":\"1110\",\"type\":\"UnionRenderers\"}},\"id\":\"1081\",\"type\":\"ColumnDataSource\"},{\"attributes\":{\"plot\":null,\"text\":\"\"},\"id\":\"1087\",\"type\":\"Title\"},{\"attributes\":{},\"id\":\"1007\",\"type\":\"LinearScale\"},{\"attributes\":{\"callback\":null},\"id\":\"1060\",\"type\":\"DataRange1d\"},{\"attributes\":{\"callback\":null,\"data\":{\"x\":[0,1,2,3,4,5,6,7,8,9,10],\"y\":[10,9,8,7,6,5,4,3,2,1,0]},\"selected\":{\"id\":\"1102\",\"type\":\"Selection\"},\"selection_policy\":{\"id\":\"1101\",\"type\":\"UnionRenderers\"}},\"id\":\"1053\",\"type\":\"ColumnDataSource\"},{\"attributes\":{},\"id\":\"1034\",\"type\":\"LinearScale\"},{\"attributes\":{},\"id\":\"1089\",\"type\":\"BasicTickFormatter\"},{\"attributes\":{},\"id\":\"1009\",\"type\":\"LinearScale\"},{\"attributes\":{},\"id\":\"1062\",\"type\":\"LinearScale\"},{\"attributes\":{},\"id\":\"1036\",\"type\":\"LinearScale\"},{\"attributes\":{},\"id\":\"1091\",\"type\":\"BasicTickFormatter\"},{\"attributes\":{\"formatter\":{\"id\":\"1091\",\"type\":\"BasicTickFormatter\"},\"plot\":{\"id\":\"1002\",\"subtype\":\"Figure\",\"type\":\"Plot\"},\"ticker\":{\"id\":\"1012\",\"type\":\"BasicTicker\"}},\"id\":\"1011\",\"type\":\"LinearAxis\"},{\"attributes\":{},\"id\":\"1064\",\"type\":\"LinearScale\"},{\"attributes\":{\"formatter\":{\"id\":\"1100\",\"type\":\"BasicTickFormatter\"},\"plot\":{\"id\":\"1031\",\"subtype\":\"Figure\",\"type\":\"Plot\"},\"ticker\":{\"id\":\"1039\",\"type\":\"BasicTicker\"}},\"id\":\"1038\",\"type\":\"LinearAxis\"},{\"attributes\":{},\"id\":\"1092\",\"type\":\"UnionRenderers\"},{\"attributes\":{\"formatter\":{\"id\":\"1109\",\"type\":\"BasicTickFormatter\"},\"plot\":{\"id\":\"1058\",\"subtype\":\"Figure\",\"type\":\"Plot\"},\"ticker\":{\"id\":\"1067\",\"type\":\"BasicTicker\"}},\"id\":\"1066\",\"type\":\"LinearAxis\"},{\"attributes\":{\"children\":[{\"id\":\"1002\",\"subtype\":\"Figure\",\"type\":\"Plot\"},{\"id\":\"1031\",\"subtype\":\"Figure\",\"type\":\"Plot\"},{\"id\":\"1058\",\"subtype\":\"Figure\",\"type\":\"Plot\"}]},\"id\":\"1113\",\"type\":\"Row\"},{\"attributes\":{},\"id\":\"1012\",\"type\":\"BasicTicker\"},{\"attributes\":{\"fill_color\":{\"value\":\"navy\"},\"line_color\":{\"value\":\"navy\"},\"size\":{\"units\":\"screen\",\"value\":10},\"x\":{\"field\":\"x\"},\"y\":{\"field\":\"y\"}},\"id\":\"1027\",\"type\":\"Circle\"},{\"attributes\":{},\"id\":\"1039\",\"type\":\"BasicTicker\"},{\"attributes\":{},\"id\":\"1093\",\"type\":\"Selection\"},{\"attributes\":{},\"id\":\"1067\",\"type\":\"BasicTicker\"},{\"attributes\":{\"plot\":{\"id\":\"1002\",\"subtype\":\"Figure\",\"type\":\"Plot\"},\"ticker\":{\"id\":\"1012\",\"type\":\"BasicTicker\"}},\"id\":\"1015\",\"type\":\"Grid\"},{\"attributes\":{\"plot\":null,\"text\":\"\"},\"id\":\"1096\",\"type\":\"Title\"},{\"attributes\":{\"plot\":{\"id\":\"1031\",\"subtype\":\"Figure\",\"type\":\"Plot\"},\"ticker\":{\"id\":\"1039\",\"type\":\"BasicTicker\"}},\"id\":\"1042\",\"type\":\"Grid\"},{\"attributes\":{\"plot\":{\"id\":\"1058\",\"subtype\":\"Figure\",\"type\":\"Plot\"},\"ticker\":{\"id\":\"1067\",\"type\":\"BasicTicker\"}},\"id\":\"1070\",\"type\":\"Grid\"},{\"attributes\":{\"formatter\":{\"id\":\"1089\",\"type\":\"BasicTickFormatter\"},\"plot\":{\"id\":\"1002\",\"subtype\":\"Figure\",\"type\":\"Plot\"},\"ticker\":{\"id\":\"1017\",\"type\":\"BasicTicker\"}},\"id\":\"1016\",\"type\":\"LinearAxis\"},{\"attributes\":{\"formatter\":{\"id\":\"1098\",\"type\":\"BasicTickFormatter\"},\"plot\":{\"id\":\"1031\",\"subtype\":\"Figure\",\"type\":\"Plot\"},\"ticker\":{\"id\":\"1044\",\"type\":\"BasicTicker\"}},\"id\":\"1043\",\"type\":\"LinearAxis\"},{\"attributes\":{},\"id\":\"1098\",\"type\":\"BasicTickFormatter\"},{\"attributes\":{\"formatter\":{\"id\":\"1107\",\"type\":\"BasicTickFormatter\"},\"plot\":{\"id\":\"1058\",\"subtype\":\"Figure\",\"type\":\"Plot\"},\"ticker\":{\"id\":\"1072\",\"type\":\"BasicTicker\"}},\"id\":\"1071\",\"type\":\"LinearAxis\"},{\"attributes\":{},\"id\":\"1017\",\"type\":\"BasicTicker\"},{\"attributes\":{},\"id\":\"1044\",\"type\":\"BasicTicker\"},{\"attributes\":{},\"id\":\"1100\",\"type\":\"BasicTickFormatter\"},{\"attributes\":{},\"id\":\"1072\",\"type\":\"BasicTicker\"},{\"attributes\":{\"dimension\":1,\"plot\":{\"id\":\"1002\",\"subtype\":\"Figure\",\"type\":\"Plot\"},\"ticker\":{\"id\":\"1017\",\"type\":\"BasicTicker\"}},\"id\":\"1020\",\"type\":\"Grid\"},{\"attributes\":{\"dimension\":1,\"plot\":{\"id\":\"1031\",\"subtype\":\"Figure\",\"type\":\"Plot\"},\"ticker\":{\"id\":\"1044\",\"type\":\"BasicTicker\"}},\"id\":\"1047\",\"type\":\"Grid\"},{\"attributes\":{},\"id\":\"1101\",\"type\":\"UnionRenderers\"},{\"attributes\":{\"dimension\":1,\"plot\":{\"id\":\"1058\",\"subtype\":\"Figure\",\"type\":\"Plot\"},\"ticker\":{\"id\":\"1072\",\"type\":\"BasicTicker\"}},\"id\":\"1075\",\"type\":\"Grid\"},{\"attributes\":{},\"id\":\"1022\",\"type\":\"WheelZoomTool\"},{\"attributes\":{\"children\":[{\"id\":\"1113\",\"type\":\"Row\"}]},\"id\":\"1114\",\"type\":\"Column\"},{\"attributes\":{},\"id\":\"1102\",\"type\":\"Selection\"},{\"attributes\":{\"active_drag\":\"auto\",\"active_inspect\":\"auto\",\"active_multi\":null,\"active_scroll\":\"auto\",\"active_tap\":\"auto\",\"tools\":[{\"id\":\"1021\",\"type\":\"PanTool\"},{\"id\":\"1022\",\"type\":\"WheelZoomTool\"}]},\"id\":\"1023\",\"type\":\"Toolbar\"},{\"attributes\":{\"active_drag\":\"auto\",\"active_inspect\":\"auto\",\"active_multi\":null,\"active_scroll\":\"auto\",\"active_tap\":\"auto\",\"tools\":[{\"id\":\"1048\",\"type\":\"PanTool\"},{\"id\":\"1049\",\"type\":\"WheelZoomTool\"}]},\"id\":\"1050\",\"type\":\"Toolbar\"},{\"attributes\":{\"fill_alpha\":{\"value\":0.1},\"fill_color\":{\"value\":\"#1f77b4\"},\"line_alpha\":{\"value\":0.1},\"line_color\":{\"value\":\"#1f77b4\"},\"size\":{\"units\":\"screen\",\"value\":10},\"x\":{\"field\":\"x\"},\"y\":{\"field\":\"y\"}},\"id\":\"1028\",\"type\":\"Circle\"},{\"attributes\":{},\"id\":\"1021\",\"type\":\"PanTool\"},{\"attributes\":{\"active_drag\":\"auto\",\"active_inspect\":\"auto\",\"active_multi\":null,\"active_scroll\":\"auto\",\"active_tap\":\"auto\",\"tools\":[{\"id\":\"1076\",\"type\":\"PanTool\"},{\"id\":\"1077\",\"type\":\"WheelZoomTool\"}]},\"id\":\"1078\",\"type\":\"Toolbar\"},{\"attributes\":{},\"id\":\"1048\",\"type\":\"PanTool\"},{\"attributes\":{\"plot\":null,\"text\":\"\"},\"id\":\"1105\",\"type\":\"Title\"},{\"attributes\":{},\"id\":\"1076\",\"type\":\"PanTool\"},{\"attributes\":{},\"id\":\"1049\",\"type\":\"WheelZoomTool\"},{\"attributes\":{},\"id\":\"1107\",\"type\":\"BasicTickFormatter\"},{\"attributes\":{},\"id\":\"1077\",\"type\":\"WheelZoomTool\"},{\"attributes\":{\"source\":{\"id\":\"1081\",\"type\":\"ColumnDataSource\"}},\"id\":\"1085\",\"type\":\"CDSView\"},{\"attributes\":{\"source\":{\"id\":\"1053\",\"type\":\"ColumnDataSource\"}},\"id\":\"1057\",\"type\":\"CDSView\"},{\"attributes\":{},\"id\":\"1109\",\"type\":\"BasicTickFormatter\"},{\"attributes\":{\"below\":[{\"id\":\"1066\",\"type\":\"LinearAxis\"}],\"left\":[{\"id\":\"1071\",\"type\":\"LinearAxis\"}],\"plot_height\":250,\"plot_width\":250,\"renderers\":[{\"id\":\"1066\",\"type\":\"LinearAxis\"},{\"id\":\"1070\",\"type\":\"Grid\"},{\"id\":\"1071\",\"type\":\"LinearAxis\"},{\"id\":\"1075\",\"type\":\"Grid\"},{\"id\":\"1084\",\"type\":\"GlyphRenderer\"}],\"title\":{\"id\":\"1105\",\"type\":\"Title\"},\"toolbar\":{\"id\":\"1078\",\"type\":\"Toolbar\"},\"toolbar_location\":null,\"x_range\":{\"id\":\"1003\",\"type\":\"DataRange1d\"},\"x_scale\":{\"id\":\"1062\",\"type\":\"LinearScale\"},\"y_range\":{\"id\":\"1060\",\"type\":\"DataRange1d\"},\"y_scale\":{\"id\":\"1064\",\"type\":\"LinearScale\"}},\"id\":\"1058\",\"subtype\":\"Figure\",\"type\":\"Plot\"},{\"attributes\":{\"fill_color\":{\"value\":\"firebrick\"},\"line_color\":{\"value\":\"firebrick\"},\"size\":{\"units\":\"screen\",\"value\":10},\"x\":{\"field\":\"x\"},\"y\":{\"field\":\"y\"}},\"id\":\"1054\",\"type\":\"Triangle\"},{\"attributes\":{},\"id\":\"1110\",\"type\":\"UnionRenderers\"},{\"attributes\":{\"fill_color\":{\"value\":\"olive\"},\"line_color\":{\"value\":\"olive\"},\"size\":{\"units\":\"screen\",\"value\":10},\"x\":{\"field\":\"x\"},\"y\":{\"field\":\"y\"}},\"id\":\"1082\",\"type\":\"Square\"},{\"attributes\":{\"below\":[{\"id\":\"1011\",\"type\":\"LinearAxis\"}],\"left\":[{\"id\":\"1016\",\"type\":\"LinearAxis\"}],\"plot_height\":250,\"plot_width\":250,\"renderers\":[{\"id\":\"1011\",\"type\":\"LinearAxis\"},{\"id\":\"1015\",\"type\":\"Grid\"},{\"id\":\"1016\",\"type\":\"LinearAxis\"},{\"id\":\"1020\",\"type\":\"Grid\"},{\"id\":\"1029\",\"type\":\"GlyphRenderer\"}],\"title\":{\"id\":\"1087\",\"type\":\"Title\"},\"toolbar\":{\"id\":\"1023\",\"type\":\"Toolbar\"},\"toolbar_location\":null,\"x_range\":{\"id\":\"1003\",\"type\":\"DataRange1d\"},\"x_scale\":{\"id\":\"1007\",\"type\":\"LinearScale\"},\"y_range\":{\"id\":\"1005\",\"type\":\"DataRange1d\"},\"y_scale\":{\"id\":\"1009\",\"type\":\"LinearScale\"}},\"id\":\"1002\",\"subtype\":\"Figure\",\"type\":\"Plot\"},{\"attributes\":{\"fill_alpha\":{\"value\":0.1},\"fill_color\":{\"value\":\"#1f77b4\"},\"line_alpha\":{\"value\":0.1},\"line_color\":{\"value\":\"#1f77b4\"},\"size\":{\"units\":\"screen\",\"value\":10},\"x\":{\"field\":\"x\"},\"y\":{\"field\":\"y\"}},\"id\":\"1055\",\"type\":\"Triangle\"},{\"attributes\":{\"fill_alpha\":{\"value\":0.1},\"fill_color\":{\"value\":\"#1f77b4\"},\"line_alpha\":{\"value\":0.1},\"line_color\":{\"value\":\"#1f77b4\"},\"size\":{\"units\":\"screen\",\"value\":10},\"x\":{\"field\":\"x\"},\"y\":{\"field\":\"y\"}},\"id\":\"1083\",\"type\":\"Square\"},{\"attributes\":{\"callback\":null},\"id\":\"1003\",\"type\":\"DataRange1d\"},{\"attributes\":{},\"id\":\"1111\",\"type\":\"Selection\"},{\"attributes\":{\"tools\":[{\"id\":\"1021\",\"type\":\"PanTool\"},{\"id\":\"1022\",\"type\":\"WheelZoomTool\"},{\"id\":\"1048\",\"type\":\"PanTool\"},{\"id\":\"1049\",\"type\":\"WheelZoomTool\"},{\"id\":\"1076\",\"type\":\"PanTool\"},{\"id\":\"1077\",\"type\":\"WheelZoomTool\"}]},\"id\":\"1115\",\"type\":\"ProxyToolbar\"},{\"attributes\":{\"data_source\":{\"id\":\"1053\",\"type\":\"ColumnDataSource\"},\"glyph\":{\"id\":\"1054\",\"type\":\"Triangle\"},\"hover_glyph\":null,\"muted_glyph\":null,\"nonselection_glyph\":{\"id\":\"1055\",\"type\":\"Triangle\"},\"selection_glyph\":null,\"view\":{\"id\":\"1057\",\"type\":\"CDSView\"}},\"id\":\"1056\",\"type\":\"GlyphRenderer\"},{\"attributes\":{\"data_source\":{\"id\":\"1081\",\"type\":\"ColumnDataSource\"},\"glyph\":{\"id\":\"1082\",\"type\":\"Square\"},\"hover_glyph\":null,\"muted_glyph\":null,\"nonselection_glyph\":{\"id\":\"1083\",\"type\":\"Square\"},\"selection_glyph\":null,\"view\":{\"id\":\"1085\",\"type\":\"CDSView\"}},\"id\":\"1084\",\"type\":\"GlyphRenderer\"},{\"attributes\":{\"below\":[{\"id\":\"1038\",\"type\":\"LinearAxis\"}],\"left\":[{\"id\":\"1043\",\"type\":\"LinearAxis\"}],\"plot_height\":250,\"plot_width\":250,\"renderers\":[{\"id\":\"1038\",\"type\":\"LinearAxis\"},{\"id\":\"1042\",\"type\":\"Grid\"},{\"id\":\"1043\",\"type\":\"LinearAxis\"},{\"id\":\"1047\",\"type\":\"Grid\"},{\"id\":\"1056\",\"type\":\"GlyphRenderer\"}],\"title\":{\"id\":\"1096\",\"type\":\"Title\"},\"toolbar\":{\"id\":\"1050\",\"type\":\"Toolbar\"},\"toolbar_location\":null,\"x_range\":{\"id\":\"1003\",\"type\":\"DataRange1d\"},\"x_scale\":{\"id\":\"1034\",\"type\":\"LinearScale\"},\"y_range\":{\"id\":\"1005\",\"type\":\"DataRange1d\"},\"y_scale\":{\"id\":\"1036\",\"type\":\"LinearScale\"}},\"id\":\"1031\",\"subtype\":\"Figure\",\"type\":\"Plot\"},{\"attributes\":{\"callback\":null,\"data\":{\"x\":[0,1,2,3,4,5,6,7,8,9,10],\"y\":[0,1,2,3,4,5,6,7,8,9,10]},\"selected\":{\"id\":\"1093\",\"type\":\"Selection\"},\"selection_policy\":{\"id\":\"1092\",\"type\":\"UnionRenderers\"}},\"id\":\"1026\",\"type\":\"ColumnDataSource\"},{\"attributes\":{\"toolbar\":{\"id\":\"1115\",\"type\":\"ProxyToolbar\"},\"toolbar_location\":\"above\"},\"id\":\"1116\",\"type\":\"ToolbarBox\"},{\"attributes\":{\"data_source\":{\"id\":\"1026\",\"type\":\"ColumnDataSource\"},\"glyph\":{\"id\":\"1027\",\"type\":\"Circle\"},\"hover_glyph\":null,\"muted_glyph\":null,\"nonselection_glyph\":{\"id\":\"1028\",\"type\":\"Circle\"},\"selection_glyph\":null,\"view\":{\"id\":\"1030\",\"type\":\"CDSView\"}},\"id\":\"1029\",\"type\":\"GlyphRenderer\"}],\"root_ids\":[\"1117\"]},\"title\":\"Bokeh Application\",\"version\":\"1.0.1\"}};\n",
       "  var render_items = [{\"docid\":\"2e0ee81b-eee5-42e2-92cf-91fbbc7118b8\",\"roots\":{\"1117\":\"30a67b47-23e8-4e07-bdd5-c52d20cb1aee\"}}];\n",
       "  root.Bokeh.embed.embed_items_notebook(docs_json, render_items);\n",
       "\n",
       "  }\n",
       "  if (root.Bokeh !== undefined) {\n",
       "    embed_document(root);\n",
       "  } else {\n",
       "    var attempts = 0;\n",
       "    var timer = setInterval(function(root) {\n",
       "      if (root.Bokeh !== undefined) {\n",
       "        embed_document(root);\n",
       "        clearInterval(timer);\n",
       "      }\n",
       "      attempts++;\n",
       "      if (attempts > 100) {\n",
       "        console.log(\"Bokeh: ERROR: Unable to run BokehJS code because BokehJS library is missing\");\n",
       "        clearInterval(timer);\n",
       "      }\n",
       "    }, 10, root)\n",
       "  }\n",
       "})(window);"
      ],
      "application/vnd.bokehjs_exec.v0+json": ""
     },
     "metadata": {
      "application/vnd.bokehjs_exec.v0+json": {
       "id": "1117"
      }
     },
     "output_type": "display_data"
    }
   ],
   "source": [
    "from bokeh.layouts import gridplot\n",
    "\n",
    "x = list(range(11))\n",
    "y0, y1, y2 = x, [10-i for i in x], [abs(i-5) for i in x]\n",
    "\n",
    "plot_options = dict(width=250, plot_height=250, tools='pan,wheel_zoom')\n",
    "\n",
    "# create a new plot\n",
    "s1 = figure(**plot_options)\n",
    "s1.circle(x, y0, size=10, color=\"navy\")\n",
    "\n",
    "# create a new plot and share both ranges\n",
    "s2 = figure(x_range=s1.x_range, y_range=s1.y_range, **plot_options)\n",
    "s2.triangle(x, y1, size=10, color=\"firebrick\")\n",
    "\n",
    "# create a new plot and share only one range\n",
    "s3 = figure(x_range=s1.x_range, **plot_options)\n",
    "s3.square(x, y2, size=10, color=\"olive\")\n",
    "\n",
    "p = gridplot([[s1, s2, s3]])\n",
    "\n",
    "# show the results\n",
    "show(p)"
   ]
  },
  {
   "cell_type": "code",
   "execution_count": 3,
   "metadata": {
    "collapsed": true
   },
   "outputs": [],
   "source": [
    "# EXERCISE: create two plots in a gridplot, and link their ranges\n"
   ]
  },
  {
   "cell_type": "markdown",
   "metadata": {},
   "source": [
    "## Linked brushing\n",
    "\n",
    "Linking selections is accomplished in a similar way, by sharing data sources between plots. Note that normally with ``bokeh.plotting`` and ``bokeh.charts`` creating a default data source for simple plots is handled automatically. However to share a data source, we must create them by hand and pass them explicitly. This is illustrated in the example below:"
   ]
  },
  {
   "cell_type": "code",
   "execution_count": 4,
   "metadata": {},
   "outputs": [
    {
     "data": {
      "text/html": [
       "\n",
       "\n",
       "\n",
       "\n",
       "\n",
       "\n",
       "  <div class=\"bk-root\" id=\"5a9f2eba-5dba-4405-8efa-ae05272a43ff\"></div>\n"
      ]
     },
     "metadata": {},
     "output_type": "display_data"
    },
    {
     "data": {
      "application/javascript": [
       "(function(root) {\n",
       "  function embed_document(root) {\n",
       "    \n",
       "  var docs_json = {\"4ccde517-86f8-4f15-97c6-f6917fb304b1\":{\"roots\":{\"references\":[{\"attributes\":{\"children\":[{\"id\":\"1382\",\"type\":\"ToolbarBox\"},{\"id\":\"1380\",\"type\":\"Column\"}]},\"id\":\"1383\",\"type\":\"Column\"},{\"attributes\":{\"plot\":{\"id\":\"1287\",\"subtype\":\"Figure\",\"type\":\"Plot\"},\"ticker\":{\"id\":\"1297\",\"type\":\"BasicTicker\"}},\"id\":\"1300\",\"type\":\"Grid\"},{\"attributes\":{\"fill_alpha\":{\"value\":0.1},\"fill_color\":{\"value\":\"#1f77b4\"},\"line_alpha\":{\"value\":0.1},\"line_color\":{\"value\":\"#1f77b4\"},\"x\":{\"field\":\"x\"},\"y\":{\"field\":\"y1\"}},\"id\":\"1354\",\"type\":\"Circle\"},{\"attributes\":{\"callback\":null,\"overlay\":{\"id\":\"1347\",\"type\":\"PolyAnnotation\"}},\"id\":\"1342\",\"type\":\"LassoSelectTool\"},{\"attributes\":{\"formatter\":{\"id\":\"1360\",\"type\":\"BasicTickFormatter\"},\"plot\":{\"id\":\"1287\",\"subtype\":\"Figure\",\"type\":\"Plot\"},\"ticker\":{\"id\":\"1302\",\"type\":\"BasicTicker\"}},\"id\":\"1301\",\"type\":\"LinearAxis\"},{\"attributes\":{\"active_drag\":\"auto\",\"active_inspect\":\"auto\",\"active_multi\":null,\"active_scroll\":\"auto\",\"active_tap\":\"auto\",\"tools\":[{\"id\":\"1341\",\"type\":\"BoxSelectTool\"},{\"id\":\"1342\",\"type\":\"LassoSelectTool\"},{\"id\":\"1343\",\"type\":\"HelpTool\"}]},\"id\":\"1346\",\"type\":\"Toolbar\"},{\"attributes\":{},\"id\":\"1302\",\"type\":\"BasicTicker\"},{\"attributes\":{\"plot\":null,\"text\":\"\"},\"id\":\"1358\",\"type\":\"Title\"},{\"attributes\":{\"dimension\":1,\"plot\":{\"id\":\"1287\",\"subtype\":\"Figure\",\"type\":\"Plot\"},\"ticker\":{\"id\":\"1302\",\"type\":\"BasicTicker\"}},\"id\":\"1305\",\"type\":\"Grid\"},{\"attributes\":{\"children\":[{\"id\":\"1287\",\"subtype\":\"Figure\",\"type\":\"Plot\"},{\"id\":\"1322\",\"subtype\":\"Figure\",\"type\":\"Plot\"}]},\"id\":\"1379\",\"type\":\"Row\"},{\"attributes\":{\"bottom_units\":\"screen\",\"fill_alpha\":{\"value\":0.5},\"fill_color\":{\"value\":\"lightgrey\"},\"left_units\":\"screen\",\"level\":\"overlay\",\"line_alpha\":{\"value\":1.0},\"line_color\":{\"value\":\"black\"},\"line_dash\":[4,4],\"line_width\":{\"value\":2},\"plot\":null,\"render_mode\":\"css\",\"right_units\":\"screen\",\"top_units\":\"screen\"},\"id\":\"1309\",\"type\":\"BoxAnnotation\"},{\"attributes\":{\"source\":{\"id\":\"1286\",\"type\":\"ColumnDataSource\"}},\"id\":\"1356\",\"type\":\"CDSView\"},{\"attributes\":{\"fill_alpha\":{\"value\":0.5},\"fill_color\":{\"value\":\"lightgrey\"},\"level\":\"overlay\",\"line_alpha\":{\"value\":1.0},\"line_color\":{\"value\":\"black\"},\"line_dash\":[4,4],\"line_width\":{\"value\":2},\"plot\":null,\"xs_units\":\"screen\",\"ys_units\":\"screen\"},\"id\":\"1347\",\"type\":\"PolyAnnotation\"},{\"attributes\":{},\"id\":\"1327\",\"type\":\"LinearScale\"},{\"attributes\":{\"data_source\":{\"id\":\"1286\",\"type\":\"ColumnDataSource\"},\"glyph\":{\"id\":\"1353\",\"type\":\"Circle\"},\"hover_glyph\":null,\"muted_glyph\":null,\"nonselection_glyph\":{\"id\":\"1354\",\"type\":\"Circle\"},\"selection_glyph\":null,\"view\":{\"id\":\"1356\",\"type\":\"CDSView\"}},\"id\":\"1355\",\"type\":\"GlyphRenderer\"},{\"attributes\":{\"below\":[{\"id\":\"1331\",\"type\":\"LinearAxis\"}],\"left\":[{\"id\":\"1336\",\"type\":\"LinearAxis\"}],\"plot_height\":300,\"plot_width\":300,\"renderers\":[{\"id\":\"1331\",\"type\":\"LinearAxis\"},{\"id\":\"1335\",\"type\":\"Grid\"},{\"id\":\"1336\",\"type\":\"LinearAxis\"},{\"id\":\"1340\",\"type\":\"Grid\"},{\"id\":\"1344\",\"type\":\"BoxAnnotation\"},{\"id\":\"1347\",\"type\":\"PolyAnnotation\"},{\"id\":\"1355\",\"type\":\"GlyphRenderer\"}],\"title\":{\"id\":\"1369\",\"type\":\"Title\"},\"toolbar\":{\"id\":\"1346\",\"type\":\"Toolbar\"},\"toolbar_location\":null,\"x_range\":{\"id\":\"1323\",\"type\":\"DataRange1d\"},\"x_scale\":{\"id\":\"1327\",\"type\":\"LinearScale\"},\"y_range\":{\"id\":\"1325\",\"type\":\"DataRange1d\"},\"y_scale\":{\"id\":\"1329\",\"type\":\"LinearScale\"}},\"id\":\"1322\",\"subtype\":\"Figure\",\"type\":\"Plot\"},{\"attributes\":{\"bottom_units\":\"screen\",\"fill_alpha\":{\"value\":0.5},\"fill_color\":{\"value\":\"lightgrey\"},\"left_units\":\"screen\",\"level\":\"overlay\",\"line_alpha\":{\"value\":1.0},\"line_color\":{\"value\":\"black\"},\"line_dash\":[4,4],\"line_width\":{\"value\":2},\"plot\":null,\"render_mode\":\"css\",\"right_units\":\"screen\",\"top_units\":\"screen\"},\"id\":\"1344\",\"type\":\"BoxAnnotation\"},{\"attributes\":{},\"id\":\"1308\",\"type\":\"HelpTool\"},{\"attributes\":{},\"id\":\"1329\",\"type\":\"LinearScale\"},{\"attributes\":{\"toolbar\":{\"id\":\"1381\",\"type\":\"ProxyToolbar\"},\"toolbar_location\":\"above\"},\"id\":\"1382\",\"type\":\"ToolbarBox\"},{\"attributes\":{\"callback\":null,\"overlay\":{\"id\":\"1312\",\"type\":\"PolyAnnotation\"}},\"id\":\"1307\",\"type\":\"LassoSelectTool\"},{\"attributes\":{\"callback\":null,\"overlay\":{\"id\":\"1344\",\"type\":\"BoxAnnotation\"}},\"id\":\"1341\",\"type\":\"BoxSelectTool\"},{\"attributes\":{\"callback\":null},\"id\":\"1288\",\"type\":\"DataRange1d\"},{\"attributes\":{\"callback\":null,\"overlay\":{\"id\":\"1309\",\"type\":\"BoxAnnotation\"}},\"id\":\"1306\",\"type\":\"BoxSelectTool\"},{\"attributes\":{\"tools\":[{\"id\":\"1306\",\"type\":\"BoxSelectTool\"},{\"id\":\"1307\",\"type\":\"LassoSelectTool\"},{\"id\":\"1308\",\"type\":\"HelpTool\"},{\"id\":\"1341\",\"type\":\"BoxSelectTool\"},{\"id\":\"1342\",\"type\":\"LassoSelectTool\"},{\"id\":\"1343\",\"type\":\"HelpTool\"}]},\"id\":\"1381\",\"type\":\"ProxyToolbar\"},{\"attributes\":{},\"id\":\"1343\",\"type\":\"HelpTool\"},{\"attributes\":{},\"id\":\"1332\",\"type\":\"BasicTicker\"},{\"attributes\":{\"fill_color\":{\"value\":\"#1f77b4\"},\"line_color\":{\"value\":\"#1f77b4\"},\"x\":{\"field\":\"x\"},\"y\":{\"field\":\"y0\"}},\"id\":\"1318\",\"type\":\"Circle\"},{\"attributes\":{},\"id\":\"1373\",\"type\":\"BasicTickFormatter\"},{\"attributes\":{\"fill_alpha\":{\"value\":0.5},\"fill_color\":{\"value\":\"lightgrey\"},\"level\":\"overlay\",\"line_alpha\":{\"value\":1.0},\"line_color\":{\"value\":\"black\"},\"line_dash\":[4,4],\"line_width\":{\"value\":2},\"plot\":null,\"xs_units\":\"screen\",\"ys_units\":\"screen\"},\"id\":\"1312\",\"type\":\"PolyAnnotation\"},{\"attributes\":{\"active_drag\":\"auto\",\"active_inspect\":\"auto\",\"active_multi\":null,\"active_scroll\":\"auto\",\"active_tap\":\"auto\",\"tools\":[{\"id\":\"1306\",\"type\":\"BoxSelectTool\"},{\"id\":\"1307\",\"type\":\"LassoSelectTool\"},{\"id\":\"1308\",\"type\":\"HelpTool\"}]},\"id\":\"1311\",\"type\":\"Toolbar\"},{\"attributes\":{\"plot\":null,\"text\":\"\"},\"id\":\"1369\",\"type\":\"Title\"},{\"attributes\":{\"callback\":null,\"data\":{\"x\":[-20,-19,-18,-17,-16,-15,-14,-13,-12,-11,-10,-9,-8,-7,-6,-5,-4,-3,-2,-1,0,1,2,3,4,5,6,7,8,9,10,11,12,13,14,15,16,17,18,19,20],\"y0\":[20,19,18,17,16,15,14,13,12,11,10,9,8,7,6,5,4,3,2,1,0,1,2,3,4,5,6,7,8,9,10,11,12,13,14,15,16,17,18,19,20],\"y1\":[400,361,324,289,256,225,196,169,144,121,100,81,64,49,36,25,16,9,4,1,0,1,4,9,16,25,36,49,64,81,100,121,144,169,196,225,256,289,324,361,400]},\"selected\":{\"id\":\"1366\",\"type\":\"Selection\"},\"selection_policy\":{\"id\":\"1365\",\"type\":\"UnionRenderers\"}},\"id\":\"1286\",\"type\":\"ColumnDataSource\"},{\"attributes\":{\"fill_color\":{\"value\":\"#1f77b4\"},\"line_color\":{\"value\":\"#1f77b4\"},\"x\":{\"field\":\"x\"},\"y\":{\"field\":\"y1\"}},\"id\":\"1353\",\"type\":\"Circle\"},{\"attributes\":{},\"id\":\"1371\",\"type\":\"BasicTickFormatter\"},{\"attributes\":{},\"id\":\"1292\",\"type\":\"LinearScale\"},{\"attributes\":{},\"id\":\"1366\",\"type\":\"Selection\"},{\"attributes\":{\"fill_alpha\":{\"value\":0.1},\"fill_color\":{\"value\":\"#1f77b4\"},\"line_alpha\":{\"value\":0.1},\"line_color\":{\"value\":\"#1f77b4\"},\"x\":{\"field\":\"x\"},\"y\":{\"field\":\"y0\"}},\"id\":\"1319\",\"type\":\"Circle\"},{\"attributes\":{\"below\":[{\"id\":\"1296\",\"type\":\"LinearAxis\"}],\"left\":[{\"id\":\"1301\",\"type\":\"LinearAxis\"}],\"plot_height\":300,\"plot_width\":300,\"renderers\":[{\"id\":\"1296\",\"type\":\"LinearAxis\"},{\"id\":\"1300\",\"type\":\"Grid\"},{\"id\":\"1301\",\"type\":\"LinearAxis\"},{\"id\":\"1305\",\"type\":\"Grid\"},{\"id\":\"1309\",\"type\":\"BoxAnnotation\"},{\"id\":\"1312\",\"type\":\"PolyAnnotation\"},{\"id\":\"1320\",\"type\":\"GlyphRenderer\"}],\"title\":{\"id\":\"1358\",\"type\":\"Title\"},\"toolbar\":{\"id\":\"1311\",\"type\":\"Toolbar\"},\"toolbar_location\":null,\"x_range\":{\"id\":\"1288\",\"type\":\"DataRange1d\"},\"x_scale\":{\"id\":\"1292\",\"type\":\"LinearScale\"},\"y_range\":{\"id\":\"1290\",\"type\":\"DataRange1d\"},\"y_scale\":{\"id\":\"1294\",\"type\":\"LinearScale\"}},\"id\":\"1287\",\"subtype\":\"Figure\",\"type\":\"Plot\"},{\"attributes\":{\"callback\":null},\"id\":\"1290\",\"type\":\"DataRange1d\"},{\"attributes\":{},\"id\":\"1365\",\"type\":\"UnionRenderers\"},{\"attributes\":{},\"id\":\"1294\",\"type\":\"LinearScale\"},{\"attributes\":{\"source\":{\"id\":\"1286\",\"type\":\"ColumnDataSource\"}},\"id\":\"1321\",\"type\":\"CDSView\"},{\"attributes\":{},\"id\":\"1337\",\"type\":\"BasicTicker\"},{\"attributes\":{\"formatter\":{\"id\":\"1371\",\"type\":\"BasicTickFormatter\"},\"plot\":{\"id\":\"1322\",\"subtype\":\"Figure\",\"type\":\"Plot\"},\"ticker\":{\"id\":\"1337\",\"type\":\"BasicTicker\"}},\"id\":\"1336\",\"type\":\"LinearAxis\"},{\"attributes\":{},\"id\":\"1362\",\"type\":\"BasicTickFormatter\"},{\"attributes\":{\"formatter\":{\"id\":\"1373\",\"type\":\"BasicTickFormatter\"},\"plot\":{\"id\":\"1322\",\"subtype\":\"Figure\",\"type\":\"Plot\"},\"ticker\":{\"id\":\"1332\",\"type\":\"BasicTicker\"}},\"id\":\"1331\",\"type\":\"LinearAxis\"},{\"attributes\":{},\"id\":\"1297\",\"type\":\"BasicTicker\"},{\"attributes\":{\"plot\":{\"id\":\"1322\",\"subtype\":\"Figure\",\"type\":\"Plot\"},\"ticker\":{\"id\":\"1332\",\"type\":\"BasicTicker\"}},\"id\":\"1335\",\"type\":\"Grid\"},{\"attributes\":{},\"id\":\"1360\",\"type\":\"BasicTickFormatter\"},{\"attributes\":{\"callback\":null},\"id\":\"1323\",\"type\":\"DataRange1d\"},{\"attributes\":{\"formatter\":{\"id\":\"1362\",\"type\":\"BasicTickFormatter\"},\"plot\":{\"id\":\"1287\",\"subtype\":\"Figure\",\"type\":\"Plot\"},\"ticker\":{\"id\":\"1297\",\"type\":\"BasicTicker\"}},\"id\":\"1296\",\"type\":\"LinearAxis\"},{\"attributes\":{\"children\":[{\"id\":\"1379\",\"type\":\"Row\"}]},\"id\":\"1380\",\"type\":\"Column\"},{\"attributes\":{\"callback\":null},\"id\":\"1325\",\"type\":\"DataRange1d\"},{\"attributes\":{\"data_source\":{\"id\":\"1286\",\"type\":\"ColumnDataSource\"},\"glyph\":{\"id\":\"1318\",\"type\":\"Circle\"},\"hover_glyph\":null,\"muted_glyph\":null,\"nonselection_glyph\":{\"id\":\"1319\",\"type\":\"Circle\"},\"selection_glyph\":null,\"view\":{\"id\":\"1321\",\"type\":\"CDSView\"}},\"id\":\"1320\",\"type\":\"GlyphRenderer\"},{\"attributes\":{\"dimension\":1,\"plot\":{\"id\":\"1322\",\"subtype\":\"Figure\",\"type\":\"Plot\"},\"ticker\":{\"id\":\"1337\",\"type\":\"BasicTicker\"}},\"id\":\"1340\",\"type\":\"Grid\"}],\"root_ids\":[\"1383\"]},\"title\":\"Bokeh Application\",\"version\":\"1.0.1\"}};\n",
       "  var render_items = [{\"docid\":\"4ccde517-86f8-4f15-97c6-f6917fb304b1\",\"roots\":{\"1383\":\"5a9f2eba-5dba-4405-8efa-ae05272a43ff\"}}];\n",
       "  root.Bokeh.embed.embed_items_notebook(docs_json, render_items);\n",
       "\n",
       "  }\n",
       "  if (root.Bokeh !== undefined) {\n",
       "    embed_document(root);\n",
       "  } else {\n",
       "    var attempts = 0;\n",
       "    var timer = setInterval(function(root) {\n",
       "      if (root.Bokeh !== undefined) {\n",
       "        embed_document(root);\n",
       "        clearInterval(timer);\n",
       "      }\n",
       "      attempts++;\n",
       "      if (attempts > 100) {\n",
       "        console.log(\"Bokeh: ERROR: Unable to run BokehJS code because BokehJS library is missing\");\n",
       "        clearInterval(timer);\n",
       "      }\n",
       "    }, 10, root)\n",
       "  }\n",
       "})(window);"
      ],
      "application/vnd.bokehjs_exec.v0+json": ""
     },
     "metadata": {
      "application/vnd.bokehjs_exec.v0+json": {
       "id": "1383"
      }
     },
     "output_type": "display_data"
    }
   ],
   "source": [
    "from bokeh.models import ColumnDataSource\n",
    "\n",
    "x = list(range(-20, 21))\n",
    "y0, y1 = [abs(xx) for xx in x], [xx**2 for xx in x]\n",
    "\n",
    "# create a column data source for the plots to share\n",
    "source = ColumnDataSource(data=dict(x=x, y0=y0, y1=y1))\n",
    "\n",
    "TOOLS = \"box_select,lasso_select,help\"\n",
    "\n",
    "# create a new plot and add a renderer\n",
    "left = figure(tools=TOOLS, width=300, height=300)\n",
    "left.circle('x', 'y0', source=source)\n",
    "\n",
    "# create another new plot and add a renderer\n",
    "right = figure(tools=TOOLS, width=300, height=300)\n",
    "right.circle('x', 'y1', source=source)\n",
    "\n",
    "p = gridplot([[left, right]])\n",
    "\n",
    "show(p)"
   ]
  },
  {
   "cell_type": "code",
   "execution_count": 5,
   "metadata": {
    "collapsed": true
   },
   "outputs": [],
   "source": [
    "# EXERCISE: create two plots in a gridplot, and link their data sources\n",
    "\n"
   ]
  },
  {
   "cell_type": "markdown",
   "metadata": {},
   "source": [
    "# Hover Tools\n",
    "\n",
    "Bokeh has a Hover Tool that allows additional information to be displayed in a popup whenever the user hovers over a specific glyph. Basic hover tool configuration amounts to providing a list of ``(name, format)`` tuples. The full details can be found in the User's Guide [here](http://bokeh.pydata.org/en/latest/docs/user_guide/tools.html#hovertool).\n",
    "\n",
    "The example below shows some basic usage of the Hover tool with a circle glyph, using hover information defined in utils.py:"
   ]
  },
  {
   "cell_type": "code",
   "execution_count": 5,
   "metadata": {},
   "outputs": [
    {
     "data": {
      "text/html": [
       "\n",
       "\n",
       "\n",
       "\n",
       "\n",
       "\n",
       "  <div class=\"bk-root\" id=\"348f2099-1cae-4090-88fc-6c58fd83996e\"></div>\n"
      ]
     },
     "metadata": {},
     "output_type": "display_data"
    },
    {
     "data": {
      "application/javascript": [
       "(function(root) {\n",
       "  function embed_document(root) {\n",
       "    \n",
       "  var docs_json = {\"474cc282-d9e1-4f4d-bb0c-7a8c8b11c8b9\":{\"roots\":{\"references\":[{\"attributes\":{\"below\":[{\"id\":\"1549\",\"type\":\"LinearAxis\"}],\"left\":[{\"id\":\"1554\",\"type\":\"LinearAxis\"}],\"plot_height\":300,\"plot_width\":300,\"renderers\":[{\"id\":\"1549\",\"type\":\"LinearAxis\"},{\"id\":\"1553\",\"type\":\"Grid\"},{\"id\":\"1554\",\"type\":\"LinearAxis\"},{\"id\":\"1558\",\"type\":\"Grid\"},{\"id\":\"1564\",\"type\":\"GlyphRenderer\"}],\"title\":{\"id\":\"1538\",\"type\":\"Title\"},\"toolbar\":{\"id\":\"1559\",\"type\":\"Toolbar\"},\"x_range\":{\"id\":\"1541\",\"type\":\"DataRange1d\"},\"x_scale\":{\"id\":\"1545\",\"type\":\"LinearScale\"},\"y_range\":{\"id\":\"1543\",\"type\":\"DataRange1d\"},\"y_scale\":{\"id\":\"1547\",\"type\":\"LinearScale\"}},\"id\":\"1539\",\"subtype\":\"Figure\",\"type\":\"Plot\"},{\"attributes\":{},\"id\":\"1613\",\"type\":\"UnionRenderers\"},{\"attributes\":{},\"id\":\"1614\",\"type\":\"Selection\"},{\"attributes\":{\"plot\":{\"id\":\"1539\",\"subtype\":\"Figure\",\"type\":\"Plot\"},\"ticker\":{\"id\":\"1550\",\"type\":\"BasicTicker\"}},\"id\":\"1553\",\"type\":\"Grid\"},{\"attributes\":{},\"id\":\"1550\",\"type\":\"BasicTicker\"},{\"attributes\":{\"formatter\":{\"id\":\"1610\",\"type\":\"BasicTickFormatter\"},\"plot\":{\"id\":\"1539\",\"subtype\":\"Figure\",\"type\":\"Plot\"},\"ticker\":{\"id\":\"1555\",\"type\":\"BasicTicker\"}},\"id\":\"1554\",\"type\":\"LinearAxis\"},{\"attributes\":{\"formatter\":{\"id\":\"1612\",\"type\":\"BasicTickFormatter\"},\"plot\":{\"id\":\"1539\",\"subtype\":\"Figure\",\"type\":\"Plot\"},\"ticker\":{\"id\":\"1550\",\"type\":\"BasicTicker\"}},\"id\":\"1549\",\"type\":\"LinearAxis\"},{\"attributes\":{\"fill_color\":{\"value\":\"#1f77b4\"},\"line_color\":{\"value\":\"#1f77b4\"},\"size\":{\"units\":\"screen\",\"value\":20},\"x\":{\"field\":\"x\"},\"y\":{\"field\":\"y\"}},\"id\":\"1562\",\"type\":\"Circle\"},{\"attributes\":{\"callback\":null,\"data\":{\"desc\":[\"A\",\"b\",\"C\",\"d\",\"E\"],\"x\":[1,2,3,4,5],\"y\":[2,5,8,2,7]},\"selected\":{\"id\":\"1614\",\"type\":\"Selection\"},\"selection_policy\":{\"id\":\"1613\",\"type\":\"UnionRenderers\"}},\"id\":\"1536\",\"type\":\"ColumnDataSource\"},{\"attributes\":{},\"id\":\"1612\",\"type\":\"BasicTickFormatter\"},{\"attributes\":{\"fill_alpha\":{\"value\":0.1},\"fill_color\":{\"value\":\"#1f77b4\"},\"line_alpha\":{\"value\":0.1},\"line_color\":{\"value\":\"#1f77b4\"},\"size\":{\"units\":\"screen\",\"value\":20},\"x\":{\"field\":\"x\"},\"y\":{\"field\":\"y\"}},\"id\":\"1563\",\"type\":\"Circle\"},{\"attributes\":{\"source\":{\"id\":\"1536\",\"type\":\"ColumnDataSource\"}},\"id\":\"1565\",\"type\":\"CDSView\"},{\"attributes\":{},\"id\":\"1545\",\"type\":\"LinearScale\"},{\"attributes\":{\"dimension\":1,\"plot\":{\"id\":\"1539\",\"subtype\":\"Figure\",\"type\":\"Plot\"},\"ticker\":{\"id\":\"1555\",\"type\":\"BasicTicker\"}},\"id\":\"1558\",\"type\":\"Grid\"},{\"attributes\":{\"callback\":null,\"renderers\":\"auto\",\"tooltips\":[[\"index\",\"$index\"],[\"(x,y)\",\"($x, $y)\"],[\"desc\",\"@desc\"]]},\"id\":\"1537\",\"type\":\"HoverTool\"},{\"attributes\":{\"callback\":null},\"id\":\"1543\",\"type\":\"DataRange1d\"},{\"attributes\":{\"plot\":null,\"text\":\"Mouse over the dots\"},\"id\":\"1538\",\"type\":\"Title\"},{\"attributes\":{},\"id\":\"1555\",\"type\":\"BasicTicker\"},{\"attributes\":{\"callback\":null},\"id\":\"1541\",\"type\":\"DataRange1d\"},{\"attributes\":{},\"id\":\"1610\",\"type\":\"BasicTickFormatter\"},{\"attributes\":{},\"id\":\"1547\",\"type\":\"LinearScale\"},{\"attributes\":{\"data_source\":{\"id\":\"1536\",\"type\":\"ColumnDataSource\"},\"glyph\":{\"id\":\"1562\",\"type\":\"Circle\"},\"hover_glyph\":null,\"muted_glyph\":null,\"nonselection_glyph\":{\"id\":\"1563\",\"type\":\"Circle\"},\"selection_glyph\":null,\"view\":{\"id\":\"1565\",\"type\":\"CDSView\"}},\"id\":\"1564\",\"type\":\"GlyphRenderer\"},{\"attributes\":{\"active_drag\":\"auto\",\"active_inspect\":\"auto\",\"active_multi\":null,\"active_scroll\":\"auto\",\"active_tap\":\"auto\",\"tools\":[{\"id\":\"1537\",\"type\":\"HoverTool\"}]},\"id\":\"1559\",\"type\":\"Toolbar\"}],\"root_ids\":[\"1539\"]},\"title\":\"Bokeh Application\",\"version\":\"1.0.1\"}};\n",
       "  var render_items = [{\"docid\":\"474cc282-d9e1-4f4d-bb0c-7a8c8b11c8b9\",\"roots\":{\"1539\":\"348f2099-1cae-4090-88fc-6c58fd83996e\"}}];\n",
       "  root.Bokeh.embed.embed_items_notebook(docs_json, render_items);\n",
       "\n",
       "  }\n",
       "  if (root.Bokeh !== undefined) {\n",
       "    embed_document(root);\n",
       "  } else {\n",
       "    var attempts = 0;\n",
       "    var timer = setInterval(function(root) {\n",
       "      if (root.Bokeh !== undefined) {\n",
       "        embed_document(root);\n",
       "        clearInterval(timer);\n",
       "      }\n",
       "      attempts++;\n",
       "      if (attempts > 100) {\n",
       "        console.log(\"Bokeh: ERROR: Unable to run BokehJS code because BokehJS library is missing\");\n",
       "        clearInterval(timer);\n",
       "      }\n",
       "    }, 10, root)\n",
       "  }\n",
       "})(window);"
      ],
      "application/vnd.bokehjs_exec.v0+json": ""
     },
     "metadata": {
      "application/vnd.bokehjs_exec.v0+json": {
       "id": "1539"
      }
     },
     "output_type": "display_data"
    }
   ],
   "source": [
    "from bokeh.models import HoverTool\n",
    "\n",
    "source = ColumnDataSource(\n",
    "        data=dict(\n",
    "            x=[1, 2, 3, 4, 5],\n",
    "            y=[2, 5, 8, 2, 7],\n",
    "            desc=['A', 'b', 'C', 'd', 'E'],\n",
    "        )\n",
    "    )\n",
    "\n",
    "hover = HoverTool(\n",
    "        tooltips=[\n",
    "            (\"index\", \"$index\"),\n",
    "            (\"(x,y)\", \"($x, $y)\"),\n",
    "            (\"desc\", \"@desc\"),\n",
    "        ]\n",
    "    )\n",
    "\n",
    "p = figure(plot_width=300, plot_height=300, tools=[hover], title=\"Mouse over the dots\")\n",
    "\n",
    "p.circle('x', 'y', size=20, source=source)\n",
    "\n",
    "show(p)"
   ]
  },
  {
   "cell_type": "markdown",
   "metadata": {},
   "source": [
    "# Widgets"
   ]
  },
  {
   "cell_type": "markdown",
   "metadata": {},
   "source": [
    "Bokeh supports direct integration with a small basic widget set. Thse can be used in conjunction with a Bokeh Server, or with ``CustomJS`` models to add more interactive capability to your documents. You can see a complete list, with example code in the [Adding Widgets](http://bokeh.pydata.org/en/latest/docs/user_guide/interaction.html#adding-widgets) section of the User's Guide. \n",
    "\n",
    "\n",
    "\n",
    "*NOTE: In this Tutorial chapter, we will focus on using widgets with JavaScript callbacks. The Tutorial chapter on Bokeh server applications covers using Bokeh widgets with real Python callbacks*\n",
    "\n",
    "\n",
    "\n",
    "\n",
    "To use the widgets, include them in a layout like you would a plot object:"
   ]
  },
  {
   "cell_type": "code",
   "execution_count": 6,
   "metadata": {},
   "outputs": [
    {
     "data": {
      "text/html": [
       "\n",
       "\n",
       "\n",
       "\n",
       "\n",
       "\n",
       "  <div class=\"bk-root\" id=\"3fd0576c-5ce0-44e1-9aab-60f9e16bc287\"></div>\n"
      ]
     },
     "metadata": {},
     "output_type": "display_data"
    },
    {
     "data": {
      "application/javascript": [
       "(function(root) {\n",
       "  function embed_document(root) {\n",
       "    \n",
       "  var docs_json = {\"36b37168-112e-4e7e-8fa1-438b213f6f8d\":{\"roots\":{\"references\":[{\"attributes\":{\"children\":[{\"id\":\"1657\",\"type\":\"Slider\"}]},\"id\":\"1658\",\"type\":\"WidgetBox\"},{\"attributes\":{\"callback\":null,\"end\":10,\"start\":0,\"step\":0.1,\"title\":\"foo\",\"value\":1},\"id\":\"1657\",\"type\":\"Slider\"}],\"root_ids\":[\"1658\"]},\"title\":\"Bokeh Application\",\"version\":\"1.0.1\"}};\n",
       "  var render_items = [{\"docid\":\"36b37168-112e-4e7e-8fa1-438b213f6f8d\",\"roots\":{\"1658\":\"3fd0576c-5ce0-44e1-9aab-60f9e16bc287\"}}];\n",
       "  root.Bokeh.embed.embed_items_notebook(docs_json, render_items);\n",
       "\n",
       "  }\n",
       "  if (root.Bokeh !== undefined) {\n",
       "    embed_document(root);\n",
       "  } else {\n",
       "    var attempts = 0;\n",
       "    var timer = setInterval(function(root) {\n",
       "      if (root.Bokeh !== undefined) {\n",
       "        embed_document(root);\n",
       "        clearInterval(timer);\n",
       "      }\n",
       "      attempts++;\n",
       "      if (attempts > 100) {\n",
       "        console.log(\"Bokeh: ERROR: Unable to run BokehJS code because BokehJS library is missing\");\n",
       "        clearInterval(timer);\n",
       "      }\n",
       "    }, 10, root)\n",
       "  }\n",
       "})(window);"
      ],
      "application/vnd.bokehjs_exec.v0+json": ""
     },
     "metadata": {
      "application/vnd.bokehjs_exec.v0+json": {
       "id": "1658"
      }
     },
     "output_type": "display_data"
    }
   ],
   "source": [
    "from bokeh.layouts import widgetbox\n",
    "from bokeh.models.widgets import Slider\n",
    "\n",
    "\n",
    "slider = Slider(start=0, end=10, value=1, step=.1, title=\"foo\")\n",
    "\n",
    "show(widgetbox(slider))"
   ]
  },
  {
   "cell_type": "code",
   "execution_count": 8,
   "metadata": {
    "collapsed": true
   },
   "outputs": [],
   "source": [
    "# EXERCISE: create and show a Select widget \n"
   ]
  },
  {
   "cell_type": "markdown",
   "metadata": {},
   "source": [
    "# CustomJS Callbacks\n",
    "\n",
    "In order for a widget to be useful, it needs to be able to perform some action. Using the Bokeh server, it is possible to have widgets trigger real Python code. That possibuility will be explored in the Bokeh server chapter of the turorial. Here, we look at how widgets can be configured with `CustomJS` callbacks that execute snippets of JavaScript code. "
   ]
  },
  {
   "cell_type": "code",
   "execution_count": 7,
   "metadata": {},
   "outputs": [
    {
     "data": {
      "text/html": [
       "\n",
       "\n",
       "\n",
       "\n",
       "\n",
       "\n",
       "  <div class=\"bk-root\" id=\"8027bef0-0f38-44d0-a148-44a1e15f53a7\"></div>\n"
      ]
     },
     "metadata": {},
     "output_type": "display_data"
    },
    {
     "data": {
      "application/javascript": [
       "(function(root) {\n",
       "  function embed_document(root) {\n",
       "    \n",
       "  var docs_json = {\"647e8445-1da3-41cf-a1dc-b26cff70a7a0\":{\"roots\":{\"references\":[{\"attributes\":{\"below\":[{\"id\":\"1719\",\"type\":\"LinearAxis\"}],\"left\":[{\"id\":\"1724\",\"type\":\"LinearAxis\"}],\"plot_height\":300,\"renderers\":[{\"id\":\"1719\",\"type\":\"LinearAxis\"},{\"id\":\"1723\",\"type\":\"Grid\"},{\"id\":\"1724\",\"type\":\"LinearAxis\"},{\"id\":\"1728\",\"type\":\"Grid\"},{\"id\":\"1734\",\"type\":\"GlyphRenderer\"}],\"title\":{\"id\":\"1786\",\"type\":\"Title\"},\"toolbar\":{\"id\":\"1729\",\"type\":\"Toolbar\"},\"x_range\":{\"id\":\"1711\",\"type\":\"DataRange1d\"},\"x_scale\":{\"id\":\"1715\",\"type\":\"LinearScale\"},\"y_range\":{\"id\":\"1713\",\"type\":\"DataRange1d\"},\"y_scale\":{\"id\":\"1717\",\"type\":\"LinearScale\"}},\"id\":\"1710\",\"subtype\":\"Figure\",\"type\":\"Plot\"},{\"attributes\":{},\"id\":\"1788\",\"type\":\"BasicTickFormatter\"},{\"attributes\":{},\"id\":\"1792\",\"type\":\"Selection\"},{\"attributes\":{},\"id\":\"1791\",\"type\":\"UnionRenderers\"},{\"attributes\":{},\"id\":\"1790\",\"type\":\"BasicTickFormatter\"},{\"attributes\":{\"data_source\":{\"id\":\"1731\",\"type\":\"ColumnDataSource\"},\"glyph\":{\"id\":\"1732\",\"type\":\"Circle\"},\"hover_glyph\":null,\"muted_glyph\":null,\"nonselection_glyph\":{\"id\":\"1733\",\"type\":\"Circle\"},\"selection_glyph\":null,\"view\":{\"id\":\"1735\",\"type\":\"CDSView\"}},\"id\":\"1734\",\"type\":\"GlyphRenderer\"},{\"attributes\":{\"code\":\"alert('you tapped a circle!')\"},\"id\":\"1708\",\"type\":\"CustomJS\"},{\"attributes\":{\"callback\":{\"id\":\"1708\",\"type\":\"CustomJS\"}},\"id\":\"1709\",\"type\":\"TapTool\"},{\"attributes\":{},\"id\":\"1717\",\"type\":\"LinearScale\"},{\"attributes\":{\"source\":{\"id\":\"1731\",\"type\":\"ColumnDataSource\"}},\"id\":\"1735\",\"type\":\"CDSView\"},{\"attributes\":{},\"id\":\"1720\",\"type\":\"BasicTicker\"},{\"attributes\":{\"plot\":null,\"text\":\"\"},\"id\":\"1786\",\"type\":\"Title\"},{\"attributes\":{},\"id\":\"1715\",\"type\":\"LinearScale\"},{\"attributes\":{\"callback\":null,\"data\":{\"x\":[1,2,3,4,5],\"y\":[2,5,8,2,7]},\"selected\":{\"id\":\"1792\",\"type\":\"Selection\"},\"selection_policy\":{\"id\":\"1791\",\"type\":\"UnionRenderers\"}},\"id\":\"1731\",\"type\":\"ColumnDataSource\"},{\"attributes\":{\"formatter\":{\"id\":\"1790\",\"type\":\"BasicTickFormatter\"},\"plot\":{\"id\":\"1710\",\"subtype\":\"Figure\",\"type\":\"Plot\"},\"ticker\":{\"id\":\"1720\",\"type\":\"BasicTicker\"}},\"id\":\"1719\",\"type\":\"LinearAxis\"},{\"attributes\":{\"fill_alpha\":{\"value\":0.1},\"fill_color\":{\"value\":\"#1f77b4\"},\"line_alpha\":{\"value\":0.1},\"line_color\":{\"value\":\"#1f77b4\"},\"size\":{\"units\":\"screen\",\"value\":20},\"x\":{\"field\":\"x\"},\"y\":{\"field\":\"y\"}},\"id\":\"1733\",\"type\":\"Circle\"},{\"attributes\":{\"fill_color\":{\"value\":\"#1f77b4\"},\"line_color\":{\"value\":\"#1f77b4\"},\"size\":{\"units\":\"screen\",\"value\":20},\"x\":{\"field\":\"x\"},\"y\":{\"field\":\"y\"}},\"id\":\"1732\",\"type\":\"Circle\"},{\"attributes\":{\"active_drag\":\"auto\",\"active_inspect\":\"auto\",\"active_multi\":null,\"active_scroll\":\"auto\",\"active_tap\":\"auto\",\"tools\":[{\"id\":\"1709\",\"type\":\"TapTool\"}]},\"id\":\"1729\",\"type\":\"Toolbar\"},{\"attributes\":{\"dimension\":1,\"plot\":{\"id\":\"1710\",\"subtype\":\"Figure\",\"type\":\"Plot\"},\"ticker\":{\"id\":\"1725\",\"type\":\"BasicTicker\"}},\"id\":\"1728\",\"type\":\"Grid\"},{\"attributes\":{\"callback\":null},\"id\":\"1713\",\"type\":\"DataRange1d\"},{\"attributes\":{},\"id\":\"1725\",\"type\":\"BasicTicker\"},{\"attributes\":{\"formatter\":{\"id\":\"1788\",\"type\":\"BasicTickFormatter\"},\"plot\":{\"id\":\"1710\",\"subtype\":\"Figure\",\"type\":\"Plot\"},\"ticker\":{\"id\":\"1725\",\"type\":\"BasicTicker\"}},\"id\":\"1724\",\"type\":\"LinearAxis\"},{\"attributes\":{\"plot\":{\"id\":\"1710\",\"subtype\":\"Figure\",\"type\":\"Plot\"},\"ticker\":{\"id\":\"1720\",\"type\":\"BasicTicker\"}},\"id\":\"1723\",\"type\":\"Grid\"},{\"attributes\":{\"callback\":null},\"id\":\"1711\",\"type\":\"DataRange1d\"}],\"root_ids\":[\"1710\"]},\"title\":\"Bokeh Application\",\"version\":\"1.0.1\"}};\n",
       "  var render_items = [{\"docid\":\"647e8445-1da3-41cf-a1dc-b26cff70a7a0\",\"roots\":{\"1710\":\"8027bef0-0f38-44d0-a148-44a1e15f53a7\"}}];\n",
       "  root.Bokeh.embed.embed_items_notebook(docs_json, render_items);\n",
       "\n",
       "  }\n",
       "  if (root.Bokeh !== undefined) {\n",
       "    embed_document(root);\n",
       "  } else {\n",
       "    var attempts = 0;\n",
       "    var timer = setInterval(function(root) {\n",
       "      if (root.Bokeh !== undefined) {\n",
       "        embed_document(root);\n",
       "        clearInterval(timer);\n",
       "      }\n",
       "      attempts++;\n",
       "      if (attempts > 100) {\n",
       "        console.log(\"Bokeh: ERROR: Unable to run BokehJS code because BokehJS library is missing\");\n",
       "        clearInterval(timer);\n",
       "      }\n",
       "    }, 10, root)\n",
       "  }\n",
       "})(window);"
      ],
      "application/vnd.bokehjs_exec.v0+json": ""
     },
     "metadata": {
      "application/vnd.bokehjs_exec.v0+json": {
       "id": "1710"
      }
     },
     "output_type": "display_data"
    }
   ],
   "source": [
    "from bokeh.models import TapTool, CustomJS, ColumnDataSource\n",
    "\n",
    "callback = CustomJS(code=\"alert('you tapped a circle!')\")\n",
    "tap = TapTool(callback=callback)\n",
    "\n",
    "p = figure(plot_width=600, plot_height=300, tools=[tap])\n",
    "\n",
    "p.circle(x=[1, 2, 3, 4, 5], y=[2, 5, 8, 2, 7], size=20)\n",
    "\n",
    "show(p)"
   ]
  },
  {
   "cell_type": "markdown",
   "metadata": {},
   "source": [
    "## CustomJS for Property changes\n",
    "\n",
    "Bokeh objects that have values associated can have small JavaScript actions attached to them using the `js_on_change` method. These actions (also referred to as \"callbacks\") are executed whenever the widget's value is changed. In order to make it easier to refer to specific Bokeh models (e.g., a data source, or a glyhph) from JavaScript, the ``CustomJS`` obejct also accepts a dictionary of \"args\" that map names to Python Bokeh models. The corresponding JavaScript models are made available automaticaly to the ``CustomJS`` code:\n",
    "\n",
    "```python\n",
    "CustomJS(args=dict(source=source, slider=slider), code=\"\"\"\n",
    "    // easily refer to BokehJS source and slider objects in this JS code\n",
    "    var data = source.data;\n",
    "    var f = slider.value;\n",
    "\"\"\")\n",
    "```"
   ]
  },
  {
   "cell_type": "markdown",
   "metadata": {},
   "source": [
    "### Slider widget example\n",
    "\n",
    "The example below shows an action attached to a slider that updates a data source whenever the slider is moved.  "
   ]
  },
  {
   "cell_type": "code",
   "execution_count": 8,
   "metadata": {},
   "outputs": [
    {
     "data": {
      "text/html": [
       "\n",
       "\n",
       "\n",
       "\n",
       "\n",
       "\n",
       "  <div class=\"bk-root\" id=\"fd6af3a3-18c7-403c-933c-cfb5f70767d8\"></div>\n"
      ]
     },
     "metadata": {},
     "output_type": "display_data"
    },
    {
     "data": {
      "application/javascript": [
       "(function(root) {\n",
       "  function embed_document(root) {\n",
       "    \n",
       "  var docs_json = {\"b174acad-e710-4fe1-9d57-47e01a297594\":{\"roots\":{\"references\":[{\"attributes\":{\"children\":[{\"id\":\"1883\",\"type\":\"WidgetBox\"},{\"id\":\"1842\",\"subtype\":\"Figure\",\"type\":\"Plot\"}]},\"id\":\"1884\",\"type\":\"Column\"},{\"attributes\":{},\"id\":\"1862\",\"type\":\"WheelZoomTool\"},{\"attributes\":{\"overlay\":{\"id\":\"1869\",\"type\":\"BoxAnnotation\"}},\"id\":\"1863\",\"type\":\"BoxZoomTool\"},{\"attributes\":{\"below\":[{\"id\":\"1851\",\"type\":\"LinearAxis\"}],\"left\":[{\"id\":\"1856\",\"type\":\"LinearAxis\"}],\"plot_height\":400,\"plot_width\":400,\"renderers\":[{\"id\":\"1851\",\"type\":\"LinearAxis\"},{\"id\":\"1855\",\"type\":\"Grid\"},{\"id\":\"1856\",\"type\":\"LinearAxis\"},{\"id\":\"1860\",\"type\":\"Grid\"},{\"id\":\"1869\",\"type\":\"BoxAnnotation\"},{\"id\":\"1879\",\"type\":\"GlyphRenderer\"}],\"title\":{\"id\":\"1943\",\"type\":\"Title\"},\"toolbar\":{\"id\":\"1867\",\"type\":\"Toolbar\"},\"x_range\":{\"id\":\"1843\",\"type\":\"DataRange1d\"},\"x_scale\":{\"id\":\"1847\",\"type\":\"LinearScale\"},\"y_range\":{\"id\":\"1845\",\"type\":\"DataRange1d\"},\"y_scale\":{\"id\":\"1849\",\"type\":\"LinearScale\"}},\"id\":\"1842\",\"subtype\":\"Figure\",\"type\":\"Plot\"},{\"attributes\":{},\"id\":\"1864\",\"type\":\"SaveTool\"},{\"attributes\":{},\"id\":\"1865\",\"type\":\"ResetTool\"},{\"attributes\":{\"callback\":null,\"data\":{\"x\":[0.0,0.005,0.01,0.015,0.02,0.025,0.03,0.035,0.04,0.045,0.05,0.055,0.06,0.065,0.07,0.075,0.08,0.085,0.09,0.095,0.1,0.105,0.11,0.115,0.12,0.125,0.13,0.135,0.14,0.145,0.15,0.155,0.16,0.165,0.17,0.17500000000000002,0.18,0.185,0.19,0.195,0.2,0.20500000000000002,0.21,0.215,0.22,0.225,0.23,0.23500000000000001,0.24,0.245,0.25,0.255,0.26,0.265,0.27,0.275,0.28,0.28500000000000003,0.29,0.295,0.3,0.305,0.31,0.315,0.32,0.325,0.33,0.335,0.34,0.34500000000000003,0.35000000000000003,0.355,0.36,0.365,0.37,0.375,0.38,0.385,0.39,0.395,0.4,0.405,0.41000000000000003,0.41500000000000004,0.42,0.425,0.43,0.435,0.44,0.445,0.45,0.455,0.46,0.465,0.47000000000000003,0.47500000000000003,0.48,0.485,0.49,0.495,0.5,0.505,0.51,0.515,0.52,0.525,0.53,0.535,0.54,0.545,0.55,0.555,0.56,0.5650000000000001,0.5700000000000001,0.5750000000000001,0.58,0.585,0.59,0.595,0.6,0.605,0.61,0.615,0.62,0.625,0.63,0.635,0.64,0.645,0.65,0.655,0.66,0.665,0.67,0.675,0.68,0.685,0.6900000000000001,0.6950000000000001,0.7000000000000001,0.705,0.71,0.715,0.72,0.725,0.73,0.735,0.74,0.745,0.75,0.755,0.76,0.765,0.77,0.775,0.78,0.785,0.79,0.795,0.8,0.805,0.81,0.8150000000000001,0.8200000000000001,0.8250000000000001,0.8300000000000001,0.835,0.84,0.845,0.85,0.855,0.86,0.865,0.87,0.875,0.88,0.885,0.89,0.895,0.9,0.905,0.91,0.915,0.92,0.925,0.93,0.935,0.9400000000000001,0.9450000000000001,0.9500000000000001,0.9550000000000001,0.96,0.965,0.97,0.975,0.98,0.985,0.99,0.995,1.0],\"y\":[0.0,0.005,0.01,0.015,0.02,0.025,0.03,0.035,0.04,0.045,0.05,0.055,0.06,0.065,0.07,0.075,0.08,0.085,0.09,0.095,0.1,0.105,0.11,0.115,0.12,0.125,0.13,0.135,0.14,0.145,0.15,0.155,0.16,0.165,0.17,0.17500000000000002,0.18,0.185,0.19,0.195,0.2,0.20500000000000002,0.21,0.215,0.22,0.225,0.23,0.23500000000000001,0.24,0.245,0.25,0.255,0.26,0.265,0.27,0.275,0.28,0.28500000000000003,0.29,0.295,0.3,0.305,0.31,0.315,0.32,0.325,0.33,0.335,0.34,0.34500000000000003,0.35000000000000003,0.355,0.36,0.365,0.37,0.375,0.38,0.385,0.39,0.395,0.4,0.405,0.41000000000000003,0.41500000000000004,0.42,0.425,0.43,0.435,0.44,0.445,0.45,0.455,0.46,0.465,0.47000000000000003,0.47500000000000003,0.48,0.485,0.49,0.495,0.5,0.505,0.51,0.515,0.52,0.525,0.53,0.535,0.54,0.545,0.55,0.555,0.56,0.5650000000000001,0.5700000000000001,0.5750000000000001,0.58,0.585,0.59,0.595,0.6,0.605,0.61,0.615,0.62,0.625,0.63,0.635,0.64,0.645,0.65,0.655,0.66,0.665,0.67,0.675,0.68,0.685,0.6900000000000001,0.6950000000000001,0.7000000000000001,0.705,0.71,0.715,0.72,0.725,0.73,0.735,0.74,0.745,0.75,0.755,0.76,0.765,0.77,0.775,0.78,0.785,0.79,0.795,0.8,0.805,0.81,0.8150000000000001,0.8200000000000001,0.8250000000000001,0.8300000000000001,0.835,0.84,0.845,0.85,0.855,0.86,0.865,0.87,0.875,0.88,0.885,0.89,0.895,0.9,0.905,0.91,0.915,0.92,0.925,0.93,0.935,0.9400000000000001,0.9450000000000001,0.9500000000000001,0.9550000000000001,0.96,0.965,0.97,0.975,0.98,0.985,0.99,0.995,1.0]},\"selected\":{\"id\":\"1950\",\"type\":\"Selection\"},\"selection_policy\":{\"id\":\"1949\",\"type\":\"UnionRenderers\"}},\"id\":\"1841\",\"type\":\"ColumnDataSource\"},{\"attributes\":{},\"id\":\"1866\",\"type\":\"HelpTool\"},{\"attributes\":{\"callback\":null},\"id\":\"1843\",\"type\":\"DataRange1d\"},{\"attributes\":{\"data_source\":{\"id\":\"1841\",\"type\":\"ColumnDataSource\"},\"glyph\":{\"id\":\"1877\",\"type\":\"Line\"},\"hover_glyph\":null,\"muted_glyph\":null,\"nonselection_glyph\":{\"id\":\"1878\",\"type\":\"Line\"},\"selection_glyph\":null,\"view\":{\"id\":\"1880\",\"type\":\"CDSView\"}},\"id\":\"1879\",\"type\":\"GlyphRenderer\"},{\"attributes\":{\"callback\":null},\"id\":\"1845\",\"type\":\"DataRange1d\"},{\"attributes\":{\"bottom_units\":\"screen\",\"fill_alpha\":{\"value\":0.5},\"fill_color\":{\"value\":\"lightgrey\"},\"left_units\":\"screen\",\"level\":\"overlay\",\"line_alpha\":{\"value\":1.0},\"line_color\":{\"value\":\"black\"},\"line_dash\":[4,4],\"line_width\":{\"value\":2},\"plot\":null,\"render_mode\":\"css\",\"right_units\":\"screen\",\"top_units\":\"screen\"},\"id\":\"1869\",\"type\":\"BoxAnnotation\"},{\"attributes\":{},\"id\":\"1847\",\"type\":\"LinearScale\"},{\"attributes\":{\"plot\":null,\"text\":\"\"},\"id\":\"1943\",\"type\":\"Title\"},{\"attributes\":{},\"id\":\"1849\",\"type\":\"LinearScale\"},{\"attributes\":{\"source\":{\"id\":\"1841\",\"type\":\"ColumnDataSource\"}},\"id\":\"1880\",\"type\":\"CDSView\"},{\"attributes\":{\"formatter\":{\"id\":\"1947\",\"type\":\"BasicTickFormatter\"},\"plot\":{\"id\":\"1842\",\"subtype\":\"Figure\",\"type\":\"Plot\"},\"ticker\":{\"id\":\"1852\",\"type\":\"BasicTicker\"}},\"id\":\"1851\",\"type\":\"LinearAxis\"},{\"attributes\":{},\"id\":\"1852\",\"type\":\"BasicTicker\"},{\"attributes\":{\"args\":{\"slider\":{\"id\":\"1881\",\"type\":\"Slider\"},\"source\":{\"id\":\"1841\",\"type\":\"ColumnDataSource\"}},\"code\":\"\\n    var data = source.data;\\n    var f = slider.value;\\n    x = data['x']\\n    y = data['y']\\n    for (i = 0; i < x.length; i++) {\\n        y[i] = Math.pow(x[i], f)\\n    }\\n    \\n    // necessary becasue we mutated source.data in-place\\n    source.change.emit();\\n\"},\"id\":\"1882\",\"type\":\"CustomJS\"},{\"attributes\":{\"plot\":{\"id\":\"1842\",\"subtype\":\"Figure\",\"type\":\"Plot\"},\"ticker\":{\"id\":\"1852\",\"type\":\"BasicTicker\"}},\"id\":\"1855\",\"type\":\"Grid\"},{\"attributes\":{\"children\":[{\"id\":\"1881\",\"type\":\"Slider\"}]},\"id\":\"1883\",\"type\":\"WidgetBox\"},{\"attributes\":{\"formatter\":{\"id\":\"1945\",\"type\":\"BasicTickFormatter\"},\"plot\":{\"id\":\"1842\",\"subtype\":\"Figure\",\"type\":\"Plot\"},\"ticker\":{\"id\":\"1857\",\"type\":\"BasicTicker\"}},\"id\":\"1856\",\"type\":\"LinearAxis\"},{\"attributes\":{},\"id\":\"1857\",\"type\":\"BasicTicker\"},{\"attributes\":{\"dimension\":1,\"plot\":{\"id\":\"1842\",\"subtype\":\"Figure\",\"type\":\"Plot\"},\"ticker\":{\"id\":\"1857\",\"type\":\"BasicTicker\"}},\"id\":\"1860\",\"type\":\"Grid\"},{\"attributes\":{},\"id\":\"1945\",\"type\":\"BasicTickFormatter\"},{\"attributes\":{\"line_alpha\":0.1,\"line_color\":\"#1f77b4\",\"line_width\":3,\"x\":{\"field\":\"x\"},\"y\":{\"field\":\"y\"}},\"id\":\"1878\",\"type\":\"Line\"},{\"attributes\":{},\"id\":\"1947\",\"type\":\"BasicTickFormatter\"},{\"attributes\":{\"line_alpha\":0.6,\"line_color\":\"#1f77b4\",\"line_width\":3,\"x\":{\"field\":\"x\"},\"y\":{\"field\":\"y\"}},\"id\":\"1877\",\"type\":\"Line\"},{\"attributes\":{},\"id\":\"1949\",\"type\":\"UnionRenderers\"},{\"attributes\":{\"callback\":null,\"end\":6,\"js_property_callbacks\":{\"change:value\":[{\"id\":\"1882\",\"type\":\"CustomJS\"}]},\"start\":0.1,\"step\":0.1,\"title\":\"power\",\"value\":1},\"id\":\"1881\",\"type\":\"Slider\"},{\"attributes\":{\"active_drag\":\"auto\",\"active_inspect\":\"auto\",\"active_multi\":null,\"active_scroll\":\"auto\",\"active_tap\":\"auto\",\"tools\":[{\"id\":\"1861\",\"type\":\"PanTool\"},{\"id\":\"1862\",\"type\":\"WheelZoomTool\"},{\"id\":\"1863\",\"type\":\"BoxZoomTool\"},{\"id\":\"1864\",\"type\":\"SaveTool\"},{\"id\":\"1865\",\"type\":\"ResetTool\"},{\"id\":\"1866\",\"type\":\"HelpTool\"}]},\"id\":\"1867\",\"type\":\"Toolbar\"},{\"attributes\":{},\"id\":\"1950\",\"type\":\"Selection\"},{\"attributes\":{},\"id\":\"1861\",\"type\":\"PanTool\"}],\"root_ids\":[\"1884\"]},\"title\":\"Bokeh Application\",\"version\":\"1.0.1\"}};\n",
       "  var render_items = [{\"docid\":\"b174acad-e710-4fe1-9d57-47e01a297594\",\"roots\":{\"1884\":\"fd6af3a3-18c7-403c-933c-cfb5f70767d8\"}}];\n",
       "  root.Bokeh.embed.embed_items_notebook(docs_json, render_items);\n",
       "\n",
       "  }\n",
       "  if (root.Bokeh !== undefined) {\n",
       "    embed_document(root);\n",
       "  } else {\n",
       "    var attempts = 0;\n",
       "    var timer = setInterval(function(root) {\n",
       "      if (root.Bokeh !== undefined) {\n",
       "        embed_document(root);\n",
       "        clearInterval(timer);\n",
       "      }\n",
       "      attempts++;\n",
       "      if (attempts > 100) {\n",
       "        console.log(\"Bokeh: ERROR: Unable to run BokehJS code because BokehJS library is missing\");\n",
       "        clearInterval(timer);\n",
       "      }\n",
       "    }, 10, root)\n",
       "  }\n",
       "})(window);"
      ],
      "application/vnd.bokehjs_exec.v0+json": ""
     },
     "metadata": {
      "application/vnd.bokehjs_exec.v0+json": {
       "id": "1884"
      }
     },
     "output_type": "display_data"
    }
   ],
   "source": [
    "from bokeh.layouts import column\n",
    "from bokeh.models import CustomJS, ColumnDataSource, Slider\n",
    "\n",
    "x = [x*0.005 for x in range(0, 201)]\n",
    "\n",
    "source = ColumnDataSource(data=dict(x=x, y=x))\n",
    "\n",
    "plot = figure(plot_width=400, plot_height=400)\n",
    "plot.line('x', 'y', source=source, line_width=3, line_alpha=0.6)\n",
    "\n",
    "slider = Slider(start=0.1, end=6, value=1, step=.1, title=\"power\")\n",
    "\n",
    "update_curve = CustomJS(args=dict(source=source, slider=slider), code=\"\"\"\n",
    "    var data = source.data;\n",
    "    var f = slider.value;\n",
    "    x = data['x']\n",
    "    y = data['y']\n",
    "    for (i = 0; i < x.length; i++) {\n",
    "        y[i] = Math.pow(x[i], f)\n",
    "    }\n",
    "    \n",
    "    // necessary becasue we mutated source.data in-place\n",
    "    source.change.emit();\n",
    "\"\"\")\n",
    "slider.js_on_change('value', update_curve)\n",
    "\n",
    "\n",
    "show(column(slider, plot))"
   ]
  },
  {
   "cell_type": "code",
   "execution_count": 11,
   "metadata": {
    "collapsed": true
   },
   "outputs": [],
   "source": [
    "# Exercise: Create a plot that updates based on a Select widget\n",
    "\n"
   ]
  },
  {
   "cell_type": "markdown",
   "metadata": {},
   "source": [
    "### Data selection example\n",
    "\n",
    "It's also possible to make JavaScript actions that execute whenever a user selection (e.g., box, point, lasso) changes. This is done by attaching the same kind of CustomJS object to whatever data source the selection is made on.\n",
    "\n",
    "The example below is a bit more sophisticated, and demonstrates updating one glyph's data source in response to another glyph's selection: "
   ]
  },
  {
   "cell_type": "code",
   "execution_count": 9,
   "metadata": {},
   "outputs": [
    {
     "data": {
      "text/html": [
       "\n",
       "\n",
       "\n",
       "\n",
       "\n",
       "\n",
       "  <div class=\"bk-root\" id=\"745ab6a7-7696-4bfe-a82e-e7f71cd55ba4\"></div>\n"
      ]
     },
     "metadata": {},
     "output_type": "display_data"
    },
    {
     "data": {
      "application/javascript": [
       "(function(root) {\n",
       "  function embed_document(root) {\n",
       "    \n",
       "  var docs_json = {\"24452af8-67b6-4234-a5c1-1f2ae554ba13\":{\"roots\":{\"references\":[{\"attributes\":{\"below\":[{\"id\":\"2017\",\"type\":\"LinearAxis\"}],\"left\":[{\"id\":\"2022\",\"type\":\"LinearAxis\"}],\"plot_height\":400,\"plot_width\":400,\"renderers\":[{\"id\":\"2017\",\"type\":\"LinearAxis\"},{\"id\":\"2021\",\"type\":\"Grid\"},{\"id\":\"2022\",\"type\":\"LinearAxis\"},{\"id\":\"2026\",\"type\":\"Grid\"},{\"id\":\"2028\",\"type\":\"PolyAnnotation\"},{\"id\":\"2036\",\"type\":\"GlyphRenderer\"},{\"id\":\"2042\",\"type\":\"GlyphRenderer\"}],\"title\":{\"id\":\"2006\",\"type\":\"Title\"},\"toolbar\":{\"id\":\"2030\",\"type\":\"Toolbar\"},\"x_range\":{\"id\":\"2009\",\"type\":\"DataRange1d\"},\"x_scale\":{\"id\":\"2013\",\"type\":\"LinearScale\"},\"y_range\":{\"id\":\"2011\",\"type\":\"DataRange1d\"},\"y_scale\":{\"id\":\"2015\",\"type\":\"LinearScale\"}},\"id\":\"2007\",\"subtype\":\"Figure\",\"type\":\"Plot\"},{\"attributes\":{\"fill_alpha\":{\"value\":0.5},\"fill_color\":{\"value\":\"lightgrey\"},\"level\":\"overlay\",\"line_alpha\":{\"value\":1.0},\"line_color\":{\"value\":\"black\"},\"line_dash\":[4,4],\"line_width\":{\"value\":2},\"plot\":null,\"xs_units\":\"screen\",\"ys_units\":\"screen\"},\"id\":\"2028\",\"type\":\"PolyAnnotation\"},{\"attributes\":{\"plot\":null,\"text\":\"Select Here\"},\"id\":\"2006\",\"type\":\"Title\"},{\"attributes\":{\"callback\":null,\"data\":{\"xm\":[0,1],\"ym\":[0.5,0.5]},\"selected\":{\"id\":\"2120\",\"type\":\"Selection\"},\"selection_policy\":{\"id\":\"2119\",\"type\":\"UnionRenderers\"}},\"id\":\"2038\",\"type\":\"ColumnDataSource\"},{\"attributes\":{\"active_drag\":\"auto\",\"active_inspect\":\"auto\",\"active_multi\":null,\"active_scroll\":\"auto\",\"active_tap\":\"auto\",\"tools\":[{\"id\":\"2027\",\"type\":\"LassoSelectTool\"}]},\"id\":\"2030\",\"type\":\"Toolbar\"},{\"attributes\":{\"source\":{\"id\":\"2038\",\"type\":\"ColumnDataSource\"}},\"id\":\"2043\",\"type\":\"CDSView\"},{\"attributes\":{\"fill_alpha\":{\"value\":0.1},\"fill_color\":{\"value\":\"#1f77b4\"},\"line_alpha\":{\"value\":0.1},\"line_color\":{\"value\":\"#1f77b4\"},\"size\":{\"units\":\"screen\",\"value\":8},\"x\":{\"field\":\"x\"},\"y\":{\"field\":\"y\"}},\"id\":\"2034\",\"type\":\"Circle\"},{\"attributes\":{\"args\":{\"s1\":{\"id\":\"2005\",\"type\":\"ColumnDataSource\"},\"s2\":{\"id\":\"2038\",\"type\":\"ColumnDataSource\"}},\"code\":\"\\n    var inds = s1.selected.indices;\\n    if (inds.length == 0)\\n        return;\\n\\n    var ym = 0\\n    for (var i = 0; i < inds.length; i++) {\\n        ym += s1.data.y[inds[i]]\\n    }\\n    \\n    ym /= inds.length\\n    s2.data.ym = [ym, ym]\\n\\n    // necessary becasue we mutated source.data in-place\\n    s2.change.emit();  \\n\"},\"id\":\"2044\",\"type\":\"CustomJS\"},{\"attributes\":{\"fill_alpha\":{\"value\":0.4},\"fill_color\":{\"value\":\"firebrick\"},\"line_alpha\":{\"value\":0.4},\"line_color\":{\"value\":\"firebrick\"},\"size\":{\"units\":\"screen\",\"value\":8},\"x\":{\"field\":\"x\"},\"y\":{\"field\":\"y\"}},\"id\":\"2035\",\"type\":\"Circle\"},{\"attributes\":{\"callback\":{\"id\":\"2044\",\"type\":\"CustomJS\"},\"data\":{\"color\":[\"navy\",\"navy\",\"navy\",\"navy\",\"navy\",\"navy\",\"navy\",\"navy\",\"navy\",\"navy\",\"navy\",\"navy\",\"navy\",\"navy\",\"navy\",\"navy\",\"navy\",\"navy\",\"navy\",\"navy\",\"navy\",\"navy\",\"navy\",\"navy\",\"navy\",\"navy\",\"navy\",\"navy\",\"navy\",\"navy\",\"navy\",\"navy\",\"navy\",\"navy\",\"navy\",\"navy\",\"navy\",\"navy\",\"navy\",\"navy\",\"navy\",\"navy\",\"navy\",\"navy\",\"navy\",\"navy\",\"navy\",\"navy\",\"navy\",\"navy\",\"navy\",\"navy\",\"navy\",\"navy\",\"navy\",\"navy\",\"navy\",\"navy\",\"navy\",\"navy\",\"navy\",\"navy\",\"navy\",\"navy\",\"navy\",\"navy\",\"navy\",\"navy\",\"navy\",\"navy\",\"navy\",\"navy\",\"navy\",\"navy\",\"navy\",\"navy\",\"navy\",\"navy\",\"navy\",\"navy\",\"navy\",\"navy\",\"navy\",\"navy\",\"navy\",\"navy\",\"navy\",\"navy\",\"navy\",\"navy\",\"navy\",\"navy\",\"navy\",\"navy\",\"navy\",\"navy\",\"navy\",\"navy\",\"navy\",\"navy\",\"navy\",\"navy\",\"navy\",\"navy\",\"navy\",\"navy\",\"navy\",\"navy\",\"navy\",\"navy\",\"navy\",\"navy\",\"navy\",\"navy\",\"navy\",\"navy\",\"navy\",\"navy\",\"navy\",\"navy\",\"navy\",\"navy\",\"navy\",\"navy\",\"navy\",\"navy\",\"navy\",\"navy\",\"navy\",\"navy\",\"navy\",\"navy\",\"navy\",\"navy\",\"navy\",\"navy\",\"navy\",\"navy\",\"navy\",\"navy\",\"navy\",\"navy\",\"navy\",\"navy\",\"navy\",\"navy\",\"navy\",\"navy\",\"navy\",\"navy\",\"navy\",\"navy\",\"navy\",\"navy\",\"navy\",\"navy\",\"navy\",\"navy\",\"navy\",\"navy\",\"navy\",\"navy\",\"navy\",\"navy\",\"navy\",\"navy\",\"navy\",\"navy\",\"navy\",\"navy\",\"navy\",\"navy\",\"navy\",\"navy\",\"navy\",\"navy\",\"navy\",\"navy\",\"navy\",\"navy\",\"navy\",\"navy\",\"navy\",\"navy\",\"navy\",\"navy\",\"navy\",\"navy\",\"navy\",\"navy\",\"navy\",\"navy\",\"navy\",\"navy\",\"navy\",\"navy\",\"navy\",\"navy\",\"navy\",\"navy\",\"navy\",\"navy\",\"navy\",\"navy\",\"navy\",\"navy\",\"navy\",\"navy\",\"navy\",\"navy\",\"navy\",\"navy\",\"navy\",\"navy\",\"navy\",\"navy\",\"navy\",\"navy\",\"navy\",\"navy\",\"navy\",\"navy\",\"navy\",\"navy\",\"navy\",\"navy\",\"navy\",\"navy\",\"navy\",\"navy\",\"navy\",\"navy\",\"navy\",\"navy\",\"navy\",\"navy\",\"navy\",\"navy\",\"navy\",\"navy\",\"navy\",\"navy\",\"navy\",\"navy\",\"navy\",\"navy\",\"navy\",\"navy\",\"navy\",\"navy\",\"navy\",\"navy\",\"navy\",\"navy\",\"navy\",\"navy\",\"navy\",\"navy\",\"navy\",\"navy\",\"navy\",\"navy\",\"navy\",\"navy\",\"navy\",\"navy\",\"navy\",\"navy\",\"navy\",\"navy\",\"navy\",\"navy\",\"navy\",\"navy\",\"navy\",\"navy\",\"navy\",\"navy\",\"navy\",\"navy\",\"navy\",\"navy\",\"navy\",\"navy\",\"navy\",\"navy\",\"navy\",\"navy\",\"navy\",\"navy\",\"navy\",\"navy\",\"navy\",\"navy\",\"navy\",\"navy\",\"navy\",\"navy\",\"navy\",\"navy\",\"navy\",\"navy\",\"navy\",\"navy\",\"navy\",\"navy\",\"navy\",\"navy\",\"navy\",\"navy\",\"navy\",\"navy\",\"navy\",\"navy\",\"navy\",\"navy\",\"navy\",\"navy\",\"navy\",\"navy\",\"navy\",\"navy\",\"navy\",\"navy\",\"navy\",\"navy\",\"navy\",\"navy\",\"navy\",\"navy\",\"navy\",\"navy\",\"navy\",\"navy\",\"navy\",\"navy\",\"navy\",\"navy\",\"navy\",\"navy\",\"navy\",\"navy\",\"navy\",\"navy\",\"navy\",\"navy\",\"navy\",\"navy\",\"navy\",\"navy\",\"navy\",\"navy\",\"navy\",\"navy\",\"navy\",\"navy\",\"navy\",\"navy\",\"navy\",\"navy\",\"navy\",\"navy\",\"navy\",\"navy\",\"navy\",\"navy\",\"navy\",\"navy\",\"navy\",\"navy\",\"navy\",\"navy\",\"navy\",\"navy\",\"navy\",\"navy\",\"navy\",\"navy\",\"navy\",\"navy\",\"navy\",\"navy\",\"navy\",\"navy\",\"navy\",\"navy\",\"navy\",\"navy\",\"navy\",\"navy\",\"navy\",\"navy\",\"navy\",\"navy\",\"navy\",\"navy\",\"navy\",\"navy\",\"navy\",\"navy\",\"navy\",\"navy\",\"navy\",\"navy\",\"navy\",\"navy\",\"navy\",\"navy\",\"navy\",\"navy\",\"navy\",\"navy\",\"navy\",\"navy\",\"navy\",\"navy\",\"navy\",\"navy\",\"navy\",\"navy\",\"navy\",\"navy\",\"navy\",\"navy\",\"navy\",\"navy\",\"navy\",\"navy\",\"navy\",\"navy\",\"navy\",\"navy\",\"navy\",\"navy\",\"navy\",\"navy\",\"navy\",\"navy\",\"navy\",\"navy\",\"navy\",\"navy\",\"navy\",\"navy\",\"navy\",\"navy\",\"navy\",\"navy\",\"navy\",\"navy\",\"navy\",\"navy\",\"navy\",\"navy\",\"navy\",\"navy\",\"navy\",\"navy\",\"navy\",\"navy\",\"navy\",\"navy\",\"navy\",\"navy\",\"navy\",\"navy\",\"navy\",\"navy\",\"navy\",\"navy\",\"navy\",\"navy\",\"navy\",\"navy\",\"navy\",\"navy\",\"navy\",\"navy\",\"navy\",\"navy\",\"navy\",\"navy\",\"navy\",\"navy\",\"navy\",\"navy\",\"navy\",\"navy\",\"navy\",\"navy\",\"navy\",\"navy\",\"navy\",\"navy\",\"navy\",\"navy\",\"navy\",\"navy\",\"navy\",\"navy\"],\"x\":[0.07245824717100857,0.4617406604366262,0.034164512326836705,0.9092124834938872,0.24280314919094548,0.573584568459181,0.9545628600590943,0.7373234843509694,0.015125456509579527,0.7116212355864077,0.7613697467133448,0.5493038472465875,0.17496092270376995,0.23530569618920272,0.35192894859424584,0.39160624770648744,0.040923584249783485,0.2514162865137637,0.922773201916141,0.9816777936731058,0.6861995986517865,0.46301641209011224,0.10486458900065754,0.40382113726252666,0.6012690787877576,0.017126837125160388,0.5781522187316243,0.605008103630386,0.9538782896485498,0.8709487680701109,0.4041335690124467,0.9234910583517406,0.5327064373215514,0.23465192412292757,0.8912631745492627,0.7247014058780458,0.04710966052938648,0.7192347350899999,0.7267485816806759,0.46585654959923717,0.9779623430609561,0.4793902339913846,0.3277268356017614,0.15491644563480889,0.2622882094991329,0.0995568584287081,0.789787268172582,0.2562582964055077,0.5641274535693623,0.695870481540231,0.5291333820413695,0.7209168124536943,0.3112792944999725,0.4530564558675638,0.6813225154606842,0.6131119528994209,0.21088368824328474,0.10311517698886274,0.6150089655356252,0.6828464983255089,0.7142716698742871,0.6077570811928239,0.15783970233012634,0.4646654613369302,0.6866733910118213,0.6107765174778549,0.3841312358847212,0.08568931743425123,0.09687151326059784,0.07820343343376668,0.6999514687669061,0.8257084690873402,0.49154207629545377,0.10630660206326537,0.6145307783647488,0.28093254318727157,0.7038395743025673,0.8378750056756914,0.8164804312578218,0.6814520701783303,0.2734577595351033,0.44578882986916224,0.07238860384405144,0.5470895841149398,0.5336498111144031,0.2636960855968923,0.4583194065294648,0.7330104749961913,0.7167710741150736,0.5879754063733805,0.5041208687926131,0.812850799879122,0.5777710690601321,0.7502901252655352,0.3698273520765195,0.49815536042227326,0.5401806264495732,0.00339335864709267,0.20557507826572918,0.6942822388401947,0.5499123643313576,0.7473670611554153,0.22518552180343965,0.27348576815221515,0.013230876380697754,0.366265410750407,0.2730966934090149,0.5316808318102234,0.1839930232710948,0.30928680534511466,0.9877269020595887,0.611069100667293,0.6112637138538379,0.5762803753877758,0.12683682571808552,0.41455719224933896,0.5160683421895274,0.9455884471132239,0.3536798562346585,0.6755417960643282,0.5358259734804577,0.6910530395149471,0.5376616538435025,0.9638959684511414,0.1643621600331675,0.17741483126852797,0.18428909320272047,0.0899740160021153,0.9420345476188904,0.2581761159639352,0.7376807927101153,0.8733246035555435,0.9286627201443846,0.8949346917381055,0.05199341606808772,0.8248178729788328,0.6215793999577826,0.7363896995667216,0.9413153457624973,0.7386717027915037,0.6279105409102677,0.6811766184675357,0.03854464153218784,0.8566298360981639,0.8216679733541031,0.3431478680674819,0.746077514799188,0.5810997422310737,0.4742691348378162,0.871887963259064,0.23541141982583857,0.10366083573101925,0.22231434638917658,0.696475490521437,0.4377845176358207,0.2182738278377997,0.924409699583669,0.6461298926791121,0.3102882245728431,0.4689694982969672,0.18461319088382366,0.32229881914757796,0.5199973256796134,0.5552030401316955,0.08852747792602744,0.5057214312249863,0.5659956748987589,0.7647933290010122,0.8717497626703347,0.5473786540134109,0.35440151326483627,0.8937142479185869,0.14896638261378925,0.8748831961647736,0.8313829313852069,0.9360170155949543,0.3750673830263932,0.6145141823840963,0.53905747811014,0.5430065108746223,0.7368455318365824,0.8170776658840405,0.3078426290977281,0.6666774541381176,0.06033058726103757,0.1822863147488435,0.7775617756219623,0.3522436725590681,0.3669949326888341,0.31939738697397935,0.13678627544677768,0.4303364987760532,0.8065256307039236,0.5177452154639745,0.5016996753293875,0.6053089377767825,0.008385629385945892,0.4002742462921667,0.40514588442923216,0.9166012879218031,0.8986769052288937,0.7171046617646925,0.7880840329719783,0.0017735819646554907,0.844715017754717,0.7100585063747223,0.7215975106871193,0.9659271323851214,0.48173643640732466,0.6834018170051374,0.5133645455090924,0.7146415564206788,0.059936573746434685,0.465439811723555,0.8536136482054689,0.536225323945142,0.4431449234999536,0.9610554255866932,0.39566554790205666,0.32310197199924573,0.6326069959967954,0.6670585171607095,0.6222341746338811,0.374937798723764,0.7596770139677582,0.2563990207862633,0.8692666305734787,0.22153171766173307,0.5677913175025919,0.5730908466732532,0.613833742039393,0.0710675789865387,0.18433145776407767,0.8373074231422549,0.5441538434746529,0.5860903586513785,0.056190175283016064,0.403998076845444,0.13350391019393715,0.19760546941507207,0.3268397516414234,0.1292033862691505,0.7381094892478005,0.20837804946419536,0.21163801168912255,0.5196470357558014,0.3300802415678521,0.8120003761148928,0.38891544545252354,0.921953672962201,0.08648402596505744,0.1596747494177594,0.28871952403066026,0.10753464602759244,0.8002395522099712,0.41376946067265774,0.3430579489461866,0.0958013999776699,0.4524027907438696,0.625542878101695,0.1818097858558031,0.4351036949631918,0.512707031056763,0.9389920162213163,0.5107806617141791,0.13950662470179964,0.43939033906253655,0.8895195687520897,0.024622149426826834,0.6623531826608827,0.93136651911646,0.31604233508381774,0.3209124221301528,0.24442556314176578,0.5748053840954337,0.5395412712805583,0.46583360197759116,0.6631263892495867,0.6082018000926468,0.8497410181551888,0.8356470383219249,0.5022532080076353,0.2860465561630202,0.38292690083628944,0.10434307640576357,0.16549182864903478,0.21039378831402789,0.4397107049889867,0.44441802228729066,0.6069713796376709,0.5685543064777828,0.5930375364054175,0.08696815695887117,0.7022112939480636,0.08957771190763864,0.08334537994561109,0.8313755436037161,0.9258320252986061,0.30856062517034777,0.03126339167180736,0.6182025475608575,0.8892585573918634,0.33564469559694565,0.43488990632063307,0.2686542267575195,0.724912896840269,0.828901092876765,0.32502606452490934,0.43556434409269196,0.9472160993825081,0.166927237008614,0.6480309159751897,0.13343737117392163,0.7074014355337901,0.2775609227520477,0.10368334371621346,0.4897485142272473,0.8211400061200059,0.7654630005778499,0.6797891126905807,0.24240212424881058,0.580110081987227,0.3043193974273263,0.38385850704299995,0.12468871401853021,0.8796641848557872,0.6800074077001036,0.5057637805321069,0.5692769231036265,0.8719276400977065,0.1772035047492978,0.7853450174661231,0.33211471214822075,0.523944122319471,0.6637429489248415,0.07991841964720992,0.32165842245668486,0.9919919175370623,0.619118341358098,0.02654906445349159,0.04538865691819438,0.26592670477200586,0.41408466650424847,0.7781224531916806,0.45103755480895313,0.4838673175522844,0.8113615516363079,0.9662357022965914,0.5546905083400324,0.08805253749526998,0.7277782754759257,0.7414321753128698,0.3113325405429962,0.8872794781631876,0.5081737627237267,0.40148438949673415,0.9918807781255184,0.867321888872511,0.404625699001523,0.7704050693536693,0.16429097840927742,0.5019842605701621,0.07951231769706435,0.8147241076037695,0.4542241702247698,0.6987068514201751,0.8194150775949703,0.2150838566707749,0.539869084728436,0.6880842677759963,0.1580763180985444,0.10971108436754795,0.15464982315812026,0.655869230614714,0.19764699608655467,0.8164165906011774,0.8206780486536857,0.6873241160327923,0.9131583283347939,0.553036217451262,0.08821626000553995,0.5511783020929716,0.6838761745068956,0.8663117089821437,0.1823798661599153,0.9329006392952721,0.6336444152396047,0.5496273106467072,0.7132975446099852,0.3199241264749657,0.23591517686339059,0.32058853356696926,0.2695825534821428,0.7649241383146101,0.2844896080372421,0.12407817251859021,0.19065648581541084,0.563325382317545,0.09816740270079016,0.01247873344320194,0.837621355168681,0.3859149173344345,0.20072224590085663,0.40719305946215734,0.2930170348144491,0.8334218049559545,0.7771659423128882,0.7773302127944475,0.2963208052379175,0.3252102175813899,0.45350701883657807,0.756608732946794,0.35830450053608187,0.5793349414879393,0.8066067937899052,0.6030046190337756,0.02451813214870291,0.7708809779104475,0.6684728709745785,0.5028041295945055,0.5262669985280259,0.7356595774600535,0.2982941049157384,0.4225019391939866,0.7992576917042552,0.9777073609993712,0.43283172715961216,0.2785099545896219,0.6618342173058273,0.4595083577878274,0.44609523923034855,0.031745617157470374,0.235519435339145,0.9234072698438293,0.3502115996415617,0.4155957712046432,0.7463388678310733,0.6785599126605221,0.45089323150114824,0.9730304443295187,0.747322027167877,0.07763827795352574,0.22648670530105608,0.021760301326882447,0.48393730399150825,0.2972230420577585,0.8949122310045913,0.93772189889786,0.7967566493589884,0.9627383357542362,0.1707149943594496,0.3665042848858854,0.30019837942243255,0.049169339889110875,0.7403077552275387,0.44516963161409795,0.14717397290162026,0.5675486536096785,0.693900390236223,0.9338385792658768,0.27338479273301197,0.42523466786368513,0.7556711040088547,0.6589062552517579,0.2067959843599203,0.36285680210180726,0.0026718909382297262,0.6137008330408111,0.22176686074618246,0.5128471934982533,0.6056713784385043,0.6665731583332328,0.06830693659601483,0.8062832941560927,0.5503348968434238,0.0031838375204278346,0.25989523021883143,0.5703992440544181,0.5205150409582329,0.2888966451454419,0.17340769541465495,0.8896426362462312,0.08027401743949214,0.44053544587038596,0.6355465226388817,0.5415369602563043,0.606438981392824,0.3611405908163722,0.39580394624739434,0.06713366867624071,0.28902234943212113,0.6286836327796065,0.5460810759840474,0.21605713624609635,0.5592623457446,0.7531888504868808,0.42243815560788367,0.4678803340429524,0.5139561042744677,0.25446375813917466],\"y\":[0.32387179983736436,0.2511847915165263,0.1576469868802397,0.8525172825713433,0.9649763949531,0.9253163020644821,0.49193535269579003,0.06302115259151952,0.12536913318257503,0.9688085377863107,0.9780554818041475,0.5374276753461795,0.5556997611266953,0.3772207859308727,0.03248738675324381,0.9045877451537759,0.268988646753053,0.8641480284711394,0.9973819874320238,0.5007215102085532,0.7098210201382473,0.5375990115241195,0.5348532522190862,0.5892588886243341,0.8647525529989966,0.776501611718938,0.6829455140017144,0.7237351217184147,0.9186653036395056,0.575794770753245,0.6523082898979276,0.8798745633375242,0.9770396655251137,0.8598435914572117,0.43993168825540696,0.5600696096536537,0.2442457737289514,0.611519463103682,0.9967904825400068,0.5779177949708579,0.017276484143805115,0.47533836676859986,0.2173699323204561,0.026493090108739903,0.7981410135764264,0.8561707969496231,0.768901279571901,0.36070782736520646,0.8014205727544282,0.5725515161712001,0.814937917419873,0.14980342098440835,0.8660932525831911,0.763694646596315,0.4443271556882833,0.7596375708399767,0.30559630280430694,0.260430781425775,0.9145230805365406,0.3824409518454964,0.7655706096992637,0.37291746031974016,0.3348322217699843,0.6159812068177244,0.7994571042524771,0.34277902008057337,0.6479594985325506,0.8869988739299624,0.6419981961534506,0.5958584755897832,0.04364438574063145,0.9720785108977738,0.08815390408087798,0.22797470002669817,0.714220066575732,0.14979899595386004,0.8404841438404301,0.5414124757982677,0.7071187495927715,0.4315837382111849,0.22452912388410762,0.09972109615106861,0.6105596136477415,0.9231442535145323,0.8093166201633069,0.7922302508189594,0.9348980302046638,0.6511626080941398,0.9814224942371216,0.11869553835427082,0.560070295927853,0.9268070934769792,0.3587505193189571,0.6608266286368263,0.8362742963889465,0.8305280808541473,0.5010721671414771,0.37153749304237427,0.7676137647084629,0.33262463077126503,0.6799688213394731,0.3443308673709198,0.43799006418234,0.7202866958467379,0.9502445334744039,0.07751390297991856,0.3105517390036179,0.30219584139789335,0.926512193114892,0.8833308446297246,0.17693988435593366,0.9957811305299871,0.9235268785689075,0.43668893988248847,0.24523426576637886,0.27747455405574484,0.897327732762767,0.6451660093396935,0.7435645401635697,0.43388266006843,0.07304882884036212,0.8674704551307468,0.1573810809222952,0.7662677211941239,0.5670159305518079,0.23591124962324772,0.7275109707984148,0.6755110503102723,0.9169800020233946,0.229104934064579,0.9815248113248888,0.7881166697129751,0.8935902927545191,0.4438094868060424,0.5735636660714473,0.7365574574029253,0.7513036175785734,0.9204710632075357,0.8045931467597902,0.30119530236482606,0.4360332030518439,0.24170066689975134,0.10913015528097103,0.654217619163466,0.20527267748318734,0.9718825061527274,0.11216797717235649,0.5272943822030446,0.1639757502901752,0.5034343146250216,0.4525552985430188,0.6144294201858016,0.3266280965376901,0.24406442999041922,0.6512631001975273,0.8373133072812804,0.9490576269120319,0.990537263509991,0.9640243189847156,0.6006110051599794,0.899609051142907,0.02502038330767009,0.13135779003998493,0.25964099726494017,0.5668186534317409,0.2490050338836125,0.147931340499328,0.3921255476365334,0.38722449972063056,0.768625906481266,0.06786835114845713,0.528256270373596,0.031305884141232254,0.8904217721111269,0.5036898601187392,0.8862472956987751,0.5899803792566808,0.12980080759486157,0.6501141846315559,0.38261122576497897,0.2381619108304689,0.11787296639217004,0.16787337419151072,0.25631033235812584,0.4954813998112486,0.8520872832453809,0.40222878416914654,0.9916165583536914,0.3994883529158948,0.04923299017005556,0.16570406986948294,0.6030694673606907,0.6818092847590042,0.7073432295186972,0.04925515559879601,0.6039297175871198,0.5742308216385592,0.9323260067301691,0.34740318165244355,0.32923883289826483,0.9796813303455503,0.24426486001336167,0.1464851199207674,0.07148558267417959,0.21037378078816582,0.949404920924342,0.5053949988970936,0.8496788120201078,0.8806369201595047,0.21025604814341525,0.5131301796150208,0.9066274531229243,0.21874570502724822,0.45272653589766654,0.290310040302041,0.8954346105111186,0.4067297622224326,0.6383726164171352,0.5536145045163036,0.1541600185426646,0.724101919379662,0.030442666827013465,0.07960226943768245,0.9588094200193483,0.7257873393630497,0.4241968671933525,0.9570413454595733,0.8485518547474847,0.6610634318865394,0.9768386059553956,0.771129886293582,0.16668786283634773,0.9811023173181045,0.7312695062189984,0.6814538610883013,0.012154368251725112,0.35856858104772316,0.18043346831028384,0.4728461364305173,0.11009039102239893,0.1839986308715622,0.5104347343758197,0.3184192983242141,0.8280166976369515,0.8473687302465531,0.9155155911337669,0.003734876519576824,0.07975891577124827,0.9454585274027679,0.6625041488864745,0.7597049703756528,0.5820371977304062,0.07342957185906274,0.9752945593708494,0.40371015285621237,0.5904403789769854,0.6831870463889081,0.9597304610579462,0.10170507935991868,0.07934269472537003,0.2590828235372298,0.49947793820244324,0.3145207041867891,0.38887556317791283,0.9025212600947325,0.24629614984226844,0.4011354449795569,0.21651203279369347,0.7388706071591987,0.15683675297759514,0.5089272274809756,0.4282563675361579,0.6278705527685493,0.09498872277898063,0.05256482440138355,0.6741227800186442,0.6097786727595511,0.16982024572550236,0.29468057420857396,0.7172141425175059,0.05880622177284167,0.7678267146539071,0.9443446717187334,0.9181306251222768,0.774908167650335,0.7392355153530042,0.23034398821704394,0.5706761750793542,0.77783740630451,0.7941845978998471,0.6663609167538525,0.448507692097597,0.22547225398145543,0.6072907713440997,0.35382315626096084,0.43488228113741256,0.30199056670533286,0.795960680586932,0.9821364059983563,0.05605856335322168,0.886357944763019,0.4042809848007708,0.2040887752272521,0.7689826578235189,0.7690973900610265,0.9277280611936561,0.7306134023749555,0.46729025790251266,0.8359751280027482,0.17725039914984164,0.7404823446414401,0.1342678388086428,0.20495535735900994,0.00960938590869842,0.4333772594605423,0.0733400716002689,0.1419711705550608,0.3972889996088387,0.3958960764096604,0.36946030522051965,0.5747787432525937,0.5451721603898673,0.1814849684440215,0.7786811058530083,0.7452526498186293,0.06796734146117733,0.027906469684543578,0.38191321728886185,0.3335304462967913,0.7113731630183411,0.20476306511748799,0.0691923913304161,0.6097691639517686,0.7650154400783272,0.5692854608140764,0.5809498120956454,0.013009758790276327,0.17975438354589202,0.4347213087119811,0.5599308395618883,0.8568662581380456,0.8750766983319326,0.7342962501543379,0.6518768130300846,0.07267631534722618,0.7012300085297241,0.20755863605603286,0.56294555676855,0.3995656694946018,0.9627580924314016,0.9481939819981244,0.46652105517416564,0.3347733036523697,0.6125831193439669,0.9865430405088484,0.03535913738071639,0.886192501632172,0.2282476933426193,0.8992054721508397,0.6078269529046624,0.7036563174395488,0.6718647996298424,0.9489573619714959,0.8401308071859429,0.19109852805300076,0.6001912648107268,0.09378720188945533,0.3486746264417834,0.7108396047112212,0.19669644621317894,0.4152561099232507,0.49377659174219324,0.6939551585751047,0.2570634563531703,0.9128916676226485,0.585542200276862,0.779527286103802,0.42796247802577225,0.9663777498095788,0.2329792596645548,0.0024954859617862812,0.7973291359528294,0.5747345881682233,0.45577698357356977,0.943118517635919,0.18587113979332592,0.37904962596201264,0.17326795837762643,0.714323710939957,0.18115691156214853,0.28491801878766865,0.7427359114467164,0.44266821766470954,0.6324839118305334,0.12336838384526727,0.9450381192468577,0.5847329238876412,0.5238222428209393,0.3116826555002351,0.7779998727916239,0.4625038245940397,0.7960168978785748,0.2646981394097687,0.2880400171601383,0.42150981068525584,0.36850496398939714,0.855803838777888,0.24554009308103386,0.2633404758327399,0.3410907251453047,0.5807805304694651,0.5627778821496365,0.2321589864442719,0.2610439481741279,0.6732152757221891,0.3950600865445929,0.3901110573856835,0.5544135661470582,0.6690143282687152,0.10277148587801854,0.39961272821976157,0.2816242814350023,0.8755510867594806,0.71836307930376,0.4729125352915311,0.16077185062765964,0.4379510596075058,0.3344329729631479,0.9252580493621574,0.6451188011233693,0.11522335994754107,0.21398545735682617,0.4254594935788737,0.0022129819919246563,0.7038313383926018,0.2110171101219025,0.7807761607469866,0.6574313017794007,0.35781363236216845,0.9001237737807333,0.10975986690657724,0.2816443136044138,0.30516391101378115,0.19801916183683632,0.7386992111643488,0.39962631965717765,0.37330607899419777,0.49983905009317264,0.15739268743702506,0.48391967340406195,0.03909030002686198,0.7136294667317113,0.8322750099090239,0.9171322380827278,0.13828399435317795,0.5370656582326887,0.8755462782393333,0.39776094117733796,0.4475243461948294,0.6448174733210011,0.5253014933258994,0.30554264895519834,0.5134933133616889,0.611475308205528,0.9793003779287508,0.21604878833454766,0.427248313348921,0.8284210751774818,0.6631382402294514,0.07475271373891668,0.5748667940884465,0.7251353691900534,0.0772458781104659,0.5851755075583759,0.5600738340512134,0.893769842799239,0.11146602012949647,0.20875944536192137,0.5305979891791095,0.816865545906154,0.6690835798701137,0.21446091085428842,0.8311469972145081,0.33944457348462576,0.6027662247587,0.10603226942051014,0.7647213317043761,0.049228768734080885,0.359883172235016,0.7446001202237742,0.4702605290822487,0.6067812195729744,0.5388371393983903,0.25589567510608835,0.06739489460716885,0.2893553344113533,0.014299518735604644,0.48246785741331233,0.6337651348537625,0.36624192575748415]},\"selected\":{\"id\":\"2118\",\"type\":\"Selection\"},\"selection_policy\":{\"id\":\"2117\",\"type\":\"UnionRenderers\"}},\"id\":\"2005\",\"type\":\"ColumnDataSource\"},{\"attributes\":{\"data_source\":{\"id\":\"2005\",\"type\":\"ColumnDataSource\"},\"glyph\":{\"id\":\"2033\",\"type\":\"Circle\"},\"hover_glyph\":null,\"muted_glyph\":null,\"nonselection_glyph\":{\"id\":\"2034\",\"type\":\"Circle\"},\"selection_glyph\":{\"id\":\"2035\",\"type\":\"Circle\"},\"view\":{\"id\":\"2037\",\"type\":\"CDSView\"}},\"id\":\"2036\",\"type\":\"GlyphRenderer\"},{\"attributes\":{\"callback\":null},\"id\":\"2009\",\"type\":\"DataRange1d\"},{\"attributes\":{\"source\":{\"id\":\"2005\",\"type\":\"ColumnDataSource\"}},\"id\":\"2037\",\"type\":\"CDSView\"},{\"attributes\":{\"callback\":null},\"id\":\"2011\",\"type\":\"DataRange1d\"},{\"attributes\":{},\"id\":\"2115\",\"type\":\"BasicTickFormatter\"},{\"attributes\":{},\"id\":\"2013\",\"type\":\"LinearScale\"},{\"attributes\":{},\"id\":\"2015\",\"type\":\"LinearScale\"},{\"attributes\":{\"line_alpha\":0.6,\"line_color\":\"orange\",\"line_width\":5,\"x\":{\"field\":\"xm\"},\"y\":{\"field\":\"ym\"}},\"id\":\"2040\",\"type\":\"Line\"},{\"attributes\":{\"formatter\":{\"id\":\"2115\",\"type\":\"BasicTickFormatter\"},\"plot\":{\"id\":\"2007\",\"subtype\":\"Figure\",\"type\":\"Plot\"},\"ticker\":{\"id\":\"2018\",\"type\":\"BasicTicker\"}},\"id\":\"2017\",\"type\":\"LinearAxis\"},{\"attributes\":{\"line_alpha\":0.1,\"line_color\":\"#1f77b4\",\"line_width\":5,\"x\":{\"field\":\"xm\"},\"y\":{\"field\":\"ym\"}},\"id\":\"2041\",\"type\":\"Line\"},{\"attributes\":{},\"id\":\"2113\",\"type\":\"BasicTickFormatter\"},{\"attributes\":{\"data_source\":{\"id\":\"2038\",\"type\":\"ColumnDataSource\"},\"glyph\":{\"id\":\"2040\",\"type\":\"Line\"},\"hover_glyph\":null,\"muted_glyph\":null,\"nonselection_glyph\":{\"id\":\"2041\",\"type\":\"Line\"},\"selection_glyph\":null,\"view\":{\"id\":\"2043\",\"type\":\"CDSView\"}},\"id\":\"2042\",\"type\":\"GlyphRenderer\"},{\"attributes\":{},\"id\":\"2018\",\"type\":\"BasicTicker\"},{\"attributes\":{},\"id\":\"2117\",\"type\":\"UnionRenderers\"},{\"attributes\":{\"plot\":{\"id\":\"2007\",\"subtype\":\"Figure\",\"type\":\"Plot\"},\"ticker\":{\"id\":\"2018\",\"type\":\"BasicTicker\"}},\"id\":\"2021\",\"type\":\"Grid\"},{\"attributes\":{},\"id\":\"2118\",\"type\":\"Selection\"},{\"attributes\":{\"formatter\":{\"id\":\"2113\",\"type\":\"BasicTickFormatter\"},\"plot\":{\"id\":\"2007\",\"subtype\":\"Figure\",\"type\":\"Plot\"},\"ticker\":{\"id\":\"2023\",\"type\":\"BasicTicker\"}},\"id\":\"2022\",\"type\":\"LinearAxis\"},{\"attributes\":{},\"id\":\"2119\",\"type\":\"UnionRenderers\"},{\"attributes\":{},\"id\":\"2023\",\"type\":\"BasicTicker\"},{\"attributes\":{},\"id\":\"2120\",\"type\":\"Selection\"},{\"attributes\":{\"dimension\":1,\"plot\":{\"id\":\"2007\",\"subtype\":\"Figure\",\"type\":\"Plot\"},\"ticker\":{\"id\":\"2023\",\"type\":\"BasicTicker\"}},\"id\":\"2026\",\"type\":\"Grid\"},{\"attributes\":{\"fill_alpha\":{\"value\":0.4},\"fill_color\":{\"field\":\"color\"},\"line_alpha\":{\"value\":0.4},\"line_color\":{\"field\":\"color\"},\"size\":{\"units\":\"screen\",\"value\":8},\"x\":{\"field\":\"x\"},\"y\":{\"field\":\"y\"}},\"id\":\"2033\",\"type\":\"Circle\"},{\"attributes\":{\"callback\":null,\"overlay\":{\"id\":\"2028\",\"type\":\"PolyAnnotation\"}},\"id\":\"2027\",\"type\":\"LassoSelectTool\"}],\"root_ids\":[\"2007\"]},\"title\":\"Bokeh Application\",\"version\":\"1.0.1\"}};\n",
       "  var render_items = [{\"docid\":\"24452af8-67b6-4234-a5c1-1f2ae554ba13\",\"roots\":{\"2007\":\"745ab6a7-7696-4bfe-a82e-e7f71cd55ba4\"}}];\n",
       "  root.Bokeh.embed.embed_items_notebook(docs_json, render_items);\n",
       "\n",
       "  }\n",
       "  if (root.Bokeh !== undefined) {\n",
       "    embed_document(root);\n",
       "  } else {\n",
       "    var attempts = 0;\n",
       "    var timer = setInterval(function(root) {\n",
       "      if (root.Bokeh !== undefined) {\n",
       "        embed_document(root);\n",
       "        clearInterval(timer);\n",
       "      }\n",
       "      attempts++;\n",
       "      if (attempts > 100) {\n",
       "        console.log(\"Bokeh: ERROR: Unable to run BokehJS code because BokehJS library is missing\");\n",
       "        clearInterval(timer);\n",
       "      }\n",
       "    }, 10, root)\n",
       "  }\n",
       "})(window);"
      ],
      "application/vnd.bokehjs_exec.v0+json": ""
     },
     "metadata": {
      "application/vnd.bokehjs_exec.v0+json": {
       "id": "2007"
      }
     },
     "output_type": "display_data"
    }
   ],
   "source": [
    "from random import random\n",
    "\n",
    "x = [random() for x in range(500)]\n",
    "y = [random() for y in range(500)]\n",
    "color = [\"navy\"] * len(x)\n",
    "\n",
    "s1 = ColumnDataSource(data=dict(x=x, y=y, color=color))\n",
    "p = figure(plot_width=400, plot_height=400, tools=\"lasso_select\", title=\"Select Here\")\n",
    "p.circle('x', 'y', color='color', size=8, alpha=0.4, source=s1, \n",
    "         selection_color=\"firebrick\", selection_alpha=0.4)\n",
    "\n",
    "s2 = ColumnDataSource(data=dict(xm=[0,1],ym=[0.5, 0.5]))\n",
    "p.line(x='xm', y='ym', color=\"orange\", line_width=5, alpha=0.6, source=s2)\n",
    "\n",
    "s1.callback = CustomJS(args=dict(s1=s1, s2=s2), code=\"\"\"\n",
    "    var inds = s1.selected.indices;\n",
    "    if (inds.length == 0)\n",
    "        return;\n",
    "\n",
    "    var ym = 0\n",
    "    for (var i = 0; i < inds.length; i++) {\n",
    "        ym += s1.data.y[inds[i]]\n",
    "    }\n",
    "    \n",
    "    ym /= inds.length\n",
    "    s2.data.ym = [ym, ym]\n",
    "\n",
    "    // necessary becasue we mutated source.data in-place\n",
    "    s2.change.emit();  \n",
    "\"\"\")\n",
    "\n",
    "show(p)"
   ]
  },
  {
   "cell_type": "code",
   "execution_count": 13,
   "metadata": {
    "collapsed": true
   },
   "outputs": [],
   "source": [
    "# Exercise: Experiment with selection callbacks\n",
    "\n"
   ]
  },
  {
   "cell_type": "markdown",
   "metadata": {
    "collapsed": true
   },
   "source": [
    "## CustomJS for UI Events\n",
    "\n",
    "Bokeh also has a general events system\n",
    "\n",
    "All of the available UI events, and their properties, are listed in the Reference Guide section for [bokeh.events](https://bokeh.pydata.org/en/latest/docs/reference/events.html)"
   ]
  },
  {
   "cell_type": "code",
   "execution_count": 10,
   "metadata": {},
   "outputs": [
    {
     "data": {
      "text/html": [
       "\n",
       "\n",
       "\n",
       "\n",
       "\n",
       "\n",
       "  <div class=\"bk-root\" id=\"9056d458-eecd-4c44-9bfa-6be23bb0bbcc\"></div>\n"
      ]
     },
     "metadata": {},
     "output_type": "display_data"
    },
    {
     "data": {
      "application/javascript": [
       "(function(root) {\n",
       "  function embed_document(root) {\n",
       "    \n",
       "  var docs_json = {\"a3b4857a-b0ae-4046-9c0f-13d19236965b\":{\"roots\":{\"references\":[{\"attributes\":{\"children\":[{\"id\":\"2214\",\"type\":\"WidgetBox\"},{\"id\":\"2213\",\"type\":\"Row\"}]},\"id\":\"2215\",\"type\":\"Column\"},{\"attributes\":{\"below\":[{\"id\":\"2190\",\"type\":\"LinearAxis\"}],\"js_event_callbacks\":{\"selectiongeometry\":[{\"id\":\"2217\",\"type\":\"CustomJS\"}]},\"left\":[{\"id\":\"2195\",\"type\":\"LinearAxis\"}],\"renderers\":[{\"id\":\"2190\",\"type\":\"LinearAxis\"},{\"id\":\"2194\",\"type\":\"Grid\"},{\"id\":\"2195\",\"type\":\"LinearAxis\"},{\"id\":\"2199\",\"type\":\"Grid\"},{\"id\":\"2201\",\"type\":\"BoxAnnotation\"},{\"id\":\"2208\",\"type\":\"GlyphRenderer\"}],\"title\":{\"id\":\"2295\",\"type\":\"Title\"},\"toolbar\":{\"id\":\"2203\",\"type\":\"Toolbar\"},\"x_range\":{\"id\":\"2182\",\"type\":\"DataRange1d\"},\"x_scale\":{\"id\":\"2186\",\"type\":\"LinearScale\"},\"y_range\":{\"id\":\"2184\",\"type\":\"DataRange1d\"},\"y_scale\":{\"id\":\"2188\",\"type\":\"LinearScale\"}},\"id\":\"2181\",\"subtype\":\"Figure\",\"type\":\"Plot\"},{\"attributes\":{\"args\":{\"div\":{\"id\":\"2210\",\"type\":\"Div\"}},\"code\":\"\\ndiv.text = \\\"Button!\\\";\\n\"},\"id\":\"2216\",\"type\":\"CustomJS\"},{\"attributes\":{\"callback\":null,\"icon\":null,\"js_event_callbacks\":{\"button_click\":[{\"id\":\"2216\",\"type\":\"CustomJS\"}]}},\"id\":\"2211\",\"type\":\"Button\"},{\"attributes\":{\"source\":{\"id\":\"2205\",\"type\":\"ColumnDataSource\"}},\"id\":\"2209\",\"type\":\"CDSView\"},{\"attributes\":{\"children\":[{\"id\":\"2211\",\"type\":\"Button\"}]},\"id\":\"2214\",\"type\":\"WidgetBox\"},{\"attributes\":{\"callback\":null},\"id\":\"2184\",\"type\":\"DataRange1d\"},{\"attributes\":{\"args\":{\"div\":{\"id\":\"2210\",\"type\":\"Div\"}},\"code\":\"\\ndiv.text = \\\"Selection! <p> <p>\\\" + JSON.stringify(cb_obj.geometry, undefined, 2);\\n\"},\"id\":\"2217\",\"type\":\"CustomJS\"},{\"attributes\":{\"data_source\":{\"id\":\"2205\",\"type\":\"ColumnDataSource\"},\"glyph\":{\"id\":\"2206\",\"type\":\"Circle\"},\"hover_glyph\":null,\"muted_glyph\":null,\"nonselection_glyph\":{\"id\":\"2207\",\"type\":\"Circle\"},\"selection_glyph\":null,\"view\":{\"id\":\"2209\",\"type\":\"CDSView\"}},\"id\":\"2208\",\"type\":\"GlyphRenderer\"},{\"attributes\":{\"width\":400},\"id\":\"2210\",\"type\":\"Div\"},{\"attributes\":{},\"id\":\"2299\",\"type\":\"BasicTickFormatter\"},{\"attributes\":{\"callback\":null,\"overlay\":{\"id\":\"2201\",\"type\":\"BoxAnnotation\"}},\"id\":\"2200\",\"type\":\"BoxSelectTool\"},{\"attributes\":{},\"id\":\"2301\",\"type\":\"UnionRenderers\"},{\"attributes\":{\"bottom_units\":\"screen\",\"fill_alpha\":{\"value\":0.5},\"fill_color\":{\"value\":\"lightgrey\"},\"left_units\":\"screen\",\"level\":\"overlay\",\"line_alpha\":{\"value\":1.0},\"line_color\":{\"value\":\"black\"},\"line_dash\":[4,4],\"line_width\":{\"value\":2},\"plot\":null,\"render_mode\":\"css\",\"right_units\":\"screen\",\"top_units\":\"screen\"},\"id\":\"2201\",\"type\":\"BoxAnnotation\"},{\"attributes\":{\"fill_alpha\":{\"value\":0.6},\"fill_color\":{\"value\":\"#1f77b4\"},\"line_color\":{\"value\":null},\"radius\":{\"units\":\"data\",\"value\":1},\"x\":{\"field\":\"x\"},\"y\":{\"field\":\"y\"}},\"id\":\"2206\",\"type\":\"Circle\"},{\"attributes\":{},\"id\":\"2186\",\"type\":\"LinearScale\"},{\"attributes\":{},\"id\":\"2302\",\"type\":\"Selection\"},{\"attributes\":{\"active_drag\":\"auto\",\"active_inspect\":\"auto\",\"active_multi\":null,\"active_scroll\":\"auto\",\"active_tap\":\"auto\",\"tools\":[{\"id\":\"2200\",\"type\":\"BoxSelectTool\"}]},\"id\":\"2203\",\"type\":\"Toolbar\"},{\"attributes\":{\"fill_alpha\":{\"value\":0.1},\"fill_color\":{\"value\":\"#1f77b4\"},\"line_alpha\":{\"value\":0.1},\"line_color\":{\"value\":\"#1f77b4\"},\"radius\":{\"units\":\"data\",\"value\":1},\"x\":{\"field\":\"x\"},\"y\":{\"field\":\"y\"}},\"id\":\"2207\",\"type\":\"Circle\"},{\"attributes\":{\"callback\":null,\"data\":{\"x\":{\"__ndarray__\":\"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\",\"dtype\":\"float64\",\"shape\":[2000]},\"y\":{\"__ndarray__\":\"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\",\"dtype\":\"float64\",\"shape\":[2000]}},\"selected\":{\"id\":\"2302\",\"type\":\"Selection\"},\"selection_policy\":{\"id\":\"2301\",\"type\":\"UnionRenderers\"}},\"id\":\"2205\",\"type\":\"ColumnDataSource\"},{\"attributes\":{\"dimension\":1,\"plot\":{\"id\":\"2181\",\"subtype\":\"Figure\",\"type\":\"Plot\"},\"ticker\":{\"id\":\"2196\",\"type\":\"BasicTicker\"}},\"id\":\"2199\",\"type\":\"Grid\"},{\"attributes\":{},\"id\":\"2196\",\"type\":\"BasicTicker\"},{\"attributes\":{\"callback\":null},\"id\":\"2182\",\"type\":\"DataRange1d\"},{\"attributes\":{\"formatter\":{\"id\":\"2297\",\"type\":\"BasicTickFormatter\"},\"plot\":{\"id\":\"2181\",\"subtype\":\"Figure\",\"type\":\"Plot\"},\"ticker\":{\"id\":\"2196\",\"type\":\"BasicTicker\"}},\"id\":\"2195\",\"type\":\"LinearAxis\"},{\"attributes\":{\"plot\":{\"id\":\"2181\",\"subtype\":\"Figure\",\"type\":\"Plot\"},\"ticker\":{\"id\":\"2191\",\"type\":\"BasicTicker\"}},\"id\":\"2194\",\"type\":\"Grid\"},{\"attributes\":{\"children\":[{\"id\":\"2210\",\"type\":\"Div\"}],\"width\":400},\"id\":\"2212\",\"type\":\"WidgetBox\"},{\"attributes\":{},\"id\":\"2191\",\"type\":\"BasicTicker\"},{\"attributes\":{\"formatter\":{\"id\":\"2299\",\"type\":\"BasicTickFormatter\"},\"plot\":{\"id\":\"2181\",\"subtype\":\"Figure\",\"type\":\"Plot\"},\"ticker\":{\"id\":\"2191\",\"type\":\"BasicTicker\"}},\"id\":\"2190\",\"type\":\"LinearAxis\"},{\"attributes\":{},\"id\":\"2297\",\"type\":\"BasicTickFormatter\"},{\"attributes\":{},\"id\":\"2188\",\"type\":\"LinearScale\"},{\"attributes\":{\"children\":[{\"id\":\"2181\",\"subtype\":\"Figure\",\"type\":\"Plot\"},{\"id\":\"2212\",\"type\":\"WidgetBox\"}]},\"id\":\"2213\",\"type\":\"Row\"},{\"attributes\":{\"plot\":null,\"text\":\"\"},\"id\":\"2295\",\"type\":\"Title\"}],\"root_ids\":[\"2215\"]},\"title\":\"Bokeh Application\",\"version\":\"1.0.1\"}};\n",
       "  var render_items = [{\"docid\":\"a3b4857a-b0ae-4046-9c0f-13d19236965b\",\"roots\":{\"2215\":\"9056d458-eecd-4c44-9bfa-6be23bb0bbcc\"}}];\n",
       "  root.Bokeh.embed.embed_items_notebook(docs_json, render_items);\n",
       "\n",
       "  }\n",
       "  if (root.Bokeh !== undefined) {\n",
       "    embed_document(root);\n",
       "  } else {\n",
       "    var attempts = 0;\n",
       "    var timer = setInterval(function(root) {\n",
       "      if (root.Bokeh !== undefined) {\n",
       "        embed_document(root);\n",
       "        clearInterval(timer);\n",
       "      }\n",
       "      attempts++;\n",
       "      if (attempts > 100) {\n",
       "        console.log(\"Bokeh: ERROR: Unable to run BokehJS code because BokehJS library is missing\");\n",
       "        clearInterval(timer);\n",
       "      }\n",
       "    }, 10, root)\n",
       "  }\n",
       "})(window);"
      ],
      "application/vnd.bokehjs_exec.v0+json": ""
     },
     "metadata": {
      "application/vnd.bokehjs_exec.v0+json": {
       "id": "2215"
      }
     },
     "output_type": "display_data"
    }
   ],
   "source": [
    "from bokeh.plotting import figure\n",
    "from bokeh import events\n",
    "from bokeh.models import CustomJS, Div, Button\n",
    "from bokeh.layouts import column, row\n",
    "\n",
    "import numpy as np\n",
    "x = np.random.random(size=2000) * 100\n",
    "y = np.random.random(size=2000) * 100\n",
    "\n",
    "p = figure(tools=\"box_select\")\n",
    "p.scatter(x, y, radius=1, fill_alpha=0.6, line_color=None)\n",
    "\n",
    "div = Div(width=400)\n",
    "button = Button(label=\"Button\")\n",
    "layout = column(button, row(p, div))\n",
    "\n",
    "# Events with no attributes\n",
    "button.js_on_event(events.ButtonClick,  CustomJS(args=dict(div=div), code=\"\"\"\n",
    "div.text = \"Button!\";\n",
    "\"\"\")) \n",
    "\n",
    "p.js_on_event(events.SelectionGeometry, CustomJS(args=dict(div=div), code=\"\"\"\n",
    "div.text = \"Selection! <p> <p>\" + JSON.stringify(cb_obj.geometry, undefined, 2);\n",
    "\"\"\"))\n",
    "\n",
    "show(layout)"
   ]
  },
  {
   "cell_type": "code",
   "execution_count": 15,
   "metadata": {
    "collapsed": true
   },
   "outputs": [],
   "source": [
    "# Exercise: Create a plot that responds to different events from bokeh.events\n",
    "\n"
   ]
  },
  {
   "cell_type": "markdown",
   "metadata": {
    "collapsed": true
   },
   "source": [
    "## Additional Information\n",
    "\n",
    "There are many kinds of interactions and events that can be connected to `CustomJS` callbacks. \n",
    "\n",
    "\n",
    "* Widgets - Button, Toggle, Dropdown, TextInput, AutocompleteInput, Select, Multiselect, Slider, (DateRangeSlider), DatePicker,\n",
    "* Tools - TapTool, BoxSelectTool, HoverTool,\n",
    "* Selection - ColumnDataSource, AjaxDataSource, BlazeDataSource, ServerDataSource\n",
    "* Ranges - Range1d, DataRange1d, FactorRange\n",
    "\n",
    "\n",
    "For more complete examples the User Guide section on [JavaScript Interactions](http://bokeh.pydata.org/en/latest/docs/user_guide/interaction.html)"
   ]
  },
  {
   "cell_type": "code",
   "execution_count": null,
   "metadata": {
    "collapsed": true
   },
   "outputs": [],
   "source": []
  }
 ],
 "metadata": {
  "anaconda-cloud": {},
  "kernelspec": {
   "display_name": "Python [default]",
   "language": "python",
   "name": "python3"
  },
  "language_info": {
   "codemirror_mode": {
    "name": "ipython",
    "version": 3
   },
   "file_extension": ".py",
   "mimetype": "text/x-python",
   "name": "python",
   "nbconvert_exporter": "python",
   "pygments_lexer": "ipython3",
   "version": "3.6.3"
  },
  "widgets": {
   "state": {
    "335ae2c8ff80469e9adac668c2924989": {
     "views": [
      {
       "cell_index": 19
      }
     ]
    }
   },
   "version": "1.2.0"
  }
 },
 "nbformat": 4,
 "nbformat_minor": 1
}
